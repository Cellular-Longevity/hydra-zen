{
 "cells": [
  {
   "cell_type": "code",
   "execution_count": 1,
   "metadata": {},
   "outputs": [],
   "source": [
    "#from hydra_zen import add_batteries, add_func_conf, ConfMode, _add_batteries, cs, zen_dry_run, launch_and_instantiate\n",
    "from hydra_zen.structured_configs._add_conf import ConfMode, add_batteries, add_batteries, BatteriesIncludedConf, cs\n",
    "from hydra_zen import launch, instantiate, store\n",
    "from typing import Any, List\n",
    "from omegaconf import MISSING\n",
    "%load_ext autoreload \n",
    "%autoreload 2\n",
    "%config Completer.use_jedi = False"
   ]
  },
  {
   "cell_type": "code",
   "execution_count": 2,
   "metadata": {},
   "outputs": [],
   "source": [
    "def launch_and_instantiate(cfg):\n",
    "    \"\"\"It takes a configuration object and returns a class object. Intended to be called by\n",
    "    hydra_zen.launch.\n",
    "\n",
    "    Args:\n",
    "        cfg: a dictionary of parameters for the model.\n",
    "\n",
    "    Returns:\n",
    "        The instantiated class.\n",
    "    \"\"\"\n",
    "    C = instantiate(cfg)\n",
    "    return C"
   ]
  },
  {
   "attachments": {},
   "cell_type": "markdown",
   "metadata": {},
   "source": [
    "# using `add_batteries`"
   ]
  },
  {
   "cell_type": "markdown",
   "metadata": {},
   "source": [
    "## decorate a newly defined class"
   ]
  },
  {
   "cell_type": "code",
   "execution_count": 3,
   "metadata": {},
   "outputs": [
    {
     "data": {
      "text/plain": [
       "MyClass(dog, 3)"
      ]
     },
     "execution_count": 3,
     "metadata": {},
     "output_type": "execute_result"
    }
   ],
   "source": [
    "@add_batteries\n",
    "class MyClass:\n",
    "    def __init__(\n",
    "        self,\n",
    "        a:str='dog', \n",
    "        b:int=3,\n",
    "        ):\n",
    "        self.a = a\n",
    "        self.b = b\n",
    "        \n",
    "    def __repr__(self):\n",
    "        return f'MyClass({self.a}, {self.b})'\n",
    "    \n",
    "MyClass()"
   ]
  },
  {
   "cell_type": "code",
   "execution_count": 4,
   "metadata": {},
   "outputs": [
    {
     "data": {
      "text/plain": [
       "types.Builds_MyClass"
      ]
     },
     "execution_count": 4,
     "metadata": {},
     "output_type": "execute_result"
    }
   ],
   "source": [
    "# class object has a configuration dataclass attached as .Conf attribute\n",
    "MyClass.Conf # .Conf attribute is a class object (not an instance)"
   ]
  },
  {
   "cell_type": "code",
   "execution_count": 5,
   "metadata": {},
   "outputs": [
    {
     "data": {
      "text/plain": [
       "Builds_MyClass(_target_='hydra_zen.funcs.zen_processing', _zen_target='__main__.MyClass', _zen_exclude=('name_', 'group_', 'package_', 'provider_', 'defaults'), a='dog', b=3, name_=None, group_=None, package_='_group_', provider_=None, defaults=['_self_'])"
      ]
     },
     "execution_count": 5,
     "metadata": {},
     "output_type": "execute_result"
    }
   ],
   "source": [
    "# you can use .Conf just like a class method\n",
    "# e.g. instantiate a config dataclass with default objects\n",
    "MyClass.Conf()"
   ]
  },
  {
   "cell_type": "code",
   "execution_count": 6,
   "metadata": {},
   "outputs": [
    {
     "data": {
      "text/plain": [
       "Builds_MyClass(_target_='hydra_zen.funcs.zen_processing', _zen_target='__main__.MyClass', _zen_exclude=('name_', 'group_', 'package_', 'provider_', 'defaults'), a='Bloom', b=999, name_=None, group_=None, package_='_group_', provider_=None, defaults=['_self_'])"
      ]
     },
     "execution_count": 6,
     "metadata": {},
     "output_type": "execute_result"
    }
   ],
   "source": [
    "# e.g. instantiate a config dataclass with non default arguments\n",
    "MyClass.Conf(a='Bloom', b=999)"
   ]
  },
  {
   "cell_type": "code",
   "execution_count": 7,
   "metadata": {},
   "outputs": [
    {
     "data": {
      "text/plain": [
       "MyClass(dog, 3)"
      ]
     },
     "execution_count": 7,
     "metadata": {},
     "output_type": "execute_result"
    }
   ],
   "source": [
    "# instantiate a config dataclass with default objects, then use it to instantiate parent class\n",
    "MyClass.Conf().instantiate()"
   ]
  },
  {
   "cell_type": "code",
   "execution_count": 8,
   "metadata": {},
   "outputs": [
    {
     "data": {
      "text/plain": [
       "MyClass(Bloom, 3)"
      ]
     },
     "execution_count": 8,
     "metadata": {},
     "output_type": "execute_result"
    }
   ],
   "source": [
    "# instantiate a config dataclass with non default arguments, then use it to instantiate parent class\n",
    "MyClass.Conf(a='Bloom').instantiate()"
   ]
  },
  {
   "cell_type": "code",
   "execution_count": 9,
   "metadata": {},
   "outputs": [
    {
     "data": {
      "text/plain": [
       "Builds_MyClass(_target_='hydra_zen.funcs.zen_processing', _zen_target='__main__.MyClass', _zen_exclude=('name_', 'group_', 'package_', 'provider_', 'defaults'), a='Bloom', b=999, name_=None, group_=None, package_='_group_', provider_=None, defaults=['_self_'])"
      ]
     },
     "execution_count": 9,
     "metadata": {},
     "output_type": "execute_result"
    }
   ],
   "source": [
    "# normal constructor \n",
    "my_class = MyClass(a='Bloom', b=999)\n",
    "\n",
    "# the my_class instance has a .conf attribute\n",
    "# this is different from .Conf because\n",
    "# 1) it is an instance variable and\n",
    "# 2) it is an instantiated dataclass object\n",
    "# it is the Conf instance that builds this instance of MyClass\n",
    "my_class.conf"
   ]
  },
  {
   "cell_type": "code",
   "execution_count": 10,
   "metadata": {},
   "outputs": [
    {
     "data": {
      "text/plain": [
       "MyClass(Lily, 3)"
      ]
     },
     "execution_count": 10,
     "metadata": {},
     "output_type": "execute_result"
    }
   ],
   "source": [
    "# starting with config\n",
    "MyClass.Conf(a='Lily').instantiate().conf.instantiate().conf.instantiate()"
   ]
  },
  {
   "cell_type": "code",
   "execution_count": 11,
   "metadata": {},
   "outputs": [
    {
     "data": {
      "text/plain": [
       "MyClass(Lily, 3)"
      ]
     },
     "execution_count": 11,
     "metadata": {},
     "output_type": "execute_result"
    }
   ],
   "source": [
    "# starting with regular constructor\n",
    "MyClass(a='Lily').conf.instantiate().conf.instantiate().conf.instantiate()"
   ]
  },
  {
   "cell_type": "code",
   "execution_count": 12,
   "metadata": {},
   "outputs": [
    {
     "data": {
      "text/plain": [
       "MyClass(Bloom, 47)"
      ]
     },
     "execution_count": 12,
     "metadata": {},
     "output_type": "execute_result"
    }
   ],
   "source": [
    "# editing a config\n",
    "my_class_conf = MyClass.Conf(a='Lily',b=47)\n",
    "my_class_conf.a = 'Bloom'\n",
    "my_class_conf.instantiate()"
   ]
  },
  {
   "cell_type": "code",
   "execution_count": 13,
   "metadata": {},
   "outputs": [
    {
     "data": {
      "text/plain": [
       "MyClass(Bloom, 117)"
      ]
     },
     "execution_count": 13,
     "metadata": {},
     "output_type": "execute_result"
    }
   ],
   "source": [
    "# you can call .conf as well and provide new values for a subset of inputs\n",
    "my_class = MyClass(a='Lily', b=117)\n",
    "my_class_bloom = my_class.conf(a=\"Bloom\")\n",
    "my_class_bloom.instantiate()"
   ]
  },
  {
   "cell_type": "code",
   "execution_count": 14,
   "metadata": {},
   "outputs": [
    {
     "data": {
      "text/plain": [
       "MyClass(Lily, 117)"
      ]
     },
     "execution_count": 14,
     "metadata": {},
     "output_type": "execute_result"
    }
   ],
   "source": [
    "my_class.conf.instantiate()"
   ]
  },
  {
   "cell_type": "code",
   "execution_count": 15,
   "metadata": {},
   "outputs": [
    {
     "data": {
      "text/plain": [
       "True"
      ]
     },
     "execution_count": 15,
     "metadata": {},
     "output_type": "execute_result"
    }
   ],
   "source": [
    "issubclass(MyClass.Conf, BatteriesIncludedConf)"
   ]
  },
  {
   "cell_type": "code",
   "execution_count": 16,
   "metadata": {},
   "outputs": [
    {
     "data": {
      "text/plain": [
       "True"
      ]
     },
     "execution_count": 16,
     "metadata": {},
     "output_type": "execute_result"
    }
   ],
   "source": [
    "isinstance(my_class.conf, BatteriesIncludedConf)"
   ]
  },
  {
   "cell_type": "markdown",
   "metadata": {},
   "source": [
    "## wrap an existing class"
   ]
  },
  {
   "cell_type": "code",
   "execution_count": 17,
   "metadata": {},
   "outputs": [],
   "source": [
    "from sklearn.linear_model import LogisticRegression\n",
    "WrappedLogisticRegression = add_batteries(LogisticRegression)"
   ]
  },
  {
   "cell_type": "code",
   "execution_count": 18,
   "metadata": {},
   "outputs": [
    {
     "name": "stdout",
     "output_type": "stream",
     "text": [
      "_zen_target: sklearn.linear_model._logistic.LogisticRegression\n",
      "penalty: l2\n",
      "dual: false\n",
      "tol: 0.0001\n",
      "C: 1.0\n",
      "fit_intercept: true\n",
      "intercept_scaling: 1\n",
      "solver: lbfgs\n",
      "max_iter: 100\n",
      "multi_class: auto\n",
      "verbose: 0\n",
      "warm_start: false\n",
      "\n"
     ]
    }
   ],
   "source": [
    "# conf attr has fully populated fields\n",
    "WrappedLogisticRegression.Conf().show()"
   ]
  },
  {
   "cell_type": "code",
   "execution_count": 19,
   "metadata": {},
   "outputs": [
    {
     "data": {
      "text/html": [
       "<style>#sk-container-id-1 {color: black;background-color: white;}#sk-container-id-1 pre{padding: 0;}#sk-container-id-1 div.sk-toggleable {background-color: white;}#sk-container-id-1 label.sk-toggleable__label {cursor: pointer;display: block;width: 100%;margin-bottom: 0;padding: 0.3em;box-sizing: border-box;text-align: center;}#sk-container-id-1 label.sk-toggleable__label-arrow:before {content: \"▸\";float: left;margin-right: 0.25em;color: #696969;}#sk-container-id-1 label.sk-toggleable__label-arrow:hover:before {color: black;}#sk-container-id-1 div.sk-estimator:hover label.sk-toggleable__label-arrow:before {color: black;}#sk-container-id-1 div.sk-toggleable__content {max-height: 0;max-width: 0;overflow: hidden;text-align: left;background-color: #f0f8ff;}#sk-container-id-1 div.sk-toggleable__content pre {margin: 0.2em;color: black;border-radius: 0.25em;background-color: #f0f8ff;}#sk-container-id-1 input.sk-toggleable__control:checked~div.sk-toggleable__content {max-height: 200px;max-width: 100%;overflow: auto;}#sk-container-id-1 input.sk-toggleable__control:checked~label.sk-toggleable__label-arrow:before {content: \"▾\";}#sk-container-id-1 div.sk-estimator input.sk-toggleable__control:checked~label.sk-toggleable__label {background-color: #d4ebff;}#sk-container-id-1 div.sk-label input.sk-toggleable__control:checked~label.sk-toggleable__label {background-color: #d4ebff;}#sk-container-id-1 input.sk-hidden--visually {border: 0;clip: rect(1px 1px 1px 1px);clip: rect(1px, 1px, 1px, 1px);height: 1px;margin: -1px;overflow: hidden;padding: 0;position: absolute;width: 1px;}#sk-container-id-1 div.sk-estimator {font-family: monospace;background-color: #f0f8ff;border: 1px dotted black;border-radius: 0.25em;box-sizing: border-box;margin-bottom: 0.5em;}#sk-container-id-1 div.sk-estimator:hover {background-color: #d4ebff;}#sk-container-id-1 div.sk-parallel-item::after {content: \"\";width: 100%;border-bottom: 1px solid gray;flex-grow: 1;}#sk-container-id-1 div.sk-label:hover label.sk-toggleable__label {background-color: #d4ebff;}#sk-container-id-1 div.sk-serial::before {content: \"\";position: absolute;border-left: 1px solid gray;box-sizing: border-box;top: 0;bottom: 0;left: 50%;z-index: 0;}#sk-container-id-1 div.sk-serial {display: flex;flex-direction: column;align-items: center;background-color: white;padding-right: 0.2em;padding-left: 0.2em;position: relative;}#sk-container-id-1 div.sk-item {position: relative;z-index: 1;}#sk-container-id-1 div.sk-parallel {display: flex;align-items: stretch;justify-content: center;background-color: white;position: relative;}#sk-container-id-1 div.sk-item::before, #sk-container-id-1 div.sk-parallel-item::before {content: \"\";position: absolute;border-left: 1px solid gray;box-sizing: border-box;top: 0;bottom: 0;left: 50%;z-index: -1;}#sk-container-id-1 div.sk-parallel-item {display: flex;flex-direction: column;z-index: 1;position: relative;background-color: white;}#sk-container-id-1 div.sk-parallel-item:first-child::after {align-self: flex-end;width: 50%;}#sk-container-id-1 div.sk-parallel-item:last-child::after {align-self: flex-start;width: 50%;}#sk-container-id-1 div.sk-parallel-item:only-child::after {width: 0;}#sk-container-id-1 div.sk-dashed-wrapped {border: 1px dashed gray;margin: 0 0.4em 0.5em 0.4em;box-sizing: border-box;padding-bottom: 0.4em;background-color: white;}#sk-container-id-1 div.sk-label label {font-family: monospace;font-weight: bold;display: inline-block;line-height: 1.2em;}#sk-container-id-1 div.sk-label-container {text-align: center;}#sk-container-id-1 div.sk-container {/* jupyter's `normalize.less` sets `[hidden] { display: none; }` but bootstrap.min.css set `[hidden] { display: none !important; }` so we also need the `!important` here to be able to override the default hidden behavior on the sphinx rendered scikit-learn.org. See: https://github.com/scikit-learn/scikit-learn/issues/21755 */display: inline-block !important;position: relative;}#sk-container-id-1 div.sk-text-repr-fallback {display: none;}</style><div id=\"sk-container-id-1\" class=\"sk-top-container\"><div class=\"sk-text-repr-fallback\"><pre>LogisticRegression(penalty=&#x27;l1&#x27;)</pre><b>In a Jupyter environment, please rerun this cell to show the HTML representation or trust the notebook. <br />On GitHub, the HTML representation is unable to render, please try loading this page with nbviewer.org.</b></div><div class=\"sk-container\" hidden><div class=\"sk-item\"><div class=\"sk-estimator sk-toggleable\"><input class=\"sk-toggleable__control sk-hidden--visually\" id=\"sk-estimator-id-1\" type=\"checkbox\" checked><label for=\"sk-estimator-id-1\" class=\"sk-toggleable__label sk-toggleable__label-arrow\">LogisticRegression</label><div class=\"sk-toggleable__content\"><pre>LogisticRegression(penalty=&#x27;l1&#x27;)</pre></div></div></div></div></div>"
      ],
      "text/plain": [
       "LogisticRegression(penalty='l1')"
      ]
     },
     "execution_count": 19,
     "metadata": {},
     "output_type": "execute_result"
    }
   ],
   "source": [
    "# can be used to instantiate\n",
    "WrappedLogisticRegression.Conf(penalty='l1', C=1.0).instantiate()"
   ]
  },
  {
   "cell_type": "code",
   "execution_count": 20,
   "metadata": {},
   "outputs": [
    {
     "name": "stderr",
     "output_type": "stream",
     "text": [
      "/Users/alexnaka/opt/anaconda3/envs/hydra-zen/lib/python3.10/site-packages/torch/nn/modules/lazy.py:178: UserWarning: Lazy modules are a new feature under heavy development so changes to the API or functionality can happen at any moment.\n",
      "  warnings.warn('Lazy modules are a new feature under heavy development '\n"
     ]
    },
    {
     "data": {
      "text/plain": [
       "LazyLinear(in_features=0, out_features=2, bias=True)"
      ]
     },
     "execution_count": 20,
     "metadata": {},
     "output_type": "execute_result"
    }
   ],
   "source": [
    "# another example\n",
    "from torch import nn\n",
    "LazyLinear = add_batteries(nn.LazyLinear)\n",
    "LazyLinear.Conf(out_features=2).instantiate()"
   ]
  },
  {
   "cell_type": "code",
   "execution_count": 21,
   "metadata": {},
   "outputs": [
    {
     "data": {
      "text/plain": [
       "Builds_LogisticRegression(_target_='hydra_zen.funcs.zen_processing', _zen_target='sklearn.linear_model._logistic.LogisticRegression', _zen_exclude=('name_', 'group_', 'package_', 'provider_', 'defaults'), penalty='l2', dual=False, tol=0.0001, C=1.0, fit_intercept=True, intercept_scaling=1, class_weight=None, random_state=None, solver='lbfgs', max_iter=100, multi_class='auto', verbose=0, warm_start=False, n_jobs=None, l1_ratio=None, name_=None, group_=None, package_='_group_', provider_=None, defaults=['_self_'])"
      ]
     },
     "execution_count": 21,
     "metadata": {},
     "output_type": "execute_result"
    }
   ],
   "source": [
    "# can overwrite imports, this might be sus but could be useful for backwards compatibility\n",
    "LogisticRegression = add_batteries(LogisticRegression)\n",
    "LogisticRegression.Conf()"
   ]
  },
  {
   "cell_type": "code",
   "execution_count": 22,
   "metadata": {},
   "outputs": [],
   "source": [
    "# idempotent\n",
    "LogisticRegression = add_batteries(add_batteries(add_batteries(add_batteries(add_batteries(LogisticRegression)))))"
   ]
  },
  {
   "cell_type": "markdown",
   "metadata": {},
   "source": [
    "## working with functions"
   ]
  },
  {
   "cell_type": "code",
   "execution_count": 23,
   "metadata": {},
   "outputs": [
    {
     "ename": "NameError",
     "evalue": "name 'add_func_conf' is not defined",
     "output_type": "error",
     "traceback": [
      "\u001b[0;31m---------------------------------------------------------------------------\u001b[0m",
      "\u001b[0;31mNameError\u001b[0m                                 Traceback (most recent call last)",
      "Cell \u001b[0;32mIn[23], line 4\u001b[0m\n\u001b[1;32m      1\u001b[0m \u001b[39m# works the same as above - gives function a .conf attribute\u001b[39;00m\n\u001b[1;32m      2\u001b[0m \u001b[39m# does not work with positional arguments - you need some kind of default value, even if it is None or MISSING\u001b[39;00m\n\u001b[1;32m      3\u001b[0m \u001b[39m# by default this returns a partial\u001b[39;00m\n\u001b[0;32m----> 4\u001b[0m \u001b[39m@add_func_conf\u001b[39m\n\u001b[1;32m      5\u001b[0m \u001b[39mdef\u001b[39;00m \u001b[39madd_numbers\u001b[39m(a:\u001b[39mint\u001b[39m\u001b[39m=\u001b[39mMISSING, b:\u001b[39mint\u001b[39m\u001b[39m=\u001b[39mMISSING):\n\u001b[1;32m      6\u001b[0m     \u001b[39mreturn\u001b[39;00m a \u001b[39m+\u001b[39m b\n",
      "\u001b[0;31mNameError\u001b[0m: name 'add_func_conf' is not defined"
     ]
    }
   ],
   "source": [
    "# works the same as above - gives function a .conf attribute\n",
    "# does not work with positional arguments - you need some kind of default value, even if it is None or MISSING\n",
    "# by default this returns a partial\n",
    "@add_func_conf\n",
    "def add_numbers(a:int=MISSING, b:int=MISSING):\n",
    "    return a + b"
   ]
  },
  {
   "cell_type": "code",
   "execution_count": 24,
   "metadata": {},
   "outputs": [
    {
     "ename": "NameError",
     "evalue": "name 'add_numbers' is not defined",
     "output_type": "error",
     "traceback": [
      "\u001b[0;31m---------------------------------------------------------------------------\u001b[0m",
      "\u001b[0;31mNameError\u001b[0m                                 Traceback (most recent call last)",
      "Cell \u001b[0;32mIn[24], line 1\u001b[0m\n\u001b[0;32m----> 1\u001b[0m add_numbers\u001b[39m.\u001b[39mConf(a\u001b[39m=\u001b[39m\u001b[39m1\u001b[39m, b\u001b[39m=\u001b[39m\u001b[39m2\u001b[39m)\u001b[39m.\u001b[39minstantiate()()\n",
      "\u001b[0;31mNameError\u001b[0m: name 'add_numbers' is not defined"
     ]
    }
   ],
   "source": [
    "add_numbers.Conf(a=1, b=2).instantiate()()"
   ]
  },
  {
   "cell_type": "code",
   "execution_count": 25,
   "metadata": {},
   "outputs": [
    {
     "ename": "NameError",
     "evalue": "name 'add_func_conf' is not defined",
     "output_type": "error",
     "traceback": [
      "\u001b[0;31m---------------------------------------------------------------------------\u001b[0m",
      "\u001b[0;31mNameError\u001b[0m                                 Traceback (most recent call last)",
      "Cell \u001b[0;32mIn[25], line 3\u001b[0m\n\u001b[1;32m      1\u001b[0m \u001b[39m# add_func_conf lets you change settings being used in hydra_zen.builds under the hood\u001b[39;00m\n\u001b[1;32m      2\u001b[0m \u001b[39m# here we make it so that the function is not wrapped in a partial\u001b[39;00m\n\u001b[0;32m----> 3\u001b[0m \u001b[39m@add_func_conf\u001b[39m(zen_partial\u001b[39m=\u001b[39m\u001b[39mFalse\u001b[39;00m)\n\u001b[1;32m      4\u001b[0m \u001b[39mdef\u001b[39;00m \u001b[39mmake_dataframe\u001b[39m():\n\u001b[1;32m      5\u001b[0m     \u001b[39mreturn\u001b[39;00m pd\u001b[39m.\u001b[39mDataFrame({\u001b[39m'\u001b[39m\u001b[39ma\u001b[39m\u001b[39m'\u001b[39m: \u001b[39m1\u001b[39m}, index\u001b[39m=\u001b[39m[\u001b[39m0\u001b[39m])\n",
      "\u001b[0;31mNameError\u001b[0m: name 'add_func_conf' is not defined"
     ]
    }
   ],
   "source": [
    "# add_func_conf lets you change settings being used in hydra_zen.builds under the hood\n",
    "# here we make it so that the function is not wrapped in a partial\n",
    "@add_func_conf(zen_partial=False)\n",
    "def make_dataframe():\n",
    "    return pd.DataFrame({'a': 1}, index=[0])"
   ]
  },
  {
   "cell_type": "code",
   "execution_count": 26,
   "metadata": {},
   "outputs": [
    {
     "ename": "NameError",
     "evalue": "name 'make_dataframe' is not defined",
     "output_type": "error",
     "traceback": [
      "\u001b[0;31m---------------------------------------------------------------------------\u001b[0m",
      "\u001b[0;31mNameError\u001b[0m                                 Traceback (most recent call last)",
      "Cell \u001b[0;32mIn[26], line 2\u001b[0m\n\u001b[1;32m      1\u001b[0m \u001b[39m# now instantiation just immediately returns the dataframe\u001b[39;00m\n\u001b[0;32m----> 2\u001b[0m make_dataframe\u001b[39m.\u001b[39mConf()\u001b[39m.\u001b[39minstantiate()\n",
      "\u001b[0;31mNameError\u001b[0m: name 'make_dataframe' is not defined"
     ]
    }
   ],
   "source": [
    "# now instantiation just immediately returns the dataframe\n",
    "make_dataframe.Conf().instantiate()"
   ]
  },
  {
   "cell_type": "markdown",
   "metadata": {},
   "source": [
    "## creating and storing named configurations"
   ]
  },
  {
   "cell_type": "code",
   "execution_count": 3,
   "metadata": {},
   "outputs": [],
   "source": [
    "@add_batteries\n",
    "class TopLevelClass:\n",
    "    def __init__(\n",
    "        self,\n",
    "        a:int = 0,\n",
    "        lower_level_class: Any = MISSING,\n",
    "        **kwargs,\n",
    "        ):\n",
    "        self.a = a\n",
    "        self.lower_level_class = lower_level_class\n",
    "        \n",
    "    def __repr__(self):\n",
    "        return f'TopLevelClass({self.a}, {self.lower_level_class})'\n",
    "        \n",
    "@add_batteries        \n",
    "class LowerLevelClass:\n",
    "    def __init__(\n",
    "        self,\n",
    "        b: str = 'hello',\n",
    "        **kwargs,\n",
    "    ):\n",
    "        self.b = b\n",
    "\n",
    "    def __repr__(self):\n",
    "        return f'LowerLevelClass({self.b})'"
   ]
  },
  {
   "cell_type": "code",
   "execution_count": 4,
   "metadata": {},
   "outputs": [
    {
     "data": {
      "text/plain": [
       "LowerLevelClass(hello)"
      ]
     },
     "execution_count": 4,
     "metadata": {},
     "output_type": "execute_result"
    }
   ],
   "source": [
    "# decorated classes will accept name_, group_, and defaults as arguments\n",
    "lower_level_class = LowerLevelClass(\n",
    "    name_='lower_level_class_2',\n",
    "    )\n",
    "lower_level_class"
   ]
  },
  {
   "cell_type": "code",
   "execution_count": null,
   "metadata": {},
   "outputs": [],
   "source": [
    "lower_level_class.conf.store()"
   ]
  },
  {
   "cell_type": "code",
   "execution_count": 6,
   "metadata": {},
   "outputs": [
    {
     "data": {
      "text/plain": [
       "'lower_level_class_2'"
      ]
     },
     "execution_count": 6,
     "metadata": {},
     "output_type": "execute_result"
    }
   ],
   "source": [
    "lower_level_class.conf.name_"
   ]
  },
  {
   "cell_type": "code",
   "execution_count": null,
   "metadata": {},
   "outputs": [],
   "source": [
    "store(lower_level_class.conf, name=lower_level_class.conf.name_, group=lower_level_class.conf.group_)"
   ]
  },
  {
   "cell_type": "code",
   "execution_count": 32,
   "metadata": {},
   "outputs": [
    {
     "data": {
      "text/plain": [
       "zen_store\n",
       "{None: ['lower_level_class_1', 'lower_level_class_2']}"
      ]
     },
     "execution_count": 32,
     "metadata": {},
     "output_type": "execute_result"
    }
   ],
   "source": [
    "store"
   ]
  },
  {
   "cell_type": "code",
   "execution_count": 8,
   "metadata": {},
   "outputs": [
    {
     "data": {
      "text/plain": [
       "['_dummy_empty_config_.yaml', 'hydra', 'lower_level_class_2.yaml']"
      ]
     },
     "execution_count": 8,
     "metadata": {},
     "output_type": "execute_result"
    }
   ],
   "source": [
    "# constructing a decorated class with a name_ argument will automatically store it in ConfigStore\n",
    "cs.list('')"
   ]
  },
  {
   "cell_type": "code",
   "execution_count": null,
   "metadata": {},
   "outputs": [],
   "source": [
    "# constructing the .conf dataclass with a name_ argument will also automatically store it in ConfigStore\n",
    "LowerLevelClass.Conf(\n",
    "    name_='lower_level_class_2',\n",
    "    b=99,\n",
    "    )"
   ]
  },
  {
   "cell_type": "code",
   "execution_count": 35,
   "metadata": {},
   "outputs": [
    {
     "data": {
      "text/plain": [
       "['_dummy_empty_config_.yaml',\n",
       " 'hydra',\n",
       " 'lower_level_class_1.yaml',\n",
       " 'lower_level_class_2.yaml']"
      ]
     },
     "execution_count": 35,
     "metadata": {},
     "output_type": "execute_result"
    }
   ],
   "source": [
    "cs.list('')"
   ]
  },
  {
   "cell_type": "code",
   "execution_count": 9,
   "metadata": {},
   "outputs": [
    {
     "data": {
      "text/plain": [
       "Builds_LowerLevelClass(_target_='hydra_zen.funcs.zen_processing', _zen_target='__main__.LowerLevelClass', _zen_exclude=('name_', 'group_', 'package_', 'provider_', 'defaults'), b=99, name_='lower_level_class_4', group_='lower_level_class', package_='_group_', provider_=None, defaults=['_self_'])"
      ]
     },
     "execution_count": 9,
     "metadata": {},
     "output_type": "execute_result"
    }
   ],
   "source": [
    "# config group names can be set in the same manner\n",
    "LowerLevelClass(\n",
    "    name_='lower_level_class_3',\n",
    "    group_='lower_level_class',\n",
    "    )\n",
    "\n",
    "LowerLevelClass.Conf(\n",
    "    name_='lower_level_class_4',\n",
    "    group_='lower_level_class',\n",
    "    b=99,\n",
    "    )"
   ]
  },
  {
   "cell_type": "code",
   "execution_count": 10,
   "metadata": {},
   "outputs": [
    {
     "ename": "ValueError",
     "evalue": "(name=lower_level_class_3 group=lower_level_class): Store entry already exists. Use a store initialized with `ZenStore(overwrite_ok=True)` to overwrite config store entries.",
     "output_type": "error",
     "traceback": [
      "\u001b[0;31m---------------------------------------------------------------------------\u001b[0m",
      "\u001b[0;31mValueError\u001b[0m                                Traceback (most recent call last)",
      "Cell \u001b[0;32mIn[10], line 1\u001b[0m\n\u001b[0;32m----> 1\u001b[0m LowerLevelClass(\n\u001b[1;32m      2\u001b[0m     name_\u001b[39m=\u001b[39;49m\u001b[39m'\u001b[39;49m\u001b[39mlower_level_class_3\u001b[39;49m\u001b[39m'\u001b[39;49m,\n\u001b[1;32m      3\u001b[0m     group_\u001b[39m=\u001b[39;49m\u001b[39m'\u001b[39;49m\u001b[39mlower_level_class\u001b[39;49m\u001b[39m'\u001b[39;49m,\n\u001b[1;32m      4\u001b[0m     )\u001b[39m.\u001b[39mconf\n",
      "File \u001b[0;32m~/code/hydra-zen/src/hydra_zen/structured_configs/_add_conf.py:548\u001b[0m, in \u001b[0;36m_batteries_included_override_constructor.<locals>.WrappedClass.__init__\u001b[0;34m(self, name_, group_, package_, provider_, defaults, *args, **kwargs)\u001b[0m\n\u001b[1;32m    544\u001b[0m zen_meta \u001b[39m=\u001b[39m merge_zen_meta_defaults(\n\u001b[1;32m    545\u001b[0m     name_, group_, package_, provider_, defaults\n\u001b[1;32m    546\u001b[0m )\n\u001b[1;32m    547\u001b[0m \u001b[39mif\u001b[39;00m \u001b[39mnot\u001b[39;00m \u001b[39mhasattr\u001b[39m(\u001b[39mself\u001b[39m, \u001b[39m\"\u001b[39m\u001b[39mconf\u001b[39m\u001b[39m\"\u001b[39m):\n\u001b[0;32m--> 548\u001b[0m     conf \u001b[39m=\u001b[39m \u001b[39mself\u001b[39;49m\u001b[39m.\u001b[39;49mConf(\u001b[39m*\u001b[39;49margs, \u001b[39m*\u001b[39;49m\u001b[39m*\u001b[39;49mzen_meta, \u001b[39m*\u001b[39;49m\u001b[39m*\u001b[39;49mkwargs)\n\u001b[1;32m    549\u001b[0m     \u001b[39msetattr\u001b[39m(\u001b[39mself\u001b[39m, \u001b[39m\"\u001b[39m\u001b[39mconf\u001b[39m\u001b[39m\"\u001b[39m, conf)\n\u001b[1;32m    550\u001b[0m \u001b[39msuper\u001b[39m()\u001b[39m.\u001b[39m\u001b[39m__init__\u001b[39m(\u001b[39m*\u001b[39margs, \u001b[39m*\u001b[39m\u001b[39m*\u001b[39mkwargs)\n",
      "File \u001b[0;32m<string>:9\u001b[0m, in \u001b[0;36m__init__\u001b[0;34m(self, b, name_, group_, package_, provider_, defaults)\u001b[0m\n",
      "File \u001b[0;32m~/code/hydra-zen/src/hydra_zen/structured_configs/_add_conf.py:318\u001b[0m, in \u001b[0;36mBatteriesIncludedConf.__post_init__\u001b[0;34m(self)\u001b[0m\n\u001b[1;32m    316\u001b[0m \u001b[39mdef\u001b[39;00m \u001b[39m__post_init__\u001b[39m(\u001b[39mself\u001b[39m):\n\u001b[1;32m    317\u001b[0m     \u001b[39mif\u001b[39;00m \u001b[39mgetattr\u001b[39m(\u001b[39mself\u001b[39m, \u001b[39m\"\u001b[39m\u001b[39mname_\u001b[39m\u001b[39m\"\u001b[39m, \u001b[39mNone\u001b[39;00m) \u001b[39mis\u001b[39;00m \u001b[39mnot\u001b[39;00m \u001b[39mNone\u001b[39;00m:\n\u001b[0;32m--> 318\u001b[0m         \u001b[39mself\u001b[39;49m\u001b[39m.\u001b[39;49mstore()\n",
      "File \u001b[0;32m~/code/hydra-zen/src/hydra_zen/structured_configs/_add_conf.py:386\u001b[0m, in \u001b[0;36mBatteriesIncludedConf.store\u001b[0;34m(self, add_to_hydra_store)\u001b[0m\n\u001b[1;32m    380\u001b[0m \u001b[39mdef\u001b[39;00m \u001b[39mstore\u001b[39m(\u001b[39mself\u001b[39m, add_to_hydra_store:\u001b[39mbool\u001b[39m\u001b[39m=\u001b[39m\u001b[39mTrue\u001b[39;00m):\n\u001b[1;32m    381\u001b[0m     \u001b[39m\"\"\"Stores object in the config store.\u001b[39;00m\n\u001b[1;32m    382\u001b[0m \n\u001b[1;32m    383\u001b[0m \u001b[39m    Returns:\u001b[39;00m\n\u001b[1;32m    384\u001b[0m \u001b[39m        The object itself (for chaining)\u001b[39;00m\n\u001b[1;32m    385\u001b[0m \u001b[39m    \"\"\"\u001b[39;00m\n\u001b[0;32m--> 386\u001b[0m     store(\n\u001b[1;32m    387\u001b[0m         \u001b[39mself\u001b[39;49m,\n\u001b[1;32m    388\u001b[0m         name\u001b[39m=\u001b[39;49m\u001b[39mself\u001b[39;49m\u001b[39m.\u001b[39;49mname_,\n\u001b[1;32m    389\u001b[0m         group\u001b[39m=\u001b[39;49m\u001b[39mself\u001b[39;49m\u001b[39m.\u001b[39;49mgroup_,\n\u001b[1;32m    390\u001b[0m     )\n\u001b[1;32m    391\u001b[0m     \u001b[39mif\u001b[39;00m add_to_hydra_store:\n\u001b[1;32m    392\u001b[0m         store\u001b[39m.\u001b[39madd_to_hydra_store()\n",
      "File \u001b[0;32m~/code/hydra-zen/src/hydra_zen/wrapper/_implementations.py:1285\u001b[0m, in \u001b[0;36mZenStore.__call__\u001b[0;34m(self, _ZenStore__target, **kw)\u001b[0m\n\u001b[1;32m   1276\u001b[0m entry \u001b[39m=\u001b[39m StoreEntry(\n\u001b[1;32m   1277\u001b[0m     name\u001b[39m=\u001b[39m_name,\n\u001b[1;32m   1278\u001b[0m     group\u001b[39m=\u001b[39m_group,\n\u001b[0;32m   (...)\u001b[0m\n\u001b[1;32m   1281\u001b[0m     node\u001b[39m=\u001b[39mnode,\n\u001b[1;32m   1282\u001b[0m )\n\u001b[1;32m   1284\u001b[0m \u001b[39mif\u001b[39;00m \u001b[39mnot\u001b[39;00m \u001b[39mself\u001b[39m\u001b[39m.\u001b[39m_overwrite_ok \u001b[39mand\u001b[39;00m (_group, _name) \u001b[39min\u001b[39;00m \u001b[39mself\u001b[39m\u001b[39m.\u001b[39m_internal_repo:\n\u001b[0;32m-> 1285\u001b[0m     \u001b[39mraise\u001b[39;00m \u001b[39mValueError\u001b[39;00m(\n\u001b[1;32m   1286\u001b[0m         \u001b[39mf\u001b[39m\u001b[39m\"\u001b[39m\u001b[39m(name=\u001b[39m\u001b[39m{\u001b[39;00mentry[\u001b[39m'\u001b[39m\u001b[39mname\u001b[39m\u001b[39m'\u001b[39m]\u001b[39m}\u001b[39;00m\u001b[39m group=\u001b[39m\u001b[39m{\u001b[39;00mentry[\u001b[39m'\u001b[39m\u001b[39mgroup\u001b[39m\u001b[39m'\u001b[39m]\u001b[39m}\u001b[39;00m\u001b[39m): \u001b[39m\u001b[39m\"\u001b[39m\n\u001b[1;32m   1287\u001b[0m         \u001b[39mf\u001b[39m\u001b[39m\"\u001b[39m\u001b[39mStore entry already exists. Use a store initialized \u001b[39m\u001b[39m\"\u001b[39m\n\u001b[1;32m   1288\u001b[0m         \u001b[39mf\u001b[39m\u001b[39m\"\u001b[39m\u001b[39mwith `ZenStore(overwrite_ok=True)` to overwrite config store \u001b[39m\u001b[39m\"\u001b[39m\n\u001b[1;32m   1289\u001b[0m         \u001b[39mf\u001b[39m\u001b[39m\"\u001b[39m\u001b[39mentries.\u001b[39m\u001b[39m\"\u001b[39m\n\u001b[1;32m   1290\u001b[0m     )\n\u001b[1;32m   1291\u001b[0m \u001b[39mself\u001b[39m\u001b[39m.\u001b[39m_internal_repo[_group, _name] \u001b[39m=\u001b[39m entry\n\u001b[1;32m   1292\u001b[0m \u001b[39mself\u001b[39m\u001b[39m.\u001b[39m_queue\u001b[39m.\u001b[39mappend(entry)\n",
      "\u001b[0;31mValueError\u001b[0m: (name=lower_level_class_3 group=lower_level_class): Store entry already exists. Use a store initialized with `ZenStore(overwrite_ok=True)` to overwrite config store entries."
     ]
    }
   ],
   "source": [
    "LowerLevelClass(\n",
    "    name_='lower_level_class_3',\n",
    "    group_='lower_level_class',\n",
    "    ).conf"
   ]
  },
  {
   "cell_type": "code",
   "execution_count": 11,
   "metadata": {},
   "outputs": [],
   "source": [
    "# as can the defaults list\n",
    "top_level_class_config = TopLevelClass.Conf(\n",
    "    name_='top_level_class', \n",
    "    defaults=['_self_', {'lower_level_class': 'lower_level_class_3'}]\n",
    "    )"
   ]
  },
  {
   "cell_type": "code",
   "execution_count": 12,
   "metadata": {},
   "outputs": [
    {
     "name": "stderr",
     "output_type": "stream",
     "text": [
      "/Users/alexnaka/code/hydra-zen/src/hydra_zen/_launch.py:236: UserWarning: \n",
      "The version_base parameter is not specified.\n",
      "Please specify a compatability version level, or None.\n",
      "Will assume defaults for version 1.1\n",
      "  with initialize(\n",
      "/Users/alexnaka/code/hydra-zen/src/hydra_zen/_launch.py:270: UserWarning: Future Hydra versions will no longer change working directory at job runtime by default.\n",
      "See https://hydra.cc/docs/1.2/upgrades/1.1_to_1.2/changes_to_job_working_dir/ for more information.\n",
      "  job = run_job(\n"
     ]
    },
    {
     "data": {
      "text/plain": [
       "TopLevelClass(0, LowerLevelClass(hello))"
      ]
     },
     "execution_count": 12,
     "metadata": {},
     "output_type": "execute_result"
    }
   ],
   "source": [
    "out = launch(top_level_class_config, launch_and_instantiate)\n",
    "out.return_value"
   ]
  },
  {
   "cell_type": "code",
   "execution_count": 13,
   "metadata": {},
   "outputs": [
    {
     "name": "stderr",
     "output_type": "stream",
     "text": [
      "/Users/alexnaka/code/hydra-zen/src/hydra_zen/_launch.py:236: UserWarning: \n",
      "The version_base parameter is not specified.\n",
      "Please specify a compatability version level, or None.\n",
      "Will assume defaults for version 1.1\n",
      "  with initialize(\n"
     ]
    },
    {
     "data": {
      "text/plain": [
       "TopLevelClass(0, LowerLevelClass(99))"
      ]
     },
     "execution_count": 13,
     "metadata": {},
     "output_type": "execute_result"
    }
   ],
   "source": [
    "out = launch(\n",
    "    top_level_class_config, \n",
    "    launch_and_instantiate, \n",
    "    overrides=['lower_level_class=lower_level_class_4'])\n",
    "out.return_value"
   ]
  },
  {
   "cell_type": "markdown",
   "metadata": {},
   "source": [
    "### let's look at more complex configurations"
   ]
  },
  {
   "cell_type": "code",
   "execution_count": 14,
   "metadata": {},
   "outputs": [],
   "source": [
    "@add_batteries\n",
    "class TopLevelClass:\n",
    "    def __init__(\n",
    "        self,\n",
    "        a:int = 0,\n",
    "        mid_level_class: Any = MISSING,\n",
    "        **kwargs,\n",
    "    ):\n",
    "        self.a = a\n",
    "        self.mid_level_class = mid_level_class\n",
    "        \n",
    "    def __repr__(self):\n",
    "        return f'TopLevelClass({self.a}, {self.mid_level_class})'\n",
    "\n",
    "@add_batteries(group_='mlc_group')   \n",
    "class MidLevelClass:\n",
    "    def __init__(\n",
    "        self,\n",
    "        b:int = 0,\n",
    "        lower_level_class: Any = MISSING\n",
    "    ):\n",
    "        self.b = b\n",
    "        self.lower_level_class = lower_level_class\n",
    "\n",
    "    def __repr__(self):\n",
    "        return f'MidLevelClass({self.b}, {self.lower_level_class})'\n",
    "        \n",
    "@add_batteries(group_='llc_group')        \n",
    "class LowerLevelClass:\n",
    "    def __init__(\n",
    "        self,\n",
    "        c: str = 'hello',\n",
    "        **kwargs,\n",
    "    ):\n",
    "        self.c = c\n",
    "\n",
    "    def __repr__(self):\n",
    "        return f'LowerLevelClass({self.c})'"
   ]
  },
  {
   "cell_type": "code",
   "execution_count": 15,
   "metadata": {},
   "outputs": [
    {
     "data": {
      "text/plain": [
       "Builds_LowerLevelClass(_target_='hydra_zen.funcs.zen_processing', _zen_target='__main__.LowerLevelClass', _zen_exclude=('name_', 'group_', 'package_', 'provider_', 'defaults'), c='type 1', name_='llc_1', group_='llc_group', package_='_group_', provider_=None, defaults=['_self_'])"
      ]
     },
     "execution_count": 15,
     "metadata": {},
     "output_type": "execute_result"
    }
   ],
   "source": [
    "llc_1 = LowerLevelClass.Conf(\n",
    "    c = 'type 1',\n",
    "    name_='llc_1'\n",
    ")\n",
    "\n",
    "llc_2 = LowerLevelClass.Conf(\n",
    "    c = 'type 2',\n",
    "    name_='llc_2'\n",
    ")\n",
    "\n",
    "llc_3 = LowerLevelClass.Conf(\n",
    "    c = 'type 3',\n",
    "    name_='llc_3'\n",
    ")\n",
    "\n",
    "llc_4 = LowerLevelClass.Conf(\n",
    "    c = 'type 4',\n",
    "    name_='llc_4'\n",
    ")\n",
    "\n",
    "llc_1"
   ]
  },
  {
   "cell_type": "code",
   "execution_count": 16,
   "metadata": {},
   "outputs": [
    {
     "name": "stdout",
     "output_type": "stream",
     "text": [
      "_zen_target: __main__.MidLevelClass\n",
      "b: 1\n",
      "lower_level_class: ???\n",
      "name_: mlc_1\n",
      "group_: mlc_group\n",
      "defaults:\n",
      "- /llc_group@lower_level_class: llc_3\n",
      "\n"
     ]
    }
   ],
   "source": [
    "mlc_1 = MidLevelClass.Conf(\n",
    "    b = 1,\n",
    "    lower_level_class=MISSING,\n",
    "    name_='mlc_1',\n",
    "    defaults=[\n",
    "            {'/llc_group@lower_level_class': 'llc_3'},\n",
    "        ]\n",
    ")\n",
    "\n",
    "mlc_2 = MidLevelClass.Conf(\n",
    "    b = 2,\n",
    "    lower_level_class=MISSING,\n",
    "    name_='mlc_2'\n",
    ")\n",
    "\n",
    "mlc_3 = MidLevelClass.Conf(\n",
    "    b = 3,\n",
    "    lower_level_class=MISSING,\n",
    "    name_='mlc_3'\n",
    ")\n",
    "\n",
    "mlc_4 = MidLevelClass.Conf(\n",
    "    b = 4,\n",
    "    lower_level_class=llc_4,\n",
    "    name_='mlc_4'\n",
    ")\n",
    "\n",
    "mlc_1.show()"
   ]
  },
  {
   "cell_type": "code",
   "execution_count": 17,
   "metadata": {},
   "outputs": [
    {
     "name": "stdout",
     "output_type": "stream",
     "text": [
      "_zen_target: __main__.TopLevelClass\n",
      "a: 123\n",
      "mid_level_class: ???\n",
      "name_: tlc_1\n",
      "defaults:\n",
      "- mlc_group@mid_level_class: mlc_1\n",
      "\n"
     ]
    }
   ],
   "source": [
    "tlc_1 = TopLevelClass.Conf(\n",
    "    a = 123,\n",
    "    mid_level_class=MISSING,\n",
    "    name_='tlc_1',\n",
    "    defaults=[\n",
    "            {\n",
    "                'mlc_group@mid_level_class': 'mlc_1',\n",
    "            },\n",
    "        ]\n",
    ")\n",
    "\n",
    "tlc_1.show()"
   ]
  },
  {
   "cell_type": "code",
   "execution_count": 18,
   "metadata": {},
   "outputs": [
    {
     "name": "stderr",
     "output_type": "stream",
     "text": [
      "/Users/alexnaka/opt/anaconda3/envs/hydra-zen/lib/python3.10/site-packages/hydra/_internal/defaults_list.py:251: UserWarning: In 'zen_launch': Defaults list is missing `_self_`. See https://hydra.cc/docs/1.2/upgrades/1.0_to_1.1/default_composition_order for more information\n",
      "  warnings.warn(msg, UserWarning)\n"
     ]
    },
    {
     "data": {
      "text/plain": [
       "TopLevelClass(123, MidLevelClass(1, LowerLevelClass(type 3)))"
      ]
     },
     "execution_count": 18,
     "metadata": {},
     "output_type": "execute_result"
    }
   ],
   "source": [
    "out = launch(\n",
    "    tlc_1, \n",
    "    launch_and_instantiate\n",
    "    )\n",
    "out.return_value"
   ]
  },
  {
   "cell_type": "code",
   "execution_count": 19,
   "metadata": {},
   "outputs": [
    {
     "data": {
      "text/plain": [
       "TopLevelClass(123, MidLevelClass(1, LowerLevelClass(type 4)))"
      ]
     },
     "execution_count": 19,
     "metadata": {},
     "output_type": "execute_result"
    }
   ],
   "source": [
    "out = launch(\n",
    "    tlc_1, \n",
    "    launch_and_instantiate, \n",
    "    overrides=['llc_group@mid_level_class.lower_level_class=llc_4']\n",
    "    )\n",
    "out.return_value"
   ]
  },
  {
   "cell_type": "code",
   "execution_count": 20,
   "metadata": {},
   "outputs": [
    {
     "data": {
      "text/plain": [
       "TopLevelClass(123, MidLevelClass(1, LowerLevelClass(type X)))"
      ]
     },
     "execution_count": 20,
     "metadata": {},
     "output_type": "execute_result"
    }
   ],
   "source": [
    "out = launch(\n",
    "    tlc_1, \n",
    "    launch_and_instantiate, \n",
    "    overrides=['mid_level_class.lower_level_class.c=\"type X\"']\n",
    "    )\n",
    "out.return_value"
   ]
  },
  {
   "cell_type": "code",
   "execution_count": null,
   "metadata": {},
   "outputs": [],
   "source": [
    "out = launch(\n",
    "    tlc_1, \n",
    "    launch_and_instantiate, \n",
    "    overrides=['llc_group@lower_level_class=llc_2']\n",
    "    )\n",
    "out.return_value"
   ]
  },
  {
   "cell_type": "markdown",
   "metadata": {},
   "source": [
    "### using context manager"
   ]
  },
  {
   "cell_type": "code",
   "execution_count": 23,
   "metadata": {},
   "outputs": [],
   "source": [
    "with ConfMode():\n",
    "    LowerLevelClass(\n",
    "        name_='lower_level_class_5',\n",
    "        group_='lower_level_class',\n",
    "        c=117,\n",
    "    )\n",
    "    top_level_class_config_2 = TopLevelClass(\n",
    "        a=-9,\n",
    "        name_='top_level_class_2', \n",
    "        defaults=[\n",
    "            '_self_', \n",
    "            {'lower_level_class': 'lower_level_class_5'}]\n",
    "    )"
   ]
  },
  {
   "cell_type": "code",
   "execution_count": null,
   "metadata": {},
   "outputs": [],
   "source": [
    "out = launch(\n",
    "    top_level_class_config_2, \n",
    "    launch_and_instantiate, \n",
    "    overrides=['lower_level_class=lower_level_class_4']\n",
    "    )\n",
    "out.return_value"
   ]
  },
  {
   "cell_type": "code",
   "execution_count": 26,
   "metadata": {},
   "outputs": [
    {
     "ename": "ConfigCompositionException",
     "evalue": "In 'lower_level_class/lower_level_class_5': ConfigKeyError raised while composing config:\nKey 'lower_level_class' not in 'Builds_TopLevelClass'\n    full_key: lower_level_class\n    object_type=Builds_TopLevelClass",
     "output_type": "error",
     "traceback": [
      "\u001b[0;31m---------------------------------------------------------------------------\u001b[0m",
      "\u001b[0;31mConfigKeyError\u001b[0m                            Traceback (most recent call last)",
      "File \u001b[0;32m~/opt/anaconda3/envs/hydra-zen/lib/python3.10/site-packages/hydra/_internal/config_loader_impl.py:542\u001b[0m, in \u001b[0;36mConfigLoaderImpl._compose_config_from_defaults_list\u001b[0;34m(self, defaults, repo)\u001b[0m\n\u001b[1;32m    541\u001b[0m \u001b[39mtry\u001b[39;00m:\n\u001b[0;32m--> 542\u001b[0m     cfg\u001b[39m.\u001b[39;49mmerge_with(loaded\u001b[39m.\u001b[39;49mconfig)\n\u001b[1;32m    543\u001b[0m \u001b[39mexcept\u001b[39;00m OmegaConfBaseException \u001b[39mas\u001b[39;00m e:\n",
      "File \u001b[0;32m~/opt/anaconda3/envs/hydra-zen/lib/python3.10/site-packages/omegaconf/basecontainer.py:492\u001b[0m, in \u001b[0;36mBaseContainer.merge_with\u001b[0;34m(self, *others)\u001b[0m\n\u001b[1;32m    491\u001b[0m \u001b[39mexcept\u001b[39;00m \u001b[39mException\u001b[39;00m \u001b[39mas\u001b[39;00m e:\n\u001b[0;32m--> 492\u001b[0m     \u001b[39mself\u001b[39;49m\u001b[39m.\u001b[39;49m_format_and_raise(key\u001b[39m=\u001b[39;49m\u001b[39mNone\u001b[39;49;00m, value\u001b[39m=\u001b[39;49m\u001b[39mNone\u001b[39;49;00m, cause\u001b[39m=\u001b[39;49me)\n",
      "File \u001b[0;32m~/opt/anaconda3/envs/hydra-zen/lib/python3.10/site-packages/omegaconf/base.py:231\u001b[0m, in \u001b[0;36mNode._format_and_raise\u001b[0;34m(self, key, value, cause, msg, type_override)\u001b[0m\n\u001b[1;32m    223\u001b[0m \u001b[39mdef\u001b[39;00m \u001b[39m_format_and_raise\u001b[39m(\n\u001b[1;32m    224\u001b[0m     \u001b[39mself\u001b[39m,\n\u001b[1;32m    225\u001b[0m     key: Any,\n\u001b[0;32m   (...)\u001b[0m\n\u001b[1;32m    229\u001b[0m     type_override: Any \u001b[39m=\u001b[39m \u001b[39mNone\u001b[39;00m,\n\u001b[1;32m    230\u001b[0m ) \u001b[39m-\u001b[39m\u001b[39m>\u001b[39m \u001b[39mNone\u001b[39;00m:\n\u001b[0;32m--> 231\u001b[0m     format_and_raise(\n\u001b[1;32m    232\u001b[0m         node\u001b[39m=\u001b[39;49m\u001b[39mself\u001b[39;49m,\n\u001b[1;32m    233\u001b[0m         key\u001b[39m=\u001b[39;49mkey,\n\u001b[1;32m    234\u001b[0m         value\u001b[39m=\u001b[39;49mvalue,\n\u001b[1;32m    235\u001b[0m         msg\u001b[39m=\u001b[39;49m\u001b[39mstr\u001b[39;49m(cause) \u001b[39mif\u001b[39;49;00m msg \u001b[39mis\u001b[39;49;00m \u001b[39mNone\u001b[39;49;00m \u001b[39melse\u001b[39;49;00m msg,\n\u001b[1;32m    236\u001b[0m         cause\u001b[39m=\u001b[39;49mcause,\n\u001b[1;32m    237\u001b[0m         type_override\u001b[39m=\u001b[39;49mtype_override,\n\u001b[1;32m    238\u001b[0m     )\n\u001b[1;32m    239\u001b[0m     \u001b[39massert\u001b[39;00m \u001b[39mFalse\u001b[39;00m\n",
      "File \u001b[0;32m~/opt/anaconda3/envs/hydra-zen/lib/python3.10/site-packages/omegaconf/_utils.py:819\u001b[0m, in \u001b[0;36mformat_and_raise\u001b[0;34m(node, key, value, msg, cause, type_override)\u001b[0m\n\u001b[1;32m    818\u001b[0m         ex\u001b[39m.\u001b[39m\u001b[39m__dict__\u001b[39m \u001b[39m=\u001b[39m copy\u001b[39m.\u001b[39mdeepcopy(cause\u001b[39m.\u001b[39m\u001b[39m__dict__\u001b[39m)\n\u001b[0;32m--> 819\u001b[0m     _raise(ex, cause)\n\u001b[1;32m    821\u001b[0m object_type: Optional[Type[Any]]\n",
      "File \u001b[0;32m~/opt/anaconda3/envs/hydra-zen/lib/python3.10/site-packages/omegaconf/_utils.py:797\u001b[0m, in \u001b[0;36m_raise\u001b[0;34m(ex, cause)\u001b[0m\n\u001b[1;32m    796\u001b[0m     ex\u001b[39m.\u001b[39m__cause__ \u001b[39m=\u001b[39m \u001b[39mNone\u001b[39;00m\n\u001b[0;32m--> 797\u001b[0m \u001b[39mraise\u001b[39;00m ex\u001b[39m.\u001b[39mwith_traceback(sys\u001b[39m.\u001b[39mexc_info()[\u001b[39m2\u001b[39m])\n",
      "File \u001b[0;32m~/opt/anaconda3/envs/hydra-zen/lib/python3.10/site-packages/omegaconf/basecontainer.py:490\u001b[0m, in \u001b[0;36mBaseContainer.merge_with\u001b[0;34m(self, *others)\u001b[0m\n\u001b[1;32m    489\u001b[0m \u001b[39mtry\u001b[39;00m:\n\u001b[0;32m--> 490\u001b[0m     \u001b[39mself\u001b[39;49m\u001b[39m.\u001b[39;49m_merge_with(\u001b[39m*\u001b[39;49mothers)\n\u001b[1;32m    491\u001b[0m \u001b[39mexcept\u001b[39;00m \u001b[39mException\u001b[39;00m \u001b[39mas\u001b[39;00m e:\n",
      "File \u001b[0;32m~/opt/anaconda3/envs/hydra-zen/lib/python3.10/site-packages/omegaconf/basecontainer.py:514\u001b[0m, in \u001b[0;36mBaseContainer._merge_with\u001b[0;34m(self, *others)\u001b[0m\n\u001b[1;32m    513\u001b[0m \u001b[39mif\u001b[39;00m \u001b[39misinstance\u001b[39m(\u001b[39mself\u001b[39m, DictConfig) \u001b[39mand\u001b[39;00m \u001b[39misinstance\u001b[39m(other, DictConfig):\n\u001b[0;32m--> 514\u001b[0m     BaseContainer\u001b[39m.\u001b[39;49m_map_merge(\u001b[39mself\u001b[39;49m, other)\n\u001b[1;32m    515\u001b[0m \u001b[39melif\u001b[39;00m \u001b[39misinstance\u001b[39m(\u001b[39mself\u001b[39m, ListConfig) \u001b[39mand\u001b[39;00m \u001b[39misinstance\u001b[39m(other, ListConfig):\n",
      "File \u001b[0;32m~/opt/anaconda3/envs/hydra-zen/lib/python3.10/site-packages/omegaconf/basecontainer.py:432\u001b[0m, in \u001b[0;36mBaseContainer._map_merge\u001b[0;34m(dest, src)\u001b[0m\n\u001b[1;32m    431\u001b[0m         \u001b[39melse\u001b[39;00m:\n\u001b[0;32m--> 432\u001b[0m             dest[key] \u001b[39m=\u001b[39m src\u001b[39m.\u001b[39m_get_node(key)\n\u001b[1;32m    434\u001b[0m _update_types(node\u001b[39m=\u001b[39mdest, ref_type\u001b[39m=\u001b[39msrc_ref_type, object_type\u001b[39m=\u001b[39msrc_type)\n",
      "File \u001b[0;32m~/opt/anaconda3/envs/hydra-zen/lib/python3.10/site-packages/omegaconf/dictconfig.py:310\u001b[0m, in \u001b[0;36mDictConfig.__setitem__\u001b[0;34m(self, key, value)\u001b[0m\n\u001b[1;32m    309\u001b[0m \u001b[39mexcept\u001b[39;00m \u001b[39mAttributeError\u001b[39;00m \u001b[39mas\u001b[39;00m e:\n\u001b[0;32m--> 310\u001b[0m     \u001b[39mself\u001b[39;49m\u001b[39m.\u001b[39;49m_format_and_raise(\n\u001b[1;32m    311\u001b[0m         key\u001b[39m=\u001b[39;49mkey, value\u001b[39m=\u001b[39;49mvalue, type_override\u001b[39m=\u001b[39;49mConfigKeyError, cause\u001b[39m=\u001b[39;49me\n\u001b[1;32m    312\u001b[0m     )\n\u001b[1;32m    313\u001b[0m \u001b[39mexcept\u001b[39;00m \u001b[39mException\u001b[39;00m \u001b[39mas\u001b[39;00m e:\n",
      "File \u001b[0;32m~/opt/anaconda3/envs/hydra-zen/lib/python3.10/site-packages/omegaconf/base.py:231\u001b[0m, in \u001b[0;36mNode._format_and_raise\u001b[0;34m(self, key, value, cause, msg, type_override)\u001b[0m\n\u001b[1;32m    223\u001b[0m \u001b[39mdef\u001b[39;00m \u001b[39m_format_and_raise\u001b[39m(\n\u001b[1;32m    224\u001b[0m     \u001b[39mself\u001b[39m,\n\u001b[1;32m    225\u001b[0m     key: Any,\n\u001b[0;32m   (...)\u001b[0m\n\u001b[1;32m    229\u001b[0m     type_override: Any \u001b[39m=\u001b[39m \u001b[39mNone\u001b[39;00m,\n\u001b[1;32m    230\u001b[0m ) \u001b[39m-\u001b[39m\u001b[39m>\u001b[39m \u001b[39mNone\u001b[39;00m:\n\u001b[0;32m--> 231\u001b[0m     format_and_raise(\n\u001b[1;32m    232\u001b[0m         node\u001b[39m=\u001b[39;49m\u001b[39mself\u001b[39;49m,\n\u001b[1;32m    233\u001b[0m         key\u001b[39m=\u001b[39;49mkey,\n\u001b[1;32m    234\u001b[0m         value\u001b[39m=\u001b[39;49mvalue,\n\u001b[1;32m    235\u001b[0m         msg\u001b[39m=\u001b[39;49m\u001b[39mstr\u001b[39;49m(cause) \u001b[39mif\u001b[39;49;00m msg \u001b[39mis\u001b[39;49;00m \u001b[39mNone\u001b[39;49;00m \u001b[39melse\u001b[39;49;00m msg,\n\u001b[1;32m    236\u001b[0m         cause\u001b[39m=\u001b[39;49mcause,\n\u001b[1;32m    237\u001b[0m         type_override\u001b[39m=\u001b[39;49mtype_override,\n\u001b[1;32m    238\u001b[0m     )\n\u001b[1;32m    239\u001b[0m     \u001b[39massert\u001b[39;00m \u001b[39mFalse\u001b[39;00m\n",
      "File \u001b[0;32m~/opt/anaconda3/envs/hydra-zen/lib/python3.10/site-packages/omegaconf/_utils.py:819\u001b[0m, in \u001b[0;36mformat_and_raise\u001b[0;34m(node, key, value, msg, cause, type_override)\u001b[0m\n\u001b[1;32m    818\u001b[0m         ex\u001b[39m.\u001b[39m\u001b[39m__dict__\u001b[39m \u001b[39m=\u001b[39m copy\u001b[39m.\u001b[39mdeepcopy(cause\u001b[39m.\u001b[39m\u001b[39m__dict__\u001b[39m)\n\u001b[0;32m--> 819\u001b[0m     _raise(ex, cause)\n\u001b[1;32m    821\u001b[0m object_type: Optional[Type[Any]]\n",
      "File \u001b[0;32m~/opt/anaconda3/envs/hydra-zen/lib/python3.10/site-packages/omegaconf/_utils.py:797\u001b[0m, in \u001b[0;36m_raise\u001b[0;34m(ex, cause)\u001b[0m\n\u001b[1;32m    796\u001b[0m     ex\u001b[39m.\u001b[39m__cause__ \u001b[39m=\u001b[39m \u001b[39mNone\u001b[39;00m\n\u001b[0;32m--> 797\u001b[0m \u001b[39mraise\u001b[39;00m ex\u001b[39m.\u001b[39mwith_traceback(sys\u001b[39m.\u001b[39mexc_info()[\u001b[39m2\u001b[39m])\n",
      "File \u001b[0;32m~/opt/anaconda3/envs/hydra-zen/lib/python3.10/site-packages/omegaconf/dictconfig.py:308\u001b[0m, in \u001b[0;36mDictConfig.__setitem__\u001b[0;34m(self, key, value)\u001b[0m\n\u001b[1;32m    307\u001b[0m \u001b[39mtry\u001b[39;00m:\n\u001b[0;32m--> 308\u001b[0m     \u001b[39mself\u001b[39;49m\u001b[39m.\u001b[39;49m__set_impl(key\u001b[39m=\u001b[39;49mkey, value\u001b[39m=\u001b[39;49mvalue)\n\u001b[1;32m    309\u001b[0m \u001b[39mexcept\u001b[39;00m \u001b[39mAttributeError\u001b[39;00m \u001b[39mas\u001b[39;00m e:\n",
      "File \u001b[0;32m~/opt/anaconda3/envs/hydra-zen/lib/python3.10/site-packages/omegaconf/dictconfig.py:318\u001b[0m, in \u001b[0;36mDictConfig.__set_impl\u001b[0;34m(self, key, value)\u001b[0m\n\u001b[1;32m    317\u001b[0m key \u001b[39m=\u001b[39m \u001b[39mself\u001b[39m\u001b[39m.\u001b[39m_validate_and_normalize_key(key)\n\u001b[0;32m--> 318\u001b[0m \u001b[39mself\u001b[39;49m\u001b[39m.\u001b[39;49m_set_item_impl(key, value)\n",
      "File \u001b[0;32m~/opt/anaconda3/envs/hydra-zen/lib/python3.10/site-packages/omegaconf/basecontainer.py:545\u001b[0m, in \u001b[0;36mBaseContainer._set_item_impl\u001b[0;34m(self, key, value)\u001b[0m\n\u001b[1;32m    544\u001b[0m     value\u001b[39m.\u001b[39m_set_key(key)\n\u001b[0;32m--> 545\u001b[0m     \u001b[39mself\u001b[39;49m\u001b[39m.\u001b[39;49m_validate_set(key, value)\n\u001b[1;32m    546\u001b[0m \u001b[39mfinally\u001b[39;00m:\n",
      "File \u001b[0;32m~/opt/anaconda3/envs/hydra-zen/lib/python3.10/site-packages/omegaconf/dictconfig.py:180\u001b[0m, in \u001b[0;36mDictConfig._validate_set\u001b[0;34m(self, key, value)\u001b[0m\n\u001b[1;32m    178\u001b[0m     \u001b[39mreturn\u001b[39;00m\n\u001b[0;32m--> 180\u001b[0m target \u001b[39m=\u001b[39m \u001b[39mself\u001b[39;49m\u001b[39m.\u001b[39;49m_get_node(key) \u001b[39mif\u001b[39;00m key \u001b[39mis\u001b[39;00m \u001b[39mnot\u001b[39;00m \u001b[39mNone\u001b[39;00m \u001b[39melse\u001b[39;00m \u001b[39mself\u001b[39m\n\u001b[1;32m    182\u001b[0m target_has_ref_type \u001b[39m=\u001b[39m \u001b[39misinstance\u001b[39m(\n\u001b[1;32m    183\u001b[0m     target, DictConfig\n\u001b[1;32m    184\u001b[0m ) \u001b[39mand\u001b[39;00m target\u001b[39m.\u001b[39m_metadata\u001b[39m.\u001b[39mref_type \u001b[39mnot\u001b[39;00m \u001b[39min\u001b[39;00m (Any, \u001b[39mdict\u001b[39m)\n",
      "File \u001b[0;32m~/opt/anaconda3/envs/hydra-zen/lib/python3.10/site-packages/omegaconf/dictconfig.py:475\u001b[0m, in \u001b[0;36mDictConfig._get_node\u001b[0;34m(self, key, validate_access, validate_key, throw_on_missing_value, throw_on_missing_key)\u001b[0m\n\u001b[1;32m    474\u001b[0m \u001b[39mif\u001b[39;00m validate_access:\n\u001b[0;32m--> 475\u001b[0m     \u001b[39mself\u001b[39;49m\u001b[39m.\u001b[39;49m_validate_get(key)\n\u001b[1;32m    477\u001b[0m value: Optional[Node] \u001b[39m=\u001b[39m \u001b[39mself\u001b[39m\u001b[39m.\u001b[39m\u001b[39m__dict__\u001b[39m[\u001b[39m\"\u001b[39m\u001b[39m_content\u001b[39m\u001b[39m\"\u001b[39m]\u001b[39m.\u001b[39mget(key)\n",
      "File \u001b[0;32m~/opt/anaconda3/envs/hydra-zen/lib/python3.10/site-packages/omegaconf/dictconfig.py:164\u001b[0m, in \u001b[0;36mDictConfig._validate_get\u001b[0;34m(self, key, value)\u001b[0m\n\u001b[1;32m    163\u001b[0m     msg \u001b[39m=\u001b[39m \u001b[39mf\u001b[39m\u001b[39m\"\u001b[39m\u001b[39mKey \u001b[39m\u001b[39m'\u001b[39m\u001b[39m{\u001b[39;00mkey\u001b[39m}\u001b[39;00m\u001b[39m'\u001b[39m\u001b[39m is not in struct\u001b[39m\u001b[39m\"\u001b[39m\n\u001b[0;32m--> 164\u001b[0m \u001b[39mself\u001b[39;49m\u001b[39m.\u001b[39;49m_format_and_raise(\n\u001b[1;32m    165\u001b[0m     key\u001b[39m=\u001b[39;49mkey, value\u001b[39m=\u001b[39;49mvalue, cause\u001b[39m=\u001b[39;49mConfigAttributeError(msg)\n\u001b[1;32m    166\u001b[0m )\n",
      "File \u001b[0;32m~/opt/anaconda3/envs/hydra-zen/lib/python3.10/site-packages/omegaconf/base.py:231\u001b[0m, in \u001b[0;36mNode._format_and_raise\u001b[0;34m(self, key, value, cause, msg, type_override)\u001b[0m\n\u001b[1;32m    223\u001b[0m \u001b[39mdef\u001b[39;00m \u001b[39m_format_and_raise\u001b[39m(\n\u001b[1;32m    224\u001b[0m     \u001b[39mself\u001b[39m,\n\u001b[1;32m    225\u001b[0m     key: Any,\n\u001b[0;32m   (...)\u001b[0m\n\u001b[1;32m    229\u001b[0m     type_override: Any \u001b[39m=\u001b[39m \u001b[39mNone\u001b[39;00m,\n\u001b[1;32m    230\u001b[0m ) \u001b[39m-\u001b[39m\u001b[39m>\u001b[39m \u001b[39mNone\u001b[39;00m:\n\u001b[0;32m--> 231\u001b[0m     format_and_raise(\n\u001b[1;32m    232\u001b[0m         node\u001b[39m=\u001b[39;49m\u001b[39mself\u001b[39;49m,\n\u001b[1;32m    233\u001b[0m         key\u001b[39m=\u001b[39;49mkey,\n\u001b[1;32m    234\u001b[0m         value\u001b[39m=\u001b[39;49mvalue,\n\u001b[1;32m    235\u001b[0m         msg\u001b[39m=\u001b[39;49m\u001b[39mstr\u001b[39;49m(cause) \u001b[39mif\u001b[39;49;00m msg \u001b[39mis\u001b[39;49;00m \u001b[39mNone\u001b[39;49;00m \u001b[39melse\u001b[39;49;00m msg,\n\u001b[1;32m    236\u001b[0m         cause\u001b[39m=\u001b[39;49mcause,\n\u001b[1;32m    237\u001b[0m         type_override\u001b[39m=\u001b[39;49mtype_override,\n\u001b[1;32m    238\u001b[0m     )\n\u001b[1;32m    239\u001b[0m     \u001b[39massert\u001b[39;00m \u001b[39mFalse\u001b[39;00m\n",
      "File \u001b[0;32m~/opt/anaconda3/envs/hydra-zen/lib/python3.10/site-packages/omegaconf/_utils.py:899\u001b[0m, in \u001b[0;36mformat_and_raise\u001b[0;34m(node, key, value, msg, cause, type_override)\u001b[0m\n\u001b[1;32m    897\u001b[0m     ex\u001b[39m.\u001b[39mref_type_str \u001b[39m=\u001b[39m ref_type_str\n\u001b[0;32m--> 899\u001b[0m _raise(ex, cause)\n",
      "File \u001b[0;32m~/opt/anaconda3/envs/hydra-zen/lib/python3.10/site-packages/omegaconf/_utils.py:797\u001b[0m, in \u001b[0;36m_raise\u001b[0;34m(ex, cause)\u001b[0m\n\u001b[1;32m    796\u001b[0m     ex\u001b[39m.\u001b[39m__cause__ \u001b[39m=\u001b[39m \u001b[39mNone\u001b[39;00m\n\u001b[0;32m--> 797\u001b[0m \u001b[39mraise\u001b[39;00m ex\u001b[39m.\u001b[39mwith_traceback(sys\u001b[39m.\u001b[39mexc_info()[\u001b[39m2\u001b[39m])\n",
      "\u001b[0;31mConfigKeyError\u001b[0m: Key 'lower_level_class' not in 'Builds_TopLevelClass'\n    full_key: lower_level_class\n    object_type=Builds_TopLevelClass",
      "\nDuring handling of the above exception, another exception occurred:\n",
      "\u001b[0;31mConfigCompositionException\u001b[0m                Traceback (most recent call last)",
      "Cell \u001b[0;32mIn[26], line 1\u001b[0m\n\u001b[0;32m----> 1\u001b[0m out \u001b[39m=\u001b[39m launch(\n\u001b[1;32m      2\u001b[0m     top_level_class_config_2, \n\u001b[1;32m      3\u001b[0m     launch_and_instantiate, \n\u001b[1;32m      4\u001b[0m     overrides\u001b[39m=\u001b[39;49m[\u001b[39m'\u001b[39;49m\u001b[39mlower_level_class.b=123\u001b[39;49m\u001b[39m'\u001b[39;49m]\n\u001b[1;32m      5\u001b[0m     )\n\u001b[1;32m      6\u001b[0m out\u001b[39m.\u001b[39mreturn_value\n",
      "File \u001b[0;32m~/code/hydra-zen/src/hydra_zen/_launch.py:251\u001b[0m, in \u001b[0;36mlaunch\u001b[0;34m(config, task_function, overrides, multirun, version_base, to_dictconfig, config_name, job_name, with_log_configuration)\u001b[0m\n\u001b[1;32m    248\u001b[0m \u001b[39massert\u001b[39;00m gh\u001b[39m.\u001b[39mhydra \u001b[39mis\u001b[39;00m \u001b[39mnot\u001b[39;00m \u001b[39mNone\u001b[39;00m\n\u001b[1;32m    250\u001b[0m \u001b[39m# Load configuration\u001b[39;00m\n\u001b[0;32m--> 251\u001b[0m cfg \u001b[39m=\u001b[39m gh\u001b[39m.\u001b[39;49mhydra\u001b[39m.\u001b[39;49mcompose_config(\n\u001b[1;32m    252\u001b[0m     config_name\u001b[39m=\u001b[39;49mconfig_name,\n\u001b[1;32m    253\u001b[0m     overrides\u001b[39m=\u001b[39;49moverrides \u001b[39mif\u001b[39;49;00m overrides \u001b[39mis\u001b[39;49;00m \u001b[39mnot\u001b[39;49;00m \u001b[39mNone\u001b[39;49;00m \u001b[39melse\u001b[39;49;00m [],\n\u001b[1;32m    254\u001b[0m     run_mode\u001b[39m=\u001b[39;49mRunMode\u001b[39m.\u001b[39;49mRUN \u001b[39mif\u001b[39;49;00m \u001b[39mnot\u001b[39;49;00m multirun \u001b[39melse\u001b[39;49;00m RunMode\u001b[39m.\u001b[39;49mMULTIRUN,\n\u001b[1;32m    255\u001b[0m     from_shell\u001b[39m=\u001b[39;49m\u001b[39mFalse\u001b[39;49;00m,\n\u001b[1;32m    256\u001b[0m     with_log_configuration\u001b[39m=\u001b[39;49mwith_log_configuration,\n\u001b[1;32m    257\u001b[0m )\n\u001b[1;32m    259\u001b[0m callbacks \u001b[39m=\u001b[39m Callbacks(cfg)\n\u001b[1;32m    260\u001b[0m run_start \u001b[39m=\u001b[39m (\n\u001b[1;32m    261\u001b[0m     callbacks\u001b[39m.\u001b[39mon_run_start \u001b[39mif\u001b[39;00m \u001b[39mnot\u001b[39;00m multirun \u001b[39melse\u001b[39;00m callbacks\u001b[39m.\u001b[39mon_multirun_start\n\u001b[1;32m    262\u001b[0m )\n",
      "File \u001b[0;32m~/opt/anaconda3/envs/hydra-zen/lib/python3.10/site-packages/hydra/_internal/hydra.py:594\u001b[0m, in \u001b[0;36mHydra.compose_config\u001b[0;34m(self, config_name, overrides, run_mode, with_log_configuration, from_shell, validate_sweep_overrides)\u001b[0m\n\u001b[1;32m    576\u001b[0m \u001b[39mdef\u001b[39;00m \u001b[39mcompose_config\u001b[39m(\n\u001b[1;32m    577\u001b[0m     \u001b[39mself\u001b[39m,\n\u001b[1;32m    578\u001b[0m     config_name: Optional[\u001b[39mstr\u001b[39m],\n\u001b[0;32m   (...)\u001b[0m\n\u001b[1;32m    583\u001b[0m     validate_sweep_overrides: \u001b[39mbool\u001b[39m \u001b[39m=\u001b[39m \u001b[39mTrue\u001b[39;00m,\n\u001b[1;32m    584\u001b[0m ) \u001b[39m-\u001b[39m\u001b[39m>\u001b[39m DictConfig:\n\u001b[1;32m    585\u001b[0m     \u001b[39m\"\"\"\u001b[39;00m\n\u001b[1;32m    586\u001b[0m \u001b[39m    :param config_name:\u001b[39;00m\n\u001b[1;32m    587\u001b[0m \u001b[39m    :param overrides:\u001b[39;00m\n\u001b[0;32m   (...)\u001b[0m\n\u001b[1;32m    591\u001b[0m \u001b[39m    :return:\u001b[39;00m\n\u001b[1;32m    592\u001b[0m \u001b[39m    \"\"\"\u001b[39;00m\n\u001b[0;32m--> 594\u001b[0m     cfg \u001b[39m=\u001b[39m \u001b[39mself\u001b[39;49m\u001b[39m.\u001b[39;49mconfig_loader\u001b[39m.\u001b[39;49mload_configuration(\n\u001b[1;32m    595\u001b[0m         config_name\u001b[39m=\u001b[39;49mconfig_name,\n\u001b[1;32m    596\u001b[0m         overrides\u001b[39m=\u001b[39;49moverrides,\n\u001b[1;32m    597\u001b[0m         run_mode\u001b[39m=\u001b[39;49mrun_mode,\n\u001b[1;32m    598\u001b[0m         from_shell\u001b[39m=\u001b[39;49mfrom_shell,\n\u001b[1;32m    599\u001b[0m         validate_sweep_overrides\u001b[39m=\u001b[39;49mvalidate_sweep_overrides,\n\u001b[1;32m    600\u001b[0m     )\n\u001b[1;32m    601\u001b[0m     \u001b[39mif\u001b[39;00m with_log_configuration:\n\u001b[1;32m    602\u001b[0m         configure_log(cfg\u001b[39m.\u001b[39mhydra\u001b[39m.\u001b[39mhydra_logging, cfg\u001b[39m.\u001b[39mhydra\u001b[39m.\u001b[39mverbose)\n",
      "File \u001b[0;32m~/opt/anaconda3/envs/hydra-zen/lib/python3.10/site-packages/hydra/_internal/config_loader_impl.py:142\u001b[0m, in \u001b[0;36mConfigLoaderImpl.load_configuration\u001b[0;34m(self, config_name, overrides, run_mode, from_shell, validate_sweep_overrides)\u001b[0m\n\u001b[1;32m    133\u001b[0m \u001b[39mdef\u001b[39;00m \u001b[39mload_configuration\u001b[39m(\n\u001b[1;32m    134\u001b[0m     \u001b[39mself\u001b[39m,\n\u001b[1;32m    135\u001b[0m     config_name: Optional[\u001b[39mstr\u001b[39m],\n\u001b[0;32m   (...)\u001b[0m\n\u001b[1;32m    139\u001b[0m     validate_sweep_overrides: \u001b[39mbool\u001b[39m \u001b[39m=\u001b[39m \u001b[39mTrue\u001b[39;00m,\n\u001b[1;32m    140\u001b[0m ) \u001b[39m-\u001b[39m\u001b[39m>\u001b[39m DictConfig:\n\u001b[1;32m    141\u001b[0m     \u001b[39mtry\u001b[39;00m:\n\u001b[0;32m--> 142\u001b[0m         \u001b[39mreturn\u001b[39;00m \u001b[39mself\u001b[39;49m\u001b[39m.\u001b[39;49m_load_configuration_impl(\n\u001b[1;32m    143\u001b[0m             config_name\u001b[39m=\u001b[39;49mconfig_name,\n\u001b[1;32m    144\u001b[0m             overrides\u001b[39m=\u001b[39;49moverrides,\n\u001b[1;32m    145\u001b[0m             run_mode\u001b[39m=\u001b[39;49mrun_mode,\n\u001b[1;32m    146\u001b[0m             from_shell\u001b[39m=\u001b[39;49mfrom_shell,\n\u001b[1;32m    147\u001b[0m             validate_sweep_overrides\u001b[39m=\u001b[39;49mvalidate_sweep_overrides,\n\u001b[1;32m    148\u001b[0m         )\n\u001b[1;32m    149\u001b[0m     \u001b[39mexcept\u001b[39;00m OmegaConfBaseException \u001b[39mas\u001b[39;00m e:\n\u001b[1;32m    150\u001b[0m         \u001b[39mraise\u001b[39;00m ConfigCompositionException()\u001b[39m.\u001b[39mwith_traceback(sys\u001b[39m.\u001b[39mexc_info()[\u001b[39m2\u001b[39m]) \u001b[39mfrom\u001b[39;00m \u001b[39me\u001b[39;00m\n",
      "File \u001b[0;32m~/opt/anaconda3/envs/hydra-zen/lib/python3.10/site-packages/hydra/_internal/config_loader_impl.py:263\u001b[0m, in \u001b[0;36mConfigLoaderImpl._load_configuration_impl\u001b[0;34m(self, config_name, overrides, run_mode, from_shell, validate_sweep_overrides)\u001b[0m\n\u001b[1;32m    253\u001b[0m defaults_list \u001b[39m=\u001b[39m create_defaults_list(\n\u001b[1;32m    254\u001b[0m     repo\u001b[39m=\u001b[39mcaching_repo,\n\u001b[1;32m    255\u001b[0m     config_name\u001b[39m=\u001b[39mconfig_name,\n\u001b[0;32m   (...)\u001b[0m\n\u001b[1;32m    258\u001b[0m     skip_missing\u001b[39m=\u001b[39mrun_mode \u001b[39m==\u001b[39m RunMode\u001b[39m.\u001b[39mMULTIRUN,\n\u001b[1;32m    259\u001b[0m )\n\u001b[1;32m    261\u001b[0m config_overrides \u001b[39m=\u001b[39m defaults_list\u001b[39m.\u001b[39mconfig_overrides\n\u001b[0;32m--> 263\u001b[0m cfg \u001b[39m=\u001b[39m \u001b[39mself\u001b[39;49m\u001b[39m.\u001b[39;49m_compose_config_from_defaults_list(\n\u001b[1;32m    264\u001b[0m     defaults\u001b[39m=\u001b[39;49mdefaults_list\u001b[39m.\u001b[39;49mdefaults, repo\u001b[39m=\u001b[39;49mcaching_repo\n\u001b[1;32m    265\u001b[0m )\n\u001b[1;32m    267\u001b[0m \u001b[39m# Set config root to struct mode.\u001b[39;00m\n\u001b[1;32m    268\u001b[0m \u001b[39m# Note that this will close any dictionaries (including dicts annotated as Dict[K, V].\u001b[39;00m\n\u001b[1;32m    269\u001b[0m \u001b[39m# One must use + to add new fields to them.\u001b[39;00m\n\u001b[1;32m    270\u001b[0m OmegaConf\u001b[39m.\u001b[39mset_struct(cfg, \u001b[39mTrue\u001b[39;00m)\n",
      "File \u001b[0;32m~/opt/anaconda3/envs/hydra-zen/lib/python3.10/site-packages/hydra/_internal/config_loader_impl.py:544\u001b[0m, in \u001b[0;36mConfigLoaderImpl._compose_config_from_defaults_list\u001b[0;34m(self, defaults, repo)\u001b[0m\n\u001b[1;32m    542\u001b[0m             cfg\u001b[39m.\u001b[39mmerge_with(loaded\u001b[39m.\u001b[39mconfig)\n\u001b[1;32m    543\u001b[0m         \u001b[39mexcept\u001b[39;00m OmegaConfBaseException \u001b[39mas\u001b[39;00m e:\n\u001b[0;32m--> 544\u001b[0m             \u001b[39mraise\u001b[39;00m ConfigCompositionException(\n\u001b[1;32m    545\u001b[0m                 \u001b[39mf\u001b[39m\u001b[39m\"\u001b[39m\u001b[39mIn \u001b[39m\u001b[39m'\u001b[39m\u001b[39m{\u001b[39;00mdefault\u001b[39m.\u001b[39mconfig_path\u001b[39m}\u001b[39;00m\u001b[39m'\u001b[39m\u001b[39m: \u001b[39m\u001b[39m{\u001b[39;00m\u001b[39mtype\u001b[39m(e)\u001b[39m.\u001b[39m\u001b[39m__name__\u001b[39m\u001b[39m}\u001b[39;00m\u001b[39m raised while\u001b[39m\u001b[39m\"\u001b[39m\n\u001b[1;32m    546\u001b[0m                 \u001b[39mf\u001b[39m\u001b[39m\"\u001b[39m\u001b[39m composing config:\u001b[39m\u001b[39m\\n\u001b[39;00m\u001b[39m{\u001b[39;00me\u001b[39m}\u001b[39;00m\u001b[39m\"\u001b[39m\n\u001b[1;32m    547\u001b[0m             )\u001b[39m.\u001b[39mwith_traceback(sys\u001b[39m.\u001b[39mexc_info()[\u001b[39m2\u001b[39m])\n\u001b[1;32m    549\u001b[0m \u001b[39m# # remove remaining defaults lists from all nodes.\u001b[39;00m\n\u001b[1;32m    550\u001b[0m \u001b[39mdef\u001b[39;00m \u001b[39mstrip_defaults\u001b[39m(cfg: Any) \u001b[39m-\u001b[39m\u001b[39m>\u001b[39m \u001b[39mNone\u001b[39;00m:\n",
      "File \u001b[0;32m~/opt/anaconda3/envs/hydra-zen/lib/python3.10/site-packages/hydra/_internal/config_loader_impl.py:542\u001b[0m, in \u001b[0;36mConfigLoaderImpl._compose_config_from_defaults_list\u001b[0;34m(self, defaults, repo)\u001b[0m\n\u001b[1;32m    540\u001b[0m loaded \u001b[39m=\u001b[39m \u001b[39mself\u001b[39m\u001b[39m.\u001b[39m_load_single_config(default\u001b[39m=\u001b[39mdefault, repo\u001b[39m=\u001b[39mrepo)\n\u001b[1;32m    541\u001b[0m \u001b[39mtry\u001b[39;00m:\n\u001b[0;32m--> 542\u001b[0m     cfg\u001b[39m.\u001b[39;49mmerge_with(loaded\u001b[39m.\u001b[39;49mconfig)\n\u001b[1;32m    543\u001b[0m \u001b[39mexcept\u001b[39;00m OmegaConfBaseException \u001b[39mas\u001b[39;00m e:\n\u001b[1;32m    544\u001b[0m     \u001b[39mraise\u001b[39;00m ConfigCompositionException(\n\u001b[1;32m    545\u001b[0m         \u001b[39mf\u001b[39m\u001b[39m\"\u001b[39m\u001b[39mIn \u001b[39m\u001b[39m'\u001b[39m\u001b[39m{\u001b[39;00mdefault\u001b[39m.\u001b[39mconfig_path\u001b[39m}\u001b[39;00m\u001b[39m'\u001b[39m\u001b[39m: \u001b[39m\u001b[39m{\u001b[39;00m\u001b[39mtype\u001b[39m(e)\u001b[39m.\u001b[39m\u001b[39m__name__\u001b[39m\u001b[39m}\u001b[39;00m\u001b[39m raised while\u001b[39m\u001b[39m\"\u001b[39m\n\u001b[1;32m    546\u001b[0m         \u001b[39mf\u001b[39m\u001b[39m\"\u001b[39m\u001b[39m composing config:\u001b[39m\u001b[39m\\n\u001b[39;00m\u001b[39m{\u001b[39;00me\u001b[39m}\u001b[39;00m\u001b[39m\"\u001b[39m\n\u001b[1;32m    547\u001b[0m     )\u001b[39m.\u001b[39mwith_traceback(sys\u001b[39m.\u001b[39mexc_info()[\u001b[39m2\u001b[39m])\n",
      "File \u001b[0;32m~/opt/anaconda3/envs/hydra-zen/lib/python3.10/site-packages/omegaconf/basecontainer.py:492\u001b[0m, in \u001b[0;36mBaseContainer.merge_with\u001b[0;34m(self, *others)\u001b[0m\n\u001b[1;32m    490\u001b[0m     \u001b[39mself\u001b[39m\u001b[39m.\u001b[39m_merge_with(\u001b[39m*\u001b[39mothers)\n\u001b[1;32m    491\u001b[0m \u001b[39mexcept\u001b[39;00m \u001b[39mException\u001b[39;00m \u001b[39mas\u001b[39;00m e:\n\u001b[0;32m--> 492\u001b[0m     \u001b[39mself\u001b[39;49m\u001b[39m.\u001b[39;49m_format_and_raise(key\u001b[39m=\u001b[39;49m\u001b[39mNone\u001b[39;49;00m, value\u001b[39m=\u001b[39;49m\u001b[39mNone\u001b[39;49;00m, cause\u001b[39m=\u001b[39;49me)\n",
      "File \u001b[0;32m~/opt/anaconda3/envs/hydra-zen/lib/python3.10/site-packages/omegaconf/base.py:231\u001b[0m, in \u001b[0;36mNode._format_and_raise\u001b[0;34m(self, key, value, cause, msg, type_override)\u001b[0m\n\u001b[1;32m    223\u001b[0m \u001b[39mdef\u001b[39;00m \u001b[39m_format_and_raise\u001b[39m(\n\u001b[1;32m    224\u001b[0m     \u001b[39mself\u001b[39m,\n\u001b[1;32m    225\u001b[0m     key: Any,\n\u001b[0;32m   (...)\u001b[0m\n\u001b[1;32m    229\u001b[0m     type_override: Any \u001b[39m=\u001b[39m \u001b[39mNone\u001b[39;00m,\n\u001b[1;32m    230\u001b[0m ) \u001b[39m-\u001b[39m\u001b[39m>\u001b[39m \u001b[39mNone\u001b[39;00m:\n\u001b[0;32m--> 231\u001b[0m     format_and_raise(\n\u001b[1;32m    232\u001b[0m         node\u001b[39m=\u001b[39;49m\u001b[39mself\u001b[39;49m,\n\u001b[1;32m    233\u001b[0m         key\u001b[39m=\u001b[39;49mkey,\n\u001b[1;32m    234\u001b[0m         value\u001b[39m=\u001b[39;49mvalue,\n\u001b[1;32m    235\u001b[0m         msg\u001b[39m=\u001b[39;49m\u001b[39mstr\u001b[39;49m(cause) \u001b[39mif\u001b[39;49;00m msg \u001b[39mis\u001b[39;49;00m \u001b[39mNone\u001b[39;49;00m \u001b[39melse\u001b[39;49;00m msg,\n\u001b[1;32m    236\u001b[0m         cause\u001b[39m=\u001b[39;49mcause,\n\u001b[1;32m    237\u001b[0m         type_override\u001b[39m=\u001b[39;49mtype_override,\n\u001b[1;32m    238\u001b[0m     )\n\u001b[1;32m    239\u001b[0m     \u001b[39massert\u001b[39;00m \u001b[39mFalse\u001b[39;00m\n",
      "File \u001b[0;32m~/opt/anaconda3/envs/hydra-zen/lib/python3.10/site-packages/omegaconf/_utils.py:819\u001b[0m, in \u001b[0;36mformat_and_raise\u001b[0;34m(node, key, value, msg, cause, type_override)\u001b[0m\n\u001b[1;32m    817\u001b[0m         ex \u001b[39m=\u001b[39m type_override(\u001b[39mstr\u001b[39m(cause))\n\u001b[1;32m    818\u001b[0m         ex\u001b[39m.\u001b[39m\u001b[39m__dict__\u001b[39m \u001b[39m=\u001b[39m copy\u001b[39m.\u001b[39mdeepcopy(cause\u001b[39m.\u001b[39m\u001b[39m__dict__\u001b[39m)\n\u001b[0;32m--> 819\u001b[0m     _raise(ex, cause)\n\u001b[1;32m    821\u001b[0m object_type: Optional[Type[Any]]\n\u001b[1;32m    822\u001b[0m object_type_str: Optional[\u001b[39mstr\u001b[39m] \u001b[39m=\u001b[39m \u001b[39mNone\u001b[39;00m\n",
      "File \u001b[0;32m~/opt/anaconda3/envs/hydra-zen/lib/python3.10/site-packages/omegaconf/_utils.py:797\u001b[0m, in \u001b[0;36m_raise\u001b[0;34m(ex, cause)\u001b[0m\n\u001b[1;32m    795\u001b[0m \u001b[39melse\u001b[39;00m:\n\u001b[1;32m    796\u001b[0m     ex\u001b[39m.\u001b[39m__cause__ \u001b[39m=\u001b[39m \u001b[39mNone\u001b[39;00m\n\u001b[0;32m--> 797\u001b[0m \u001b[39mraise\u001b[39;00m ex\u001b[39m.\u001b[39mwith_traceback(sys\u001b[39m.\u001b[39mexc_info()[\u001b[39m2\u001b[39m])\n",
      "File \u001b[0;32m~/opt/anaconda3/envs/hydra-zen/lib/python3.10/site-packages/omegaconf/basecontainer.py:490\u001b[0m, in \u001b[0;36mBaseContainer.merge_with\u001b[0;34m(self, *others)\u001b[0m\n\u001b[1;32m    483\u001b[0m \u001b[39mdef\u001b[39;00m \u001b[39mmerge_with\u001b[39m(\n\u001b[1;32m    484\u001b[0m     \u001b[39mself\u001b[39m,\n\u001b[1;32m    485\u001b[0m     \u001b[39m*\u001b[39mothers: Union[\n\u001b[1;32m    486\u001b[0m         \u001b[39m\"\u001b[39m\u001b[39mBaseContainer\u001b[39m\u001b[39m\"\u001b[39m, Dict[\u001b[39mstr\u001b[39m, Any], List[Any], Tuple[Any, \u001b[39m.\u001b[39m\u001b[39m.\u001b[39m\u001b[39m.\u001b[39m], Any\n\u001b[1;32m    487\u001b[0m     ],\n\u001b[1;32m    488\u001b[0m ) \u001b[39m-\u001b[39m\u001b[39m>\u001b[39m \u001b[39mNone\u001b[39;00m:\n\u001b[1;32m    489\u001b[0m     \u001b[39mtry\u001b[39;00m:\n\u001b[0;32m--> 490\u001b[0m         \u001b[39mself\u001b[39;49m\u001b[39m.\u001b[39;49m_merge_with(\u001b[39m*\u001b[39;49mothers)\n\u001b[1;32m    491\u001b[0m     \u001b[39mexcept\u001b[39;00m \u001b[39mException\u001b[39;00m \u001b[39mas\u001b[39;00m e:\n\u001b[1;32m    492\u001b[0m         \u001b[39mself\u001b[39m\u001b[39m.\u001b[39m_format_and_raise(key\u001b[39m=\u001b[39m\u001b[39mNone\u001b[39;00m, value\u001b[39m=\u001b[39m\u001b[39mNone\u001b[39;00m, cause\u001b[39m=\u001b[39me)\n",
      "File \u001b[0;32m~/opt/anaconda3/envs/hydra-zen/lib/python3.10/site-packages/omegaconf/basecontainer.py:514\u001b[0m, in \u001b[0;36mBaseContainer._merge_with\u001b[0;34m(self, *others)\u001b[0m\n\u001b[1;32m    511\u001b[0m other \u001b[39m=\u001b[39m _ensure_container(other, flags\u001b[39m=\u001b[39mmy_flags)\n\u001b[1;32m    513\u001b[0m \u001b[39mif\u001b[39;00m \u001b[39misinstance\u001b[39m(\u001b[39mself\u001b[39m, DictConfig) \u001b[39mand\u001b[39;00m \u001b[39misinstance\u001b[39m(other, DictConfig):\n\u001b[0;32m--> 514\u001b[0m     BaseContainer\u001b[39m.\u001b[39;49m_map_merge(\u001b[39mself\u001b[39;49m, other)\n\u001b[1;32m    515\u001b[0m \u001b[39melif\u001b[39;00m \u001b[39misinstance\u001b[39m(\u001b[39mself\u001b[39m, ListConfig) \u001b[39mand\u001b[39;00m \u001b[39misinstance\u001b[39m(other, ListConfig):\n\u001b[1;32m    516\u001b[0m     BaseContainer\u001b[39m.\u001b[39m_list_merge(\u001b[39mself\u001b[39m, other)\n",
      "File \u001b[0;32m~/opt/anaconda3/envs/hydra-zen/lib/python3.10/site-packages/omegaconf/basecontainer.py:432\u001b[0m, in \u001b[0;36mBaseContainer._map_merge\u001b[0;34m(dest, src)\u001b[0m\n\u001b[1;32m    430\u001b[0m                 dest[key] \u001b[39m=\u001b[39m src\u001b[39m.\u001b[39m_get_node(key)\n\u001b[1;32m    431\u001b[0m         \u001b[39melse\u001b[39;00m:\n\u001b[0;32m--> 432\u001b[0m             dest[key] \u001b[39m=\u001b[39m src\u001b[39m.\u001b[39m_get_node(key)\n\u001b[1;32m    434\u001b[0m _update_types(node\u001b[39m=\u001b[39mdest, ref_type\u001b[39m=\u001b[39msrc_ref_type, object_type\u001b[39m=\u001b[39msrc_type)\n\u001b[1;32m    436\u001b[0m \u001b[39m# explicit flags on the source config are replacing the flag values in the destination\u001b[39;00m\n",
      "File \u001b[0;32m~/opt/anaconda3/envs/hydra-zen/lib/python3.10/site-packages/omegaconf/dictconfig.py:310\u001b[0m, in \u001b[0;36mDictConfig.__setitem__\u001b[0;34m(self, key, value)\u001b[0m\n\u001b[1;32m    308\u001b[0m     \u001b[39mself\u001b[39m\u001b[39m.\u001b[39m__set_impl(key\u001b[39m=\u001b[39mkey, value\u001b[39m=\u001b[39mvalue)\n\u001b[1;32m    309\u001b[0m \u001b[39mexcept\u001b[39;00m \u001b[39mAttributeError\u001b[39;00m \u001b[39mas\u001b[39;00m e:\n\u001b[0;32m--> 310\u001b[0m     \u001b[39mself\u001b[39;49m\u001b[39m.\u001b[39;49m_format_and_raise(\n\u001b[1;32m    311\u001b[0m         key\u001b[39m=\u001b[39;49mkey, value\u001b[39m=\u001b[39;49mvalue, type_override\u001b[39m=\u001b[39;49mConfigKeyError, cause\u001b[39m=\u001b[39;49me\n\u001b[1;32m    312\u001b[0m     )\n\u001b[1;32m    313\u001b[0m \u001b[39mexcept\u001b[39;00m \u001b[39mException\u001b[39;00m \u001b[39mas\u001b[39;00m e:\n\u001b[1;32m    314\u001b[0m     \u001b[39mself\u001b[39m\u001b[39m.\u001b[39m_format_and_raise(key\u001b[39m=\u001b[39mkey, value\u001b[39m=\u001b[39mvalue, cause\u001b[39m=\u001b[39me)\n",
      "File \u001b[0;32m~/opt/anaconda3/envs/hydra-zen/lib/python3.10/site-packages/omegaconf/base.py:231\u001b[0m, in \u001b[0;36mNode._format_and_raise\u001b[0;34m(self, key, value, cause, msg, type_override)\u001b[0m\n\u001b[1;32m    223\u001b[0m \u001b[39mdef\u001b[39;00m \u001b[39m_format_and_raise\u001b[39m(\n\u001b[1;32m    224\u001b[0m     \u001b[39mself\u001b[39m,\n\u001b[1;32m    225\u001b[0m     key: Any,\n\u001b[0;32m   (...)\u001b[0m\n\u001b[1;32m    229\u001b[0m     type_override: Any \u001b[39m=\u001b[39m \u001b[39mNone\u001b[39;00m,\n\u001b[1;32m    230\u001b[0m ) \u001b[39m-\u001b[39m\u001b[39m>\u001b[39m \u001b[39mNone\u001b[39;00m:\n\u001b[0;32m--> 231\u001b[0m     format_and_raise(\n\u001b[1;32m    232\u001b[0m         node\u001b[39m=\u001b[39;49m\u001b[39mself\u001b[39;49m,\n\u001b[1;32m    233\u001b[0m         key\u001b[39m=\u001b[39;49mkey,\n\u001b[1;32m    234\u001b[0m         value\u001b[39m=\u001b[39;49mvalue,\n\u001b[1;32m    235\u001b[0m         msg\u001b[39m=\u001b[39;49m\u001b[39mstr\u001b[39;49m(cause) \u001b[39mif\u001b[39;49;00m msg \u001b[39mis\u001b[39;49;00m \u001b[39mNone\u001b[39;49;00m \u001b[39melse\u001b[39;49;00m msg,\n\u001b[1;32m    236\u001b[0m         cause\u001b[39m=\u001b[39;49mcause,\n\u001b[1;32m    237\u001b[0m         type_override\u001b[39m=\u001b[39;49mtype_override,\n\u001b[1;32m    238\u001b[0m     )\n\u001b[1;32m    239\u001b[0m     \u001b[39massert\u001b[39;00m \u001b[39mFalse\u001b[39;00m\n",
      "File \u001b[0;32m~/opt/anaconda3/envs/hydra-zen/lib/python3.10/site-packages/omegaconf/_utils.py:819\u001b[0m, in \u001b[0;36mformat_and_raise\u001b[0;34m(node, key, value, msg, cause, type_override)\u001b[0m\n\u001b[1;32m    817\u001b[0m         ex \u001b[39m=\u001b[39m type_override(\u001b[39mstr\u001b[39m(cause))\n\u001b[1;32m    818\u001b[0m         ex\u001b[39m.\u001b[39m\u001b[39m__dict__\u001b[39m \u001b[39m=\u001b[39m copy\u001b[39m.\u001b[39mdeepcopy(cause\u001b[39m.\u001b[39m\u001b[39m__dict__\u001b[39m)\n\u001b[0;32m--> 819\u001b[0m     _raise(ex, cause)\n\u001b[1;32m    821\u001b[0m object_type: Optional[Type[Any]]\n\u001b[1;32m    822\u001b[0m object_type_str: Optional[\u001b[39mstr\u001b[39m] \u001b[39m=\u001b[39m \u001b[39mNone\u001b[39;00m\n",
      "File \u001b[0;32m~/opt/anaconda3/envs/hydra-zen/lib/python3.10/site-packages/omegaconf/_utils.py:797\u001b[0m, in \u001b[0;36m_raise\u001b[0;34m(ex, cause)\u001b[0m\n\u001b[1;32m    795\u001b[0m \u001b[39melse\u001b[39;00m:\n\u001b[1;32m    796\u001b[0m     ex\u001b[39m.\u001b[39m__cause__ \u001b[39m=\u001b[39m \u001b[39mNone\u001b[39;00m\n\u001b[0;32m--> 797\u001b[0m \u001b[39mraise\u001b[39;00m ex\u001b[39m.\u001b[39mwith_traceback(sys\u001b[39m.\u001b[39mexc_info()[\u001b[39m2\u001b[39m])\n",
      "File \u001b[0;32m~/opt/anaconda3/envs/hydra-zen/lib/python3.10/site-packages/omegaconf/dictconfig.py:308\u001b[0m, in \u001b[0;36mDictConfig.__setitem__\u001b[0;34m(self, key, value)\u001b[0m\n\u001b[1;32m    306\u001b[0m \u001b[39mdef\u001b[39;00m \u001b[39m__setitem__\u001b[39m(\u001b[39mself\u001b[39m, key: DictKeyType, value: Any) \u001b[39m-\u001b[39m\u001b[39m>\u001b[39m \u001b[39mNone\u001b[39;00m:\n\u001b[1;32m    307\u001b[0m     \u001b[39mtry\u001b[39;00m:\n\u001b[0;32m--> 308\u001b[0m         \u001b[39mself\u001b[39;49m\u001b[39m.\u001b[39;49m__set_impl(key\u001b[39m=\u001b[39;49mkey, value\u001b[39m=\u001b[39;49mvalue)\n\u001b[1;32m    309\u001b[0m     \u001b[39mexcept\u001b[39;00m \u001b[39mAttributeError\u001b[39;00m \u001b[39mas\u001b[39;00m e:\n\u001b[1;32m    310\u001b[0m         \u001b[39mself\u001b[39m\u001b[39m.\u001b[39m_format_and_raise(\n\u001b[1;32m    311\u001b[0m             key\u001b[39m=\u001b[39mkey, value\u001b[39m=\u001b[39mvalue, type_override\u001b[39m=\u001b[39mConfigKeyError, cause\u001b[39m=\u001b[39me\n\u001b[1;32m    312\u001b[0m         )\n",
      "File \u001b[0;32m~/opt/anaconda3/envs/hydra-zen/lib/python3.10/site-packages/omegaconf/dictconfig.py:318\u001b[0m, in \u001b[0;36mDictConfig.__set_impl\u001b[0;34m(self, key, value)\u001b[0m\n\u001b[1;32m    316\u001b[0m \u001b[39mdef\u001b[39;00m \u001b[39m__set_impl\u001b[39m(\u001b[39mself\u001b[39m, key: DictKeyType, value: Any) \u001b[39m-\u001b[39m\u001b[39m>\u001b[39m \u001b[39mNone\u001b[39;00m:\n\u001b[1;32m    317\u001b[0m     key \u001b[39m=\u001b[39m \u001b[39mself\u001b[39m\u001b[39m.\u001b[39m_validate_and_normalize_key(key)\n\u001b[0;32m--> 318\u001b[0m     \u001b[39mself\u001b[39;49m\u001b[39m.\u001b[39;49m_set_item_impl(key, value)\n",
      "File \u001b[0;32m~/opt/anaconda3/envs/hydra-zen/lib/python3.10/site-packages/omegaconf/basecontainer.py:545\u001b[0m, in \u001b[0;36mBaseContainer._set_item_impl\u001b[0;34m(self, key, value)\u001b[0m\n\u001b[1;32m    543\u001b[0m     old \u001b[39m=\u001b[39m value\u001b[39m.\u001b[39m_key()\n\u001b[1;32m    544\u001b[0m     value\u001b[39m.\u001b[39m_set_key(key)\n\u001b[0;32m--> 545\u001b[0m     \u001b[39mself\u001b[39;49m\u001b[39m.\u001b[39;49m_validate_set(key, value)\n\u001b[1;32m    546\u001b[0m \u001b[39mfinally\u001b[39;00m:\n\u001b[1;32m    547\u001b[0m     value\u001b[39m.\u001b[39m_set_key(old)\n",
      "File \u001b[0;32m~/opt/anaconda3/envs/hydra-zen/lib/python3.10/site-packages/omegaconf/dictconfig.py:180\u001b[0m, in \u001b[0;36mDictConfig._validate_set\u001b[0;34m(self, key, value)\u001b[0m\n\u001b[1;32m    177\u001b[0m \u001b[39mif\u001b[39;00m vk \u001b[39m==\u001b[39m ValueKind\u001b[39m.\u001b[39mMANDATORY_MISSING \u001b[39mor\u001b[39;00m value \u001b[39mis\u001b[39;00m \u001b[39mNone\u001b[39;00m:\n\u001b[1;32m    178\u001b[0m     \u001b[39mreturn\u001b[39;00m\n\u001b[0;32m--> 180\u001b[0m target \u001b[39m=\u001b[39m \u001b[39mself\u001b[39;49m\u001b[39m.\u001b[39;49m_get_node(key) \u001b[39mif\u001b[39;00m key \u001b[39mis\u001b[39;00m \u001b[39mnot\u001b[39;00m \u001b[39mNone\u001b[39;00m \u001b[39melse\u001b[39;00m \u001b[39mself\u001b[39m\n\u001b[1;32m    182\u001b[0m target_has_ref_type \u001b[39m=\u001b[39m \u001b[39misinstance\u001b[39m(\n\u001b[1;32m    183\u001b[0m     target, DictConfig\n\u001b[1;32m    184\u001b[0m ) \u001b[39mand\u001b[39;00m target\u001b[39m.\u001b[39m_metadata\u001b[39m.\u001b[39mref_type \u001b[39mnot\u001b[39;00m \u001b[39min\u001b[39;00m (Any, \u001b[39mdict\u001b[39m)\n\u001b[1;32m    185\u001b[0m is_valid_target \u001b[39m=\u001b[39m target \u001b[39mis\u001b[39;00m \u001b[39mNone\u001b[39;00m \u001b[39mor\u001b[39;00m \u001b[39mnot\u001b[39;00m target_has_ref_type\n",
      "File \u001b[0;32m~/opt/anaconda3/envs/hydra-zen/lib/python3.10/site-packages/omegaconf/dictconfig.py:475\u001b[0m, in \u001b[0;36mDictConfig._get_node\u001b[0;34m(self, key, validate_access, validate_key, throw_on_missing_value, throw_on_missing_key)\u001b[0m\n\u001b[1;32m    472\u001b[0m             \u001b[39mreturn\u001b[39;00m \u001b[39mNone\u001b[39;00m\n\u001b[1;32m    474\u001b[0m \u001b[39mif\u001b[39;00m validate_access:\n\u001b[0;32m--> 475\u001b[0m     \u001b[39mself\u001b[39;49m\u001b[39m.\u001b[39;49m_validate_get(key)\n\u001b[1;32m    477\u001b[0m value: Optional[Node] \u001b[39m=\u001b[39m \u001b[39mself\u001b[39m\u001b[39m.\u001b[39m\u001b[39m__dict__\u001b[39m[\u001b[39m\"\u001b[39m\u001b[39m_content\u001b[39m\u001b[39m\"\u001b[39m]\u001b[39m.\u001b[39mget(key)\n\u001b[1;32m    478\u001b[0m \u001b[39mif\u001b[39;00m value \u001b[39mis\u001b[39;00m \u001b[39mNone\u001b[39;00m:\n",
      "File \u001b[0;32m~/opt/anaconda3/envs/hydra-zen/lib/python3.10/site-packages/omegaconf/dictconfig.py:164\u001b[0m, in \u001b[0;36mDictConfig._validate_get\u001b[0;34m(self, key, value)\u001b[0m\n\u001b[1;32m    162\u001b[0m \u001b[39melse\u001b[39;00m:\n\u001b[1;32m    163\u001b[0m     msg \u001b[39m=\u001b[39m \u001b[39mf\u001b[39m\u001b[39m\"\u001b[39m\u001b[39mKey \u001b[39m\u001b[39m'\u001b[39m\u001b[39m{\u001b[39;00mkey\u001b[39m}\u001b[39;00m\u001b[39m'\u001b[39m\u001b[39m is not in struct\u001b[39m\u001b[39m\"\u001b[39m\n\u001b[0;32m--> 164\u001b[0m \u001b[39mself\u001b[39;49m\u001b[39m.\u001b[39;49m_format_and_raise(\n\u001b[1;32m    165\u001b[0m     key\u001b[39m=\u001b[39;49mkey, value\u001b[39m=\u001b[39;49mvalue, cause\u001b[39m=\u001b[39;49mConfigAttributeError(msg)\n\u001b[1;32m    166\u001b[0m )\n",
      "File \u001b[0;32m~/opt/anaconda3/envs/hydra-zen/lib/python3.10/site-packages/omegaconf/base.py:231\u001b[0m, in \u001b[0;36mNode._format_and_raise\u001b[0;34m(self, key, value, cause, msg, type_override)\u001b[0m\n\u001b[1;32m    223\u001b[0m \u001b[39mdef\u001b[39;00m \u001b[39m_format_and_raise\u001b[39m(\n\u001b[1;32m    224\u001b[0m     \u001b[39mself\u001b[39m,\n\u001b[1;32m    225\u001b[0m     key: Any,\n\u001b[0;32m   (...)\u001b[0m\n\u001b[1;32m    229\u001b[0m     type_override: Any \u001b[39m=\u001b[39m \u001b[39mNone\u001b[39;00m,\n\u001b[1;32m    230\u001b[0m ) \u001b[39m-\u001b[39m\u001b[39m>\u001b[39m \u001b[39mNone\u001b[39;00m:\n\u001b[0;32m--> 231\u001b[0m     format_and_raise(\n\u001b[1;32m    232\u001b[0m         node\u001b[39m=\u001b[39;49m\u001b[39mself\u001b[39;49m,\n\u001b[1;32m    233\u001b[0m         key\u001b[39m=\u001b[39;49mkey,\n\u001b[1;32m    234\u001b[0m         value\u001b[39m=\u001b[39;49mvalue,\n\u001b[1;32m    235\u001b[0m         msg\u001b[39m=\u001b[39;49m\u001b[39mstr\u001b[39;49m(cause) \u001b[39mif\u001b[39;49;00m msg \u001b[39mis\u001b[39;49;00m \u001b[39mNone\u001b[39;49;00m \u001b[39melse\u001b[39;49;00m msg,\n\u001b[1;32m    236\u001b[0m         cause\u001b[39m=\u001b[39;49mcause,\n\u001b[1;32m    237\u001b[0m         type_override\u001b[39m=\u001b[39;49mtype_override,\n\u001b[1;32m    238\u001b[0m     )\n\u001b[1;32m    239\u001b[0m     \u001b[39massert\u001b[39;00m \u001b[39mFalse\u001b[39;00m\n",
      "File \u001b[0;32m~/opt/anaconda3/envs/hydra-zen/lib/python3.10/site-packages/omegaconf/_utils.py:899\u001b[0m, in \u001b[0;36mformat_and_raise\u001b[0;34m(node, key, value, msg, cause, type_override)\u001b[0m\n\u001b[1;32m    896\u001b[0m     ex\u001b[39m.\u001b[39mref_type \u001b[39m=\u001b[39m ref_type\n\u001b[1;32m    897\u001b[0m     ex\u001b[39m.\u001b[39mref_type_str \u001b[39m=\u001b[39m ref_type_str\n\u001b[0;32m--> 899\u001b[0m _raise(ex, cause)\n",
      "File \u001b[0;32m~/opt/anaconda3/envs/hydra-zen/lib/python3.10/site-packages/omegaconf/_utils.py:797\u001b[0m, in \u001b[0;36m_raise\u001b[0;34m(ex, cause)\u001b[0m\n\u001b[1;32m    795\u001b[0m \u001b[39melse\u001b[39;00m:\n\u001b[1;32m    796\u001b[0m     ex\u001b[39m.\u001b[39m__cause__ \u001b[39m=\u001b[39m \u001b[39mNone\u001b[39;00m\n\u001b[0;32m--> 797\u001b[0m \u001b[39mraise\u001b[39;00m ex\u001b[39m.\u001b[39mwith_traceback(sys\u001b[39m.\u001b[39mexc_info()[\u001b[39m2\u001b[39m])\n",
      "\u001b[0;31mConfigCompositionException\u001b[0m: In 'lower_level_class/lower_level_class_5': ConfigKeyError raised while composing config:\nKey 'lower_level_class' not in 'Builds_TopLevelClass'\n    full_key: lower_level_class\n    object_type=Builds_TopLevelClass"
     ]
    }
   ],
   "source": [
    "out = launch(\n",
    "    top_level_class_config_2, \n",
    "    launch_and_instantiate, \n",
    "    overrides=['lower_level_class.b=123']\n",
    "    )\n",
    "out.return_value"
   ]
  },
  {
   "cell_type": "markdown",
   "metadata": {},
   "source": [
    "# on something more concrete"
   ]
  },
  {
   "cell_type": "code",
   "execution_count": 9,
   "metadata": {},
   "outputs": [],
   "source": [
    "from thundercloud.torch.models.components.backbone import LazyBlock, StackedLazyBlocks\n",
    "from thundercloud.torch.models.model import GenericModel\n",
    "from typing import Optional, List, Dict, Union\n",
    "from torch import nn\n",
    "from functools import partial\n",
    "from hydra_zen import instantiate\n",
    "from collections import OrderedDict\n",
    "from pprint import pprint"
   ]
  },
  {
   "cell_type": "code",
   "execution_count": 10,
   "metadata": {},
   "outputs": [],
   "source": [
    "# setup conf for torch primitives\n",
    "Linear = add_batteries(nn.Linear)\n",
    "LazyLinear = add_batteries(nn.LazyLinear)\n",
    "ReLU = add_batteries(nn.ReLU)\n",
    "Dropout = add_batteries(nn.Dropout)\n",
    "BatchNorm = add_batteries(nn.BatchNorm1d)\n",
    "Identity = add_batteries(nn.Identity)\n",
    "Module = add_batteries(nn.Module)"
   ]
  },
  {
   "cell_type": "code",
   "execution_count": 89,
   "metadata": {},
   "outputs": [],
   "source": [
    "# build sequential wrapper\n",
    "import functools\n",
    "\n",
    "    \n",
    "# @functools.wraps(nn.Sequential, updated=())\n",
    "@add_func_conf(hydra_recursive=False, zen_partial=False)\n",
    "def make_sequential(\n",
    "    components:Union[List, Dict]=None,\n",
    "    **kwargs,\n",
    "):\n",
    "    if isinstance(components, dict):\n",
    "        components = list(components.values())\n",
    "    return nn.Sequential(*[instantiate(c) for c in components])"
   ]
  },
  {
   "cell_type": "code",
   "execution_count": 90,
   "metadata": {},
   "outputs": [
    {
     "data": {
      "text/plain": [
       "types.Builds_make_sequential"
      ]
     },
     "execution_count": 90,
     "metadata": {},
     "output_type": "execute_result"
    }
   ],
   "source": [
    "make_sequential.conf"
   ]
  },
  {
   "cell_type": "code",
   "execution_count": 91,
   "metadata": {},
   "outputs": [],
   "source": [
    "# configure\n",
    "with ConfMode():\n",
    "    sequential = make_sequential(\n",
    "        components=[\n",
    "            Linear(in_features=1, out_features=2), \n",
    "            Linear(in_features=2, out_features=1)\n",
    "            ]\n",
    "        )"
   ]
  },
  {
   "cell_type": "code",
   "execution_count": 92,
   "metadata": {},
   "outputs": [
    {
     "data": {
      "text/plain": [
       "Builds_make_sequential(_target_='hydra_zen.funcs.zen_processing', _zen_target='__main__.make_sequential', _zen_exclude=('name_', 'group_', 'package_', 'provider_', 'defaults'), _recursive_=False, components=[Builds_Linear(_target_='hydra_zen.funcs.zen_processing', _zen_target='torch.nn.modules.linear.Linear', _zen_exclude=('name_', 'group_', 'package_', 'provider_', 'defaults'), in_features=1, out_features=2, bias=True, device=None, dtype=None, name_=None, group_=None, package_='_group_', provider_=None, defaults=['_self_']), Builds_Linear(_target_='hydra_zen.funcs.zen_processing', _zen_target='torch.nn.modules.linear.Linear', _zen_exclude=('name_', 'group_', 'package_', 'provider_', 'defaults'), in_features=2, out_features=1, bias=True, device=None, dtype=None, name_=None, group_=None, package_='_group_', provider_=None, defaults=['_self_'])], name_=None, group_=None, package_='_group_', provider_=None, defaults=['_self_'])"
      ]
     },
     "execution_count": 92,
     "metadata": {},
     "output_type": "execute_result"
    }
   ],
   "source": [
    "sequential"
   ]
  },
  {
   "cell_type": "code",
   "execution_count": 93,
   "metadata": {},
   "outputs": [
    {
     "data": {
      "text/plain": [
       "Linear(in_features=1, out_features=2, bias=True)"
      ]
     },
     "execution_count": 93,
     "metadata": {},
     "output_type": "execute_result"
    }
   ],
   "source": [
    "instantiate(sequential.components[0])"
   ]
  },
  {
   "cell_type": "code",
   "execution_count": 94,
   "metadata": {},
   "outputs": [
    {
     "data": {
      "text/plain": [
       "Sequential(\n",
       "  (0): Linear(in_features=1, out_features=2, bias=True)\n",
       "  (1): Linear(in_features=2, out_features=1, bias=True)\n",
       ")"
      ]
     },
     "execution_count": 94,
     "metadata": {},
     "output_type": "execute_result"
    }
   ],
   "source": [
    "sequential.instantiate()"
   ]
  },
  {
   "cell_type": "code",
   "execution_count": 95,
   "metadata": {},
   "outputs": [
    {
     "data": {
      "text/plain": [
       "Sequential(\n",
       "  (0): Linear(in_features=3, out_features=2, bias=True)\n",
       "  (1): Linear(in_features=2, out_features=1, bias=True)\n",
       ")"
      ]
     },
     "execution_count": 95,
     "metadata": {},
     "output_type": "execute_result"
    }
   ],
   "source": [
    "# do overrides\n",
    "launch(sequential, launch_and_instantiate, overrides=['components.0.in_features=3']).return_value"
   ]
  },
  {
   "cell_type": "code",
   "execution_count": 15,
   "metadata": {},
   "outputs": [],
   "source": [
    "# class based sequential that is recursive\n",
    "from thundercloud.torch.models.components.backbone import Sequential\n",
    "\n",
    "with ConfMode():\n",
    "    my_sequence = Sequential(\n",
    "        components=[\n",
    "            Linear(in_features=1, out_features=2), \n",
    "            Linear(in_features=2, out_features=1)\n",
    "        ]\n",
    "    )"
   ]
  },
  {
   "cell_type": "code",
   "execution_count": 17,
   "metadata": {},
   "outputs": [
    {
     "data": {
      "text/plain": [
       "Builds_Sequential(_target_='hydra_zen.funcs.zen_processing', _zen_target='thundercloud.torch.models.components.backbone.Sequential', _zen_exclude=('name_', 'group_', 'package_', 'provider_', 'defaults'), components=[Builds_Linear(_target_='hydra_zen.funcs.zen_processing', _zen_target='torch.nn.modules.linear.Linear', _zen_exclude=('name_', 'group_', 'package_', 'provider_', 'defaults'), in_features=1, out_features=2, bias=True, device=None, dtype=None, name_=None, group_=None, package_='_group_', provider_=None, defaults=['_self_']), Builds_Linear(_target_='hydra_zen.funcs.zen_processing', _zen_target='torch.nn.modules.linear.Linear', _zen_exclude=('name_', 'group_', 'package_', 'provider_', 'defaults'), in_features=2, out_features=1, bias=True, device=None, dtype=None, name_=None, group_=None, package_='_group_', provider_=None, defaults=['_self_'])], name_=None, group_=None, package_='_group_', provider_=None, defaults=['_self_'])"
      ]
     },
     "execution_count": 17,
     "metadata": {},
     "output_type": "execute_result"
    }
   ],
   "source": [
    "my_sequence"
   ]
  },
  {
   "cell_type": "code",
   "execution_count": 19,
   "metadata": {},
   "outputs": [
    {
     "data": {
      "text/plain": [
       "Sequential(\n",
       "  (0): Linear(in_features=1, out_features=2, bias=True)\n",
       "  (1): Linear(in_features=2, out_features=1, bias=True)\n",
       ")"
      ]
     },
     "execution_count": 19,
     "metadata": {},
     "output_type": "execute_result"
    }
   ],
   "source": [
    "my_sequence = my_sequence.instantiate()\n",
    "my_sequence"
   ]
  },
  {
   "cell_type": "markdown",
   "metadata": {},
   "source": [
    "## rebuild lazy block"
   ]
  },
  {
   "cell_type": "code",
   "execution_count": 178,
   "metadata": {},
   "outputs": [],
   "source": [
    "# rebuild lazy block\n",
    "\n",
    "with ConfMode():\n",
    "\n",
    "    dropout = Dropout(p=0., name_='dropout')\n",
    "    \n",
    "    linear = LazyLinear(\n",
    "        out_features=1, \n",
    "        group_='linear', \n",
    "        name_='LazyLinear',\n",
    "        )\n",
    "    \n",
    "    @add_func_conf(hydra_recursive=False, zen_partial=False)\n",
    "    def make_lazy_block(\n",
    "            out_features:int = 1,\n",
    "            input_dropout: Optional[Any] = dropout,\n",
    "            linear=linear,\n",
    "            activation: Optional[Any] = MISSING,\n",
    "            output_dropout: Optional[Any] = dropout,\n",
    "            batch_norm: Optional[Any] = MISSING,\n",
    "            **kwargs,\n",
    "        ):\n",
    "            net = nn.Sequential()\n",
    "            if input_dropout is not None:\n",
    "                net.append(instantiate(input_dropout))\n",
    "            net.append(instantiate(linear, out_features=out_features))\n",
    "            if activation is not None:\n",
    "                net.append(instantiate(activation))\n",
    "            if output_dropout is not None:\n",
    "                net.append(instantiate(output_dropout))\n",
    "            if batch_norm is not None:\n",
    "                net.append(instantiate(batch_norm, num_features=out_features))\n",
    "            return net\n",
    "    \n",
    "\n",
    "    \n",
    "    # create a bunch of config options\n",
    "    \n",
    "    batch_norm = BatchNorm(\n",
    "        num_features=1, \n",
    "        group_='batch_norm', \n",
    "        name_='BatchNorm',\n",
    "        )\n",
    "    \n",
    "    # activations \n",
    "    identity = Identity(group_='activation', name_='Identity')\n",
    "    relu = ReLU(group_='activation', name_='ReLU')\n",
    "\n",
    "    # set defaults list\n",
    "    zen_lazy_block = make_lazy_block(\n",
    "        defaults=[\n",
    "            '_self_',\n",
    "            'linear/LazyLinear',\n",
    "            {'activation': 'Identity'},\n",
    "            'batch_norm/BatchNorm',\n",
    "        ]\n",
    "        )"
   ]
  },
  {
   "cell_type": "code",
   "execution_count": 179,
   "metadata": {},
   "outputs": [
    {
     "data": {
      "text/plain": [
       "Builds_make_lazy_block(_target_='hydra_zen.funcs.zen_processing', _zen_target='__main__.make_lazy_block', _zen_exclude=('name_', 'group_', 'package_', 'provider_', 'defaults'), _recursive_=False, out_features=1, input_dropout=Builds_Dropout(_target_='hydra_zen.funcs.zen_processing', _zen_target='torch.nn.modules.dropout.Dropout', _zen_exclude=('name_', 'group_', 'package_', 'provider_', 'defaults'), p=0.0, inplace=False, name_='dropout', group_=None, package_='_group_', provider_=None, defaults=['_self_']), linear=Builds_LazyLinear(_target_='hydra_zen.funcs.zen_processing', _zen_target='torch.nn.modules.linear.LazyLinear', _zen_exclude=('name_', 'group_', 'package_', 'provider_', 'defaults'), out_features=1, bias=True, device=None, dtype=None, name_='LazyLinear', group_='linear', package_='_group_', provider_=None, defaults=['_self_']), activation='???', output_dropout=Builds_Dropout(_target_='hydra_zen.funcs.zen_processing', _zen_target='torch.nn.modules.dropout.Dropout', _zen_exclude=('name_', 'group_', 'package_', 'provider_', 'defaults'), p=0.0, inplace=False, name_='dropout', group_=None, package_='_group_', provider_=None, defaults=['_self_']), batch_norm='???', name_=None, group_=None, package_='_group_', provider_=None, defaults=['_self_', 'linear/LazyLinear', {'activation': 'Identity'}, 'batch_norm/BatchNorm'])"
      ]
     },
     "execution_count": 179,
     "metadata": {},
     "output_type": "execute_result"
    }
   ],
   "source": [
    "zen_lazy_block"
   ]
  },
  {
   "cell_type": "code",
   "execution_count": 180,
   "metadata": {},
   "outputs": [
    {
     "data": {
      "text/plain": [
       "Sequential(\n",
       "  (0): Dropout(p=0.2, inplace=False)\n",
       "  (1): LazyLinear(in_features=0, out_features=8, bias=True)\n",
       "  (2): ReLU()\n",
       "  (3): Dropout(p=0.0, inplace=False)\n",
       "  (4): BatchNorm1d(8, eps=1e-05, momentum=0.1, affine=True, track_running_stats=True)\n",
       ")"
      ]
     },
     "execution_count": 180,
     "metadata": {},
     "output_type": "execute_result"
    }
   ],
   "source": [
    "launch(\n",
    "    zen_lazy_block, \n",
    "    launch_and_instantiate, \n",
    "    overrides=[\n",
    "        'out_features=8', \n",
    "        'activation=ReLU', \n",
    "        'input_dropout.p=0.2'\n",
    "        ],\n",
    "    ).return_value"
   ]
  },
  {
   "cell_type": "code",
   "execution_count": 2,
   "metadata": {},
   "outputs": [],
   "source": [
    "# we've also implemented a class based LazyBlock\n",
    "# we can use it in combo with our Sequential wrapper to demonstrate using a base config that you can alter\n",
    "\n",
    "from thundercloud.torch.models.components.backbone import LazyBlock,LazyLinear,Dropout,ReLU,BatchNorm, Sequential\n",
    "\n",
    "with ConfMode():\n",
    "\n",
    "    # this is a partial conf, missing out_features\n",
    "    lazy_block_base = LazyBlock(\n",
    "        activation = ReLU(),\n",
    "        output_dropout = Dropout(p=0., name_='dropout'),\n",
    "        batch_norm = BatchNorm()\n",
    "    )\n",
    "\n",
    "    # modify the base conf for each element in the list\n",
    "    my_sequential = Sequential(\n",
    "        components = [\n",
    "            lazy_block_base(out_features = 256,input_dropout = Dropout(p=0.2, name_='dropout')),\n",
    "            lazy_block_base(out_features = 128),\n",
    "            lazy_block_base(out_features = 64)\n",
    "        ]\n",
    "    )"
   ]
  },
  {
   "cell_type": "code",
   "execution_count": 4,
   "metadata": {},
   "outputs": [
    {
     "name": "stdout",
     "output_type": "stream",
     "text": [
      "_zen_target: thundercloud.torch.models.components.backbone.Sequential\n",
      "components:\n",
      "- _zen_target: thundercloud.torch.models.components.backbone.LazyBlock\n",
      "  out_features: 256\n",
      "  input_dropout:\n",
      "    _zen_target: torch.nn.modules.dropout.Dropout\n",
      "    p: 0.2\n",
      "    inplace: false\n",
      "    name_: dropout\n",
      "  activation:\n",
      "    _zen_target: torch.nn.modules.activation.ReLU\n",
      "    inplace: false\n",
      "  output_dropout:\n",
      "    _zen_target: torch.nn.modules.dropout.Dropout\n",
      "    p: 0.0\n",
      "    inplace: false\n",
      "    name_: dropout\n",
      "  batch_norm:\n",
      "    _zen_target: torch.nn.modules.batchnorm.BatchNorm1d\n",
      "    num_features: 1\n",
      "    eps: 1.0e-05\n",
      "    momentum: 0.1\n",
      "    affine: true\n",
      "    track_running_stats: true\n",
      "    device: null\n",
      "    dtype: null\n",
      "- _zen_target: thundercloud.torch.models.components.backbone.LazyBlock\n",
      "  out_features: 128\n",
      "  input_dropout: null\n",
      "  activation:\n",
      "    _zen_target: torch.nn.modules.activation.ReLU\n",
      "    inplace: false\n",
      "  output_dropout:\n",
      "    _zen_target: torch.nn.modules.dropout.Dropout\n",
      "    p: 0.0\n",
      "    inplace: false\n",
      "    name_: dropout\n",
      "  batch_norm:\n",
      "    _zen_target: torch.nn.modules.batchnorm.BatchNorm1d\n",
      "    num_features: 1\n",
      "    eps: 1.0e-05\n",
      "    momentum: 0.1\n",
      "    affine: true\n",
      "    track_running_stats: true\n",
      "    device: null\n",
      "    dtype: null\n",
      "- _zen_target: thundercloud.torch.models.components.backbone.LazyBlock\n",
      "  out_features: 64\n",
      "  input_dropout: null\n",
      "  activation:\n",
      "    _zen_target: torch.nn.modules.activation.ReLU\n",
      "    inplace: false\n",
      "  output_dropout:\n",
      "    _zen_target: torch.nn.modules.dropout.Dropout\n",
      "    p: 0.0\n",
      "    inplace: false\n",
      "    name_: dropout\n",
      "  batch_norm:\n",
      "    _zen_target: torch.nn.modules.batchnorm.BatchNorm1d\n",
      "    num_features: 1\n",
      "    eps: 1.0e-05\n",
      "    momentum: 0.1\n",
      "    affine: true\n",
      "    track_running_stats: true\n",
      "    device: null\n",
      "    dtype: null\n",
      "\n"
     ]
    }
   ],
   "source": [
    "my_sequential.show()"
   ]
  },
  {
   "cell_type": "code",
   "execution_count": 5,
   "metadata": {},
   "outputs": [
    {
     "name": "stderr",
     "output_type": "stream",
     "text": [
      "/home/ubuntu/anaconda3/envs/orange/lib/python3.9/site-packages/torch/nn/modules/lazy.py:178: UserWarning: Lazy modules are a new feature under heavy development so changes to the API or functionality can happen at any moment.\n",
      "  warnings.warn('Lazy modules are a new feature under heavy development '\n"
     ]
    },
    {
     "data": {
      "text/plain": [
       "Sequential(\n",
       "  (0): LazyBlock(\n",
       "    (0): Dropout(p=0.2, inplace=False)\n",
       "    (1): LazyLinear(in_features=0, out_features=256, bias=True)\n",
       "    (2): ReLU()\n",
       "    (3): Dropout(p=0.0, inplace=False)\n",
       "    (4): BatchNorm1d(256, eps=1e-05, momentum=0.1, affine=True, track_running_stats=True)\n",
       "  )\n",
       "  (1): LazyBlock(\n",
       "    (0): LazyLinear(in_features=0, out_features=128, bias=True)\n",
       "    (1): ReLU()\n",
       "    (2): Dropout(p=0.0, inplace=False)\n",
       "    (3): BatchNorm1d(128, eps=1e-05, momentum=0.1, affine=True, track_running_stats=True)\n",
       "  )\n",
       "  (2): LazyBlock(\n",
       "    (0): LazyLinear(in_features=0, out_features=64, bias=True)\n",
       "    (1): ReLU()\n",
       "    (2): Dropout(p=0.0, inplace=False)\n",
       "    (3): BatchNorm1d(64, eps=1e-05, momentum=0.1, affine=True, track_running_stats=True)\n",
       "  )\n",
       ")"
      ]
     },
     "execution_count": 5,
     "metadata": {},
     "output_type": "execute_result"
    }
   ],
   "source": [
    "my_sequential = my_sequential.instantiate()\n",
    "my_sequential"
   ]
  },
  {
   "cell_type": "code",
   "execution_count": 182,
   "metadata": {},
   "outputs": [],
   "source": [
    "# back to working with the function versions\n",
    "\n",
    "with ConfMode():\n",
    "    relu_zen_block = make_lazy_block(\n",
    "        activation=relu,\n",
    "        batch_norm=batch_norm,\n",
    "        )\n",
    "    sequential = make_sequential(\n",
    "        components=[\n",
    "            relu_zen_block,\n",
    "            relu_zen_block,\n",
    "            relu_zen_block,\n",
    "            ]\n",
    "        )"
   ]
  },
  {
   "cell_type": "code",
   "execution_count": 184,
   "metadata": {},
   "outputs": [],
   "source": [
    "instantiated_sequential = launch(\n",
    "    sequential, \n",
    "    launch_and_instantiate, \n",
    "    # overrides=['components.0.out_features=6',],\n",
    "    ).return_value"
   ]
  },
  {
   "cell_type": "code",
   "execution_count": 185,
   "metadata": {},
   "outputs": [
    {
     "data": {
      "text/plain": [
       "Sequential(\n",
       "  (0): Sequential(\n",
       "    (0): Dropout(p=0.0, inplace=False)\n",
       "    (1): LazyLinear(in_features=0, out_features=1, bias=True)\n",
       "    (2): ReLU()\n",
       "    (3): Dropout(p=0.0, inplace=False)\n",
       "    (4): BatchNorm1d(1, eps=1e-05, momentum=0.1, affine=True, track_running_stats=True)\n",
       "  )\n",
       "  (1): Sequential(\n",
       "    (0): Dropout(p=0.0, inplace=False)\n",
       "    (1): LazyLinear(in_features=0, out_features=1, bias=True)\n",
       "    (2): ReLU()\n",
       "    (3): Dropout(p=0.0, inplace=False)\n",
       "    (4): BatchNorm1d(1, eps=1e-05, momentum=0.1, affine=True, track_running_stats=True)\n",
       "  )\n",
       "  (2): Sequential(\n",
       "    (0): Dropout(p=0.0, inplace=False)\n",
       "    (1): LazyLinear(in_features=0, out_features=1, bias=True)\n",
       "    (2): ReLU()\n",
       "    (3): Dropout(p=0.0, inplace=False)\n",
       "    (4): BatchNorm1d(1, eps=1e-05, momentum=0.1, affine=True, track_running_stats=True)\n",
       "  )\n",
       ")"
      ]
     },
     "execution_count": 185,
     "metadata": {},
     "output_type": "execute_result"
    }
   ],
   "source": [
    "instantiated_sequential"
   ]
  },
  {
   "cell_type": "code",
   "execution_count": null,
   "metadata": {},
   "outputs": [],
   "source": [
    "class TimesX:\n",
    "    def __init__(self,x=1.0):\n",
    "        self.x = x\n",
    "    \n",
    "    def times(self,y=1.0):\n",
    "        return self.x*y\n",
    "\n",
    "class Times2X(TimesX):\n",
    "    def __init__(self,x=1.0):\n",
    "        super().__init__(2*x)\n"
   ]
  }
 ],
 "metadata": {
  "kernelspec": {
   "display_name": "hydra-zen",
   "language": "python",
   "name": "python3"
  },
  "language_info": {
   "codemirror_mode": {
    "name": "ipython",
    "version": 3
   },
   "file_extension": ".py",
   "mimetype": "text/x-python",
   "name": "python",
   "nbconvert_exporter": "python",
   "pygments_lexer": "ipython3",
   "version": "3.10.8"
  },
  "orig_nbformat": 4,
  "vscode": {
   "interpreter": {
    "hash": "88a4ed8af8cb773a7548eaacdd81221c698b9e61453d4d803a646964ee64d212"
   }
  }
 },
 "nbformat": 4,
 "nbformat_minor": 2
}
