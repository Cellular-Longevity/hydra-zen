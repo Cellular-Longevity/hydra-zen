{
 "cells": [
  {
   "cell_type": "code",
   "execution_count": 1,
   "metadata": {},
   "outputs": [],
   "source": [
    "#from hydra_zen import add_batteries, add_func_conf, ConfMode, _add_batteries, cs, zen_dry_run, launch_and_instantiate\n",
    "from hydra_zen.structured_configs._add_conf import ConfMode, add_batteries, add_batteries, BatteriesIncludedConf, cs\n",
    "from hydra_zen import launch, instantiate\n",
    "from typing import Any, List\n",
    "from omegaconf import MISSING\n",
    "import pandas as pd\n",
    "%load_ext autoreload \n",
    "%autoreload 2\n",
    "%config Completer.use_jedi = False"
   ]
  },
  {
   "cell_type": "code",
   "execution_count": 2,
   "metadata": {},
   "outputs": [],
   "source": [
    "def launch_and_instantiate(cfg):\n",
    "    \"\"\"It takes a configuration object and returns a class object. Intended to be called by\n",
    "    hydra_zen.launch.\n",
    "\n",
    "    Args:\n",
    "        cfg: a dictionary of parameters for the model.\n",
    "\n",
    "    Returns:\n",
    "        The instantiated class.\n",
    "    \"\"\"\n",
    "    C = instantiate(cfg)\n",
    "    return C"
   ]
  },
  {
   "attachments": {},
   "cell_type": "markdown",
   "metadata": {},
   "source": [
    "# using `add_batteries`"
   ]
  },
  {
   "cell_type": "markdown",
   "metadata": {},
   "source": [
    "## decorate a newly defined class"
   ]
  },
  {
   "cell_type": "code",
   "execution_count": 20,
   "metadata": {},
   "outputs": [
    {
     "data": {
      "text/plain": [
       "MyClass(dog, 3)"
      ]
     },
     "execution_count": 20,
     "metadata": {},
     "output_type": "execute_result"
    }
   ],
   "source": [
    "@add_batteries\n",
    "class MyClass:\n",
    "    def __init__(\n",
    "        self,\n",
    "        a:str='dog', \n",
    "        b:int=3,\n",
    "        ):\n",
    "        self.a = a\n",
    "        self.b = b\n",
    "        \n",
    "    def __repr__(self):\n",
    "        return f'MyClass({self.a}, {self.b})'\n",
    "    \n",
    "MyClass()"
   ]
  },
  {
   "cell_type": "code",
   "execution_count": 21,
   "metadata": {},
   "outputs": [
    {
     "data": {
      "text/plain": [
       "types.Builds_MyClass"
      ]
     },
     "execution_count": 21,
     "metadata": {},
     "output_type": "execute_result"
    }
   ],
   "source": [
    "# class object has a configuration dataclass attached as .Conf attribute\n",
    "MyClass.Conf # .Conf attribute is a class object (not an instance)"
   ]
  },
  {
   "cell_type": "code",
   "execution_count": 22,
   "metadata": {},
   "outputs": [
    {
     "data": {
      "text/plain": [
       "Builds_MyClass(_target_='hydra_zen.funcs.zen_processing', _zen_target='__main__.MyClass', _zen_exclude=('name_', 'group_', 'package_', 'provider_', 'defaults'), a='dog', b=3, name_=None, group_=None, package_='_group_', provider_=None, defaults=['_self_'])"
      ]
     },
     "execution_count": 22,
     "metadata": {},
     "output_type": "execute_result"
    }
   ],
   "source": [
    "# you can use .Conf just like a class method\n",
    "# e.g. instantiate a config dataclass with default objects\n",
    "MyClass.Conf()"
   ]
  },
  {
   "cell_type": "code",
   "execution_count": 23,
   "metadata": {},
   "outputs": [
    {
     "data": {
      "text/plain": [
       "Builds_MyClass(_target_='hydra_zen.funcs.zen_processing', _zen_target='__main__.MyClass', _zen_exclude=('name_', 'group_', 'package_', 'provider_', 'defaults'), a='Bloom', b=999, name_=None, group_=None, package_='_group_', provider_=None, defaults=['_self_'])"
      ]
     },
     "execution_count": 23,
     "metadata": {},
     "output_type": "execute_result"
    }
   ],
   "source": [
    "# e.g. instantiate a config dataclass with non default arguments\n",
    "MyClass.Conf(a='Bloom', b=999)"
   ]
  },
  {
   "cell_type": "code",
   "execution_count": 24,
   "metadata": {},
   "outputs": [
    {
     "data": {
      "text/plain": [
       "MyClass(dog, 3)"
      ]
     },
     "execution_count": 24,
     "metadata": {},
     "output_type": "execute_result"
    }
   ],
   "source": [
    "# instantiate a config dataclass with default objects, then use it to instantiate parent class\n",
    "MyClass.Conf().instantiate()"
   ]
  },
  {
   "cell_type": "code",
   "execution_count": 25,
   "metadata": {},
   "outputs": [
    {
     "data": {
      "text/plain": [
       "MyClass(Bloom, 3)"
      ]
     },
     "execution_count": 25,
     "metadata": {},
     "output_type": "execute_result"
    }
   ],
   "source": [
    "# instantiate a config dataclass with non default arguments, then use it to instantiate parent class\n",
    "MyClass.Conf(a='Bloom').instantiate()"
   ]
  },
  {
   "cell_type": "code",
   "execution_count": 26,
   "metadata": {},
   "outputs": [
    {
     "data": {
      "text/plain": [
       "Builds_MyClass(_target_='hydra_zen.funcs.zen_processing', _zen_target='__main__.MyClass', _zen_exclude=('name_', 'group_', 'package_', 'provider_', 'defaults'), a='Bloom', b=999, name_=None, group_=None, package_='_group_', provider_=None, defaults=['_self_'])"
      ]
     },
     "execution_count": 26,
     "metadata": {},
     "output_type": "execute_result"
    }
   ],
   "source": [
    "# normal constructor \n",
    "my_class = MyClass(a='Bloom', b=999)\n",
    "\n",
    "# the my_class instance has a .conf attribute\n",
    "# this is different from .Conf because\n",
    "# 1) it is an instance variable and\n",
    "# 2) it is an instantiated dataclass object\n",
    "# it is the Conf instance that builds this instance of MyClass\n",
    "my_class.conf"
   ]
  },
  {
   "cell_type": "code",
   "execution_count": 27,
   "metadata": {},
   "outputs": [
    {
     "data": {
      "text/plain": [
       "MyClass(Lily, 3)"
      ]
     },
     "execution_count": 27,
     "metadata": {},
     "output_type": "execute_result"
    }
   ],
   "source": [
    "# starting with config\n",
    "MyClass.Conf(a='Lily').instantiate().conf.instantiate().conf.instantiate()"
   ]
  },
  {
   "cell_type": "code",
   "execution_count": 91,
   "metadata": {},
   "outputs": [
    {
     "data": {
      "text/plain": [
       "MyClass(Lily, 3)"
      ]
     },
     "execution_count": 91,
     "metadata": {},
     "output_type": "execute_result"
    }
   ],
   "source": [
    "# starting with regular constructor\n",
    "MyClass(a='Lily').conf.instantiate().conf.instantiate().conf.instantiate()"
   ]
  },
  {
   "cell_type": "code",
   "execution_count": 28,
   "metadata": {},
   "outputs": [
    {
     "data": {
      "text/plain": [
       "MyClass(Bloom, 47)"
      ]
     },
     "execution_count": 28,
     "metadata": {},
     "output_type": "execute_result"
    }
   ],
   "source": [
    "# editing a config\n",
    "my_class_conf = MyClass.Conf(a='Lily',b=47)\n",
    "my_class_conf.a = 'Bloom'\n",
    "my_class_conf.instantiate()"
   ]
  },
  {
   "cell_type": "code",
   "execution_count": 29,
   "metadata": {},
   "outputs": [
    {
     "data": {
      "text/plain": [
       "MyClass(Bloom, 117)"
      ]
     },
     "execution_count": 29,
     "metadata": {},
     "output_type": "execute_result"
    }
   ],
   "source": [
    "# you can call .conf as well and provide new values for a subset of inputs\n",
    "my_class = MyClass(a='Lily', b=117)\n",
    "my_class_bloom = my_class.conf(a=\"Bloom\")\n",
    "my_class_bloom.instantiate()"
   ]
  },
  {
   "cell_type": "code",
   "execution_count": 30,
   "metadata": {},
   "outputs": [
    {
     "data": {
      "text/plain": [
       "MyClass(Lily, 117)"
      ]
     },
     "execution_count": 30,
     "metadata": {},
     "output_type": "execute_result"
    }
   ],
   "source": [
    "my_class.conf.instantiate()"
   ]
  },
  {
   "cell_type": "code",
   "execution_count": 32,
   "metadata": {},
   "outputs": [
    {
     "data": {
      "text/plain": [
       "True"
      ]
     },
     "execution_count": 32,
     "metadata": {},
     "output_type": "execute_result"
    }
   ],
   "source": [
    "issubclass(MyClass.Conf, BatteriesIncludedConf)"
   ]
  },
  {
   "cell_type": "code",
   "execution_count": 33,
   "metadata": {},
   "outputs": [
    {
     "data": {
      "text/plain": [
       "True"
      ]
     },
     "execution_count": 33,
     "metadata": {},
     "output_type": "execute_result"
    }
   ],
   "source": [
    "isinstance(my_class.conf, BatteriesIncludedConf)"
   ]
  },
  {
   "cell_type": "markdown",
   "metadata": {},
   "source": [
    "## wrap an existing class"
   ]
  },
  {
   "cell_type": "code",
   "execution_count": 34,
   "metadata": {},
   "outputs": [],
   "source": [
    "from sklearn.linear_model import LogisticRegression\n",
    "WrappedLogisticRegression = add_batteries(LogisticRegression)"
   ]
  },
  {
   "cell_type": "code",
   "execution_count": 35,
   "metadata": {},
   "outputs": [
    {
     "name": "stdout",
     "output_type": "stream",
     "text": [
      "_zen_target: sklearn.linear_model._logistic.LogisticRegression\n",
      "penalty: l2\n",
      "dual: false\n",
      "tol: 0.0001\n",
      "C: 1.0\n",
      "fit_intercept: true\n",
      "intercept_scaling: 1\n",
      "solver: lbfgs\n",
      "max_iter: 100\n",
      "multi_class: auto\n",
      "verbose: 0\n",
      "warm_start: false\n",
      "\n"
     ]
    }
   ],
   "source": [
    "# conf attr has fully populated fields\n",
    "WrappedLogisticRegression.Conf().show()"
   ]
  },
  {
   "cell_type": "code",
   "execution_count": 36,
   "metadata": {},
   "outputs": [
    {
     "data": {
      "text/plain": [
       "LogisticRegression(penalty='l1')"
      ]
     },
     "execution_count": 36,
     "metadata": {},
     "output_type": "execute_result"
    }
   ],
   "source": [
    "# can be used to instantiate\n",
    "WrappedLogisticRegression.Conf(penalty='l1', C=1.0).instantiate()"
   ]
  },
  {
   "cell_type": "code",
   "execution_count": 40,
   "metadata": {},
   "outputs": [
    {
     "data": {
      "text/plain": [
       "LazyLinear(in_features=0, out_features=2, bias=True)"
      ]
     },
     "execution_count": 40,
     "metadata": {},
     "output_type": "execute_result"
    }
   ],
   "source": [
    "# another example\n",
    "from torch import nn\n",
    "LazyLinear = add_batteries(nn.LazyLinear)\n",
    "LazyLinear.Conf(out_features=2).instantiate()"
   ]
  },
  {
   "cell_type": "code",
   "execution_count": 41,
   "metadata": {},
   "outputs": [
    {
     "data": {
      "text/plain": [
       "Builds_LogisticRegression(_target_='hydra_zen.funcs.zen_processing', _zen_target='sklearn.linear_model._logistic.LogisticRegression', _zen_exclude=('name_', 'group_', 'package_', 'provider_', 'defaults'), penalty='l2', dual=False, tol=0.0001, C=1.0, fit_intercept=True, intercept_scaling=1, class_weight=None, random_state=None, solver='lbfgs', max_iter=100, multi_class='auto', verbose=0, warm_start=False, n_jobs=None, l1_ratio=None, name_=None, group_=None, package_='_group_', provider_=None, defaults=['_self_'])"
      ]
     },
     "execution_count": 41,
     "metadata": {},
     "output_type": "execute_result"
    }
   ],
   "source": [
    "# can overwrite imports, this might be sus but could be useful for backwards compatibility\n",
    "LogisticRegression = add_batteries(LogisticRegression)\n",
    "LogisticRegression.Conf()"
   ]
  },
  {
   "cell_type": "code",
   "execution_count": 44,
   "metadata": {},
   "outputs": [],
   "source": [
    "# idempotent\n",
    "LogisticRegression = add_batteries(add_batteries(add_batteries(add_batteries(add_batteries(LogisticRegression)))))"
   ]
  },
  {
   "cell_type": "markdown",
   "metadata": {},
   "source": [
    "## working with functions"
   ]
  },
  {
   "cell_type": "code",
   "execution_count": 19,
   "metadata": {},
   "outputs": [],
   "source": [
    "# works the same as above - gives function a .conf attribute\n",
    "# does not work with positional arguments - you need some kind of default value, even if it is None or MISSING\n",
    "# by default this returns a partial\n",
    "@add_func_conf\n",
    "def add_numbers(a:int=MISSING, b:int=MISSING):\n",
    "    return a + b"
   ]
  },
  {
   "cell_type": "code",
   "execution_count": 20,
   "metadata": {},
   "outputs": [
    {
     "data": {
      "text/plain": [
       "3"
      ]
     },
     "execution_count": 20,
     "metadata": {},
     "output_type": "execute_result"
    }
   ],
   "source": [
    "add_numbers.Conf(a=1, b=2).instantiate()()"
   ]
  },
  {
   "cell_type": "code",
   "execution_count": 21,
   "metadata": {},
   "outputs": [],
   "source": [
    "# add_func_conf lets you change settings being used in hydra_zen.builds under the hood\n",
    "# here we make it so that the function is not wrapped in a partial\n",
    "@add_func_conf(zen_partial=False)\n",
    "def make_dataframe():\n",
    "    return pd.DataFrame({'a': 1}, index=[0])"
   ]
  },
  {
   "cell_type": "code",
   "execution_count": 22,
   "metadata": {},
   "outputs": [
    {
     "data": {
      "text/html": [
       "<div>\n",
       "<style scoped>\n",
       "    .dataframe tbody tr th:only-of-type {\n",
       "        vertical-align: middle;\n",
       "    }\n",
       "\n",
       "    .dataframe tbody tr th {\n",
       "        vertical-align: top;\n",
       "    }\n",
       "\n",
       "    .dataframe thead th {\n",
       "        text-align: right;\n",
       "    }\n",
       "</style>\n",
       "<table border=\"1\" class=\"dataframe\">\n",
       "  <thead>\n",
       "    <tr style=\"text-align: right;\">\n",
       "      <th></th>\n",
       "      <th>a</th>\n",
       "    </tr>\n",
       "  </thead>\n",
       "  <tbody>\n",
       "    <tr>\n",
       "      <th>0</th>\n",
       "      <td>1</td>\n",
       "    </tr>\n",
       "  </tbody>\n",
       "</table>\n",
       "</div>"
      ],
      "text/plain": [
       "   a\n",
       "0  1"
      ]
     },
     "execution_count": 22,
     "metadata": {},
     "output_type": "execute_result"
    }
   ],
   "source": [
    "# now instantiation just immediately returns the dataframe\n",
    "make_dataframe.Conf().instantiate()"
   ]
  },
  {
   "cell_type": "markdown",
   "metadata": {},
   "source": [
    "## creating and storing named configurations"
   ]
  },
  {
   "cell_type": "code",
   "execution_count": 3,
   "metadata": {},
   "outputs": [],
   "source": [
    "@add_batteries\n",
    "class TopLevelClass:\n",
    "    def __init__(\n",
    "        self,\n",
    "        a:int = 0,\n",
    "        lower_level_class: Any = MISSING,\n",
    "        **kwargs,\n",
    "        ):\n",
    "        self.a = a\n",
    "        self.lower_level_class = lower_level_class\n",
    "        \n",
    "    def __repr__(self):\n",
    "        return f'TopLevelClass({self.a}, {self.lower_level_class})'\n",
    "        \n",
    "@add_batteries        \n",
    "class LowerLevelClass:\n",
    "    def __init__(\n",
    "        self,\n",
    "        b: str = 'hello',\n",
    "        **kwargs,\n",
    "    ):\n",
    "        self.b = b\n",
    "\n",
    "    def __repr__(self):\n",
    "        return f'LowerLevelClass({self.b})'"
   ]
  },
  {
   "cell_type": "code",
   "execution_count": 4,
   "metadata": {},
   "outputs": [
    {
     "data": {
      "text/plain": [
       "LowerLevelClass(hello)"
      ]
     },
     "execution_count": 4,
     "metadata": {},
     "output_type": "execute_result"
    }
   ],
   "source": [
    "# decorated classes will accept name_, group_, and defaults as arguments\n",
    "lower_level_class = LowerLevelClass(\n",
    "    name_='lower_level_class_1',\n",
    "    )\n",
    "lower_level_class"
   ]
  },
  {
   "cell_type": "code",
   "execution_count": 5,
   "metadata": {},
   "outputs": [
    {
     "data": {
      "text/plain": [
       "Builds_LowerLevelClass(_target_='hydra_zen.funcs.zen_processing', _zen_target='__main__.LowerLevelClass', _zen_exclude=('name_', 'group_', 'package_', 'provider_', 'defaults'), b='hello', name_='lower_level_class_1', group_=None, package_='_group_', provider_=None, defaults=['_self_'])"
      ]
     },
     "execution_count": 5,
     "metadata": {},
     "output_type": "execute_result"
    }
   ],
   "source": [
    "lower_level_class.conf.store()"
   ]
  },
  {
   "cell_type": "code",
   "execution_count": 9,
   "metadata": {},
   "outputs": [
    {
     "data": {
      "text/plain": [
       "['_dummy_empty_config_.yaml', 'hydra']"
      ]
     },
     "execution_count": 9,
     "metadata": {},
     "output_type": "execute_result"
    }
   ],
   "source": [
    "# constructing a decorated class with a name_ argument will automatically store it in ConfigStore\n",
    "cs.list('')"
   ]
  },
  {
   "cell_type": "code",
   "execution_count": 8,
   "metadata": {},
   "outputs": [
    {
     "data": {
      "text/plain": [
       "Builds_LowerLevelClass(_target_='hydra_zen.funcs.zen_processing', _zen_target='__main__.LowerLevelClass', _zen_exclude=('name_', 'group_', 'package_', 'provider_', 'defaults'), b=99, name_='lower_level_class_2', group_=None, package_='_group_', provider_=None, defaults=['_self_'])"
      ]
     },
     "execution_count": 8,
     "metadata": {},
     "output_type": "execute_result"
    }
   ],
   "source": [
    "# constructing the .conf dataclass with a name_ argument will also automatically store it in ConfigStore\n",
    "LowerLevelClass.Conf(\n",
    "    name_='lower_level_class_2',\n",
    "    b=99,\n",
    "    )"
   ]
  },
  {
   "cell_type": "code",
   "execution_count": 10,
   "metadata": {},
   "outputs": [
    {
     "data": {
      "text/plain": [
       "['_dummy_empty_config_.yaml', 'hydra']"
      ]
     },
     "execution_count": 10,
     "metadata": {},
     "output_type": "execute_result"
    }
   ],
   "source": [
    "cs.list('')"
   ]
  },
  {
   "cell_type": "code",
   "execution_count": 11,
   "metadata": {},
   "outputs": [
    {
     "data": {
      "text/plain": [
       "Builds_LowerLevelClass(_target_='hydra_zen.funcs.zen_processing', _zen_target='__main__.LowerLevelClass', _zen_exclude=('name_', 'group_', 'package_', 'provider_', 'defaults'), b=99, name_='lower_level_class_4', group_='lower_level_class', package_='_group_', provider_=None, defaults=['_self_'])"
      ]
     },
     "execution_count": 11,
     "metadata": {},
     "output_type": "execute_result"
    }
   ],
   "source": [
    "# config group names can be set in the same manner\n",
    "LowerLevelClass(\n",
    "    name_='lower_level_class_3',\n",
    "    group_='lower_level_class',\n",
    "    )\n",
    "\n",
    "LowerLevelClass.Conf(\n",
    "    name_='lower_level_class_4',\n",
    "    group_='lower_level_class',\n",
    "    b=99,\n",
    "    )"
   ]
  },
  {
   "cell_type": "code",
   "execution_count": 12,
   "metadata": {},
   "outputs": [
    {
     "data": {
      "text/plain": [
       "Builds_LowerLevelClass(_target_='hydra_zen.funcs.zen_processing', _zen_target='__main__.LowerLevelClass', _zen_exclude=('name_', 'group_', 'package_', 'provider_', 'defaults'), b='hello', name_='lower_level_class_3', group_='lower_level_class', package_='_group_', provider_=None, defaults=['_self_'])"
      ]
     },
     "execution_count": 12,
     "metadata": {},
     "output_type": "execute_result"
    }
   ],
   "source": [
    "LowerLevelClass(\n",
    "    name_='lower_level_class_3',\n",
    "    group_='lower_level_class',\n",
    "    ).conf"
   ]
  },
  {
   "cell_type": "code",
   "execution_count": 13,
   "metadata": {},
   "outputs": [],
   "source": [
    "# as can the defaults list\n",
    "top_level_class_config = TopLevelClass.Conf(\n",
    "    name_='top_level_class', \n",
    "    defaults=['_self_', {'lower_level_class': 'lower_level_class_3'}]\n",
    "    )"
   ]
  },
  {
   "cell_type": "code",
   "execution_count": 14,
   "metadata": {},
   "outputs": [
    {
     "name": "stderr",
     "output_type": "stream",
     "text": [
      "/home/naka/code/hydra-zen/src/hydra_zen/_launch.py:236: UserWarning: \n",
      "The version_base parameter is not specified.\n",
      "Please specify a compatability version level, or None.\n",
      "Will assume defaults for version 1.1\n",
      "  with initialize(\n"
     ]
    },
    {
     "ename": "MissingConfigException",
     "evalue": "In 'zen_launch': Could not find 'lower_level_class/lower_level_class_3'\n\nConfig search path:\n\tprovider=hydra, path=pkg://hydra.conf\n\tprovider=schema, path=structured://",
     "output_type": "error",
     "traceback": [
      "\u001b[0;31m---------------------------------------------------------------------------\u001b[0m",
      "\u001b[0;31mMissingConfigException\u001b[0m                    Traceback (most recent call last)",
      "\u001b[1;32m/home/naka/code/hydra-zen/ipynb/add_conf_demo.ipynb Cell 41\u001b[0m in \u001b[0;36m<cell line: 1>\u001b[0;34m()\u001b[0m\n\u001b[0;32m----> <a href='vscode-notebook-cell:/home/naka/code/hydra-zen/ipynb/add_conf_demo.ipynb#X54sZmlsZQ%3D%3D?line=0'>1</a>\u001b[0m out \u001b[39m=\u001b[39m launch(top_level_class_config, launch_and_instantiate)\n\u001b[1;32m      <a href='vscode-notebook-cell:/home/naka/code/hydra-zen/ipynb/add_conf_demo.ipynb#X54sZmlsZQ%3D%3D?line=1'>2</a>\u001b[0m out\u001b[39m.\u001b[39mreturn_value\n",
      "File \u001b[0;32m~/code/hydra-zen/src/hydra_zen/_launch.py:251\u001b[0m, in \u001b[0;36mlaunch\u001b[0;34m(config, task_function, overrides, multirun, version_base, to_dictconfig, config_name, job_name, with_log_configuration)\u001b[0m\n\u001b[1;32m    248\u001b[0m \u001b[39massert\u001b[39;00m gh\u001b[39m.\u001b[39mhydra \u001b[39mis\u001b[39;00m \u001b[39mnot\u001b[39;00m \u001b[39mNone\u001b[39;00m\n\u001b[1;32m    250\u001b[0m \u001b[39m# Load configuration\u001b[39;00m\n\u001b[0;32m--> 251\u001b[0m cfg \u001b[39m=\u001b[39m gh\u001b[39m.\u001b[39;49mhydra\u001b[39m.\u001b[39;49mcompose_config(\n\u001b[1;32m    252\u001b[0m     config_name\u001b[39m=\u001b[39;49mconfig_name,\n\u001b[1;32m    253\u001b[0m     overrides\u001b[39m=\u001b[39;49moverrides \u001b[39mif\u001b[39;49;00m overrides \u001b[39mis\u001b[39;49;00m \u001b[39mnot\u001b[39;49;00m \u001b[39mNone\u001b[39;49;00m \u001b[39melse\u001b[39;49;00m [],\n\u001b[1;32m    254\u001b[0m     run_mode\u001b[39m=\u001b[39;49mRunMode\u001b[39m.\u001b[39;49mRUN \u001b[39mif\u001b[39;49;00m \u001b[39mnot\u001b[39;49;00m multirun \u001b[39melse\u001b[39;49;00m RunMode\u001b[39m.\u001b[39;49mMULTIRUN,\n\u001b[1;32m    255\u001b[0m     from_shell\u001b[39m=\u001b[39;49m\u001b[39mFalse\u001b[39;49;00m,\n\u001b[1;32m    256\u001b[0m     with_log_configuration\u001b[39m=\u001b[39;49mwith_log_configuration,\n\u001b[1;32m    257\u001b[0m )\n\u001b[1;32m    259\u001b[0m callbacks \u001b[39m=\u001b[39m Callbacks(cfg)\n\u001b[1;32m    260\u001b[0m run_start \u001b[39m=\u001b[39m (\n\u001b[1;32m    261\u001b[0m     callbacks\u001b[39m.\u001b[39mon_run_start \u001b[39mif\u001b[39;00m \u001b[39mnot\u001b[39;00m multirun \u001b[39melse\u001b[39;00m callbacks\u001b[39m.\u001b[39mon_multirun_start\n\u001b[1;32m    262\u001b[0m )\n",
      "File \u001b[0;32m~/.local/lib/python3.8/site-packages/hydra/_internal/hydra.py:594\u001b[0m, in \u001b[0;36mHydra.compose_config\u001b[0;34m(self, config_name, overrides, run_mode, with_log_configuration, from_shell, validate_sweep_overrides)\u001b[0m\n\u001b[1;32m    576\u001b[0m \u001b[39mdef\u001b[39;00m \u001b[39mcompose_config\u001b[39m(\n\u001b[1;32m    577\u001b[0m     \u001b[39mself\u001b[39m,\n\u001b[1;32m    578\u001b[0m     config_name: Optional[\u001b[39mstr\u001b[39m],\n\u001b[0;32m   (...)\u001b[0m\n\u001b[1;32m    583\u001b[0m     validate_sweep_overrides: \u001b[39mbool\u001b[39m \u001b[39m=\u001b[39m \u001b[39mTrue\u001b[39;00m,\n\u001b[1;32m    584\u001b[0m ) \u001b[39m-\u001b[39m\u001b[39m>\u001b[39m DictConfig:\n\u001b[1;32m    585\u001b[0m     \u001b[39m\"\"\"\u001b[39;00m\n\u001b[1;32m    586\u001b[0m \u001b[39m    :param config_name:\u001b[39;00m\n\u001b[1;32m    587\u001b[0m \u001b[39m    :param overrides:\u001b[39;00m\n\u001b[0;32m   (...)\u001b[0m\n\u001b[1;32m    591\u001b[0m \u001b[39m    :return:\u001b[39;00m\n\u001b[1;32m    592\u001b[0m \u001b[39m    \"\"\"\u001b[39;00m\n\u001b[0;32m--> 594\u001b[0m     cfg \u001b[39m=\u001b[39m \u001b[39mself\u001b[39;49m\u001b[39m.\u001b[39;49mconfig_loader\u001b[39m.\u001b[39;49mload_configuration(\n\u001b[1;32m    595\u001b[0m         config_name\u001b[39m=\u001b[39;49mconfig_name,\n\u001b[1;32m    596\u001b[0m         overrides\u001b[39m=\u001b[39;49moverrides,\n\u001b[1;32m    597\u001b[0m         run_mode\u001b[39m=\u001b[39;49mrun_mode,\n\u001b[1;32m    598\u001b[0m         from_shell\u001b[39m=\u001b[39;49mfrom_shell,\n\u001b[1;32m    599\u001b[0m         validate_sweep_overrides\u001b[39m=\u001b[39;49mvalidate_sweep_overrides,\n\u001b[1;32m    600\u001b[0m     )\n\u001b[1;32m    601\u001b[0m     \u001b[39mif\u001b[39;00m with_log_configuration:\n\u001b[1;32m    602\u001b[0m         configure_log(cfg\u001b[39m.\u001b[39mhydra\u001b[39m.\u001b[39mhydra_logging, cfg\u001b[39m.\u001b[39mhydra\u001b[39m.\u001b[39mverbose)\n",
      "File \u001b[0;32m~/.local/lib/python3.8/site-packages/hydra/_internal/config_loader_impl.py:142\u001b[0m, in \u001b[0;36mConfigLoaderImpl.load_configuration\u001b[0;34m(self, config_name, overrides, run_mode, from_shell, validate_sweep_overrides)\u001b[0m\n\u001b[1;32m    133\u001b[0m \u001b[39mdef\u001b[39;00m \u001b[39mload_configuration\u001b[39m(\n\u001b[1;32m    134\u001b[0m     \u001b[39mself\u001b[39m,\n\u001b[1;32m    135\u001b[0m     config_name: Optional[\u001b[39mstr\u001b[39m],\n\u001b[0;32m   (...)\u001b[0m\n\u001b[1;32m    139\u001b[0m     validate_sweep_overrides: \u001b[39mbool\u001b[39m \u001b[39m=\u001b[39m \u001b[39mTrue\u001b[39;00m,\n\u001b[1;32m    140\u001b[0m ) \u001b[39m-\u001b[39m\u001b[39m>\u001b[39m DictConfig:\n\u001b[1;32m    141\u001b[0m     \u001b[39mtry\u001b[39;00m:\n\u001b[0;32m--> 142\u001b[0m         \u001b[39mreturn\u001b[39;00m \u001b[39mself\u001b[39;49m\u001b[39m.\u001b[39;49m_load_configuration_impl(\n\u001b[1;32m    143\u001b[0m             config_name\u001b[39m=\u001b[39;49mconfig_name,\n\u001b[1;32m    144\u001b[0m             overrides\u001b[39m=\u001b[39;49moverrides,\n\u001b[1;32m    145\u001b[0m             run_mode\u001b[39m=\u001b[39;49mrun_mode,\n\u001b[1;32m    146\u001b[0m             from_shell\u001b[39m=\u001b[39;49mfrom_shell,\n\u001b[1;32m    147\u001b[0m             validate_sweep_overrides\u001b[39m=\u001b[39;49mvalidate_sweep_overrides,\n\u001b[1;32m    148\u001b[0m         )\n\u001b[1;32m    149\u001b[0m     \u001b[39mexcept\u001b[39;00m OmegaConfBaseException \u001b[39mas\u001b[39;00m e:\n\u001b[1;32m    150\u001b[0m         \u001b[39mraise\u001b[39;00m ConfigCompositionException()\u001b[39m.\u001b[39mwith_traceback(sys\u001b[39m.\u001b[39mexc_info()[\u001b[39m2\u001b[39m]) \u001b[39mfrom\u001b[39;00m \u001b[39me\u001b[39;00m\n",
      "File \u001b[0;32m~/.local/lib/python3.8/site-packages/hydra/_internal/config_loader_impl.py:253\u001b[0m, in \u001b[0;36mConfigLoaderImpl._load_configuration_impl\u001b[0;34m(self, config_name, overrides, run_mode, from_shell, validate_sweep_overrides)\u001b[0m\n\u001b[1;32m    248\u001b[0m \u001b[39mif\u001b[39;00m validate_sweep_overrides:\n\u001b[1;32m    249\u001b[0m     \u001b[39mself\u001b[39m\u001b[39m.\u001b[39mvalidate_sweep_overrides_legal(\n\u001b[1;32m    250\u001b[0m         overrides\u001b[39m=\u001b[39mparsed_overrides, run_mode\u001b[39m=\u001b[39mrun_mode, from_shell\u001b[39m=\u001b[39mfrom_shell\n\u001b[1;32m    251\u001b[0m     )\n\u001b[0;32m--> 253\u001b[0m defaults_list \u001b[39m=\u001b[39m create_defaults_list(\n\u001b[1;32m    254\u001b[0m     repo\u001b[39m=\u001b[39;49mcaching_repo,\n\u001b[1;32m    255\u001b[0m     config_name\u001b[39m=\u001b[39;49mconfig_name,\n\u001b[1;32m    256\u001b[0m     overrides_list\u001b[39m=\u001b[39;49mparsed_overrides,\n\u001b[1;32m    257\u001b[0m     prepend_hydra\u001b[39m=\u001b[39;49m\u001b[39mTrue\u001b[39;49;00m,\n\u001b[1;32m    258\u001b[0m     skip_missing\u001b[39m=\u001b[39;49mrun_mode \u001b[39m==\u001b[39;49m RunMode\u001b[39m.\u001b[39;49mMULTIRUN,\n\u001b[1;32m    259\u001b[0m )\n\u001b[1;32m    261\u001b[0m config_overrides \u001b[39m=\u001b[39m defaults_list\u001b[39m.\u001b[39mconfig_overrides\n\u001b[1;32m    263\u001b[0m cfg \u001b[39m=\u001b[39m \u001b[39mself\u001b[39m\u001b[39m.\u001b[39m_compose_config_from_defaults_list(\n\u001b[1;32m    264\u001b[0m     defaults\u001b[39m=\u001b[39mdefaults_list\u001b[39m.\u001b[39mdefaults, repo\u001b[39m=\u001b[39mcaching_repo\n\u001b[1;32m    265\u001b[0m )\n",
      "File \u001b[0;32m~/.local/lib/python3.8/site-packages/hydra/_internal/defaults_list.py:746\u001b[0m, in \u001b[0;36mcreate_defaults_list\u001b[0;34m(repo, config_name, overrides_list, prepend_hydra, skip_missing)\u001b[0m\n\u001b[1;32m    737\u001b[0m \u001b[39m\"\"\"\u001b[39;00m\n\u001b[1;32m    738\u001b[0m \u001b[39m:param repo:\u001b[39;00m\n\u001b[1;32m    739\u001b[0m \u001b[39m:param config_name:\u001b[39;00m\n\u001b[0;32m   (...)\u001b[0m\n\u001b[1;32m    743\u001b[0m \u001b[39m:return:\u001b[39;00m\n\u001b[1;32m    744\u001b[0m \u001b[39m\"\"\"\u001b[39;00m\n\u001b[1;32m    745\u001b[0m overrides \u001b[39m=\u001b[39m Overrides(repo\u001b[39m=\u001b[39mrepo, overrides_list\u001b[39m=\u001b[39moverrides_list)\n\u001b[0;32m--> 746\u001b[0m defaults, tree \u001b[39m=\u001b[39m _create_defaults_list(\n\u001b[1;32m    747\u001b[0m     repo,\n\u001b[1;32m    748\u001b[0m     config_name,\n\u001b[1;32m    749\u001b[0m     overrides,\n\u001b[1;32m    750\u001b[0m     prepend_hydra\u001b[39m=\u001b[39;49mprepend_hydra,\n\u001b[1;32m    751\u001b[0m     skip_missing\u001b[39m=\u001b[39;49mskip_missing,\n\u001b[1;32m    752\u001b[0m )\n\u001b[1;32m    753\u001b[0m overrides\u001b[39m.\u001b[39mensure_overrides_used()\n\u001b[1;32m    754\u001b[0m overrides\u001b[39m.\u001b[39mensure_deletions_used()\n",
      "File \u001b[0;32m~/.local/lib/python3.8/site-packages/hydra/_internal/defaults_list.py:716\u001b[0m, in \u001b[0;36m_create_defaults_list\u001b[0;34m(repo, config_name, overrides, prepend_hydra, skip_missing)\u001b[0m\n\u001b[1;32m    706\u001b[0m \u001b[39mdef\u001b[39;00m \u001b[39m_create_defaults_list\u001b[39m(\n\u001b[1;32m    707\u001b[0m     repo: IConfigRepository,\n\u001b[1;32m    708\u001b[0m     config_name: Optional[\u001b[39mstr\u001b[39m],\n\u001b[0;32m   (...)\u001b[0m\n\u001b[1;32m    711\u001b[0m     skip_missing: \u001b[39mbool\u001b[39m,\n\u001b[1;32m    712\u001b[0m ) \u001b[39m-\u001b[39m\u001b[39m>\u001b[39m Tuple[List[ResultDefault], DefaultsTreeNode]:\n\u001b[1;32m    714\u001b[0m     root \u001b[39m=\u001b[39m _create_root(config_name\u001b[39m=\u001b[39mconfig_name, with_hydra\u001b[39m=\u001b[39mprepend_hydra)\n\u001b[0;32m--> 716\u001b[0m     defaults_tree \u001b[39m=\u001b[39m _create_defaults_tree(\n\u001b[1;32m    717\u001b[0m         repo\u001b[39m=\u001b[39;49mrepo,\n\u001b[1;32m    718\u001b[0m         root\u001b[39m=\u001b[39;49mroot,\n\u001b[1;32m    719\u001b[0m         overrides\u001b[39m=\u001b[39;49moverrides,\n\u001b[1;32m    720\u001b[0m         is_root_config\u001b[39m=\u001b[39;49m\u001b[39mTrue\u001b[39;49;00m,\n\u001b[1;32m    721\u001b[0m         interpolated_subtree\u001b[39m=\u001b[39;49m\u001b[39mFalse\u001b[39;49;00m,\n\u001b[1;32m    722\u001b[0m         skip_missing\u001b[39m=\u001b[39;49mskip_missing,\n\u001b[1;32m    723\u001b[0m     )\n\u001b[1;32m    725\u001b[0m     output \u001b[39m=\u001b[39m _tree_to_list(tree\u001b[39m=\u001b[39mdefaults_tree)\n\u001b[1;32m    726\u001b[0m     ensure_no_duplicates_in_list(output)\n",
      "File \u001b[0;32m~/.local/lib/python3.8/site-packages/hydra/_internal/defaults_list.py:356\u001b[0m, in \u001b[0;36m_create_defaults_tree\u001b[0;34m(repo, root, is_root_config, skip_missing, interpolated_subtree, overrides)\u001b[0m\n\u001b[1;32m    348\u001b[0m \u001b[39mdef\u001b[39;00m \u001b[39m_create_defaults_tree\u001b[39m(\n\u001b[1;32m    349\u001b[0m     repo: IConfigRepository,\n\u001b[1;32m    350\u001b[0m     root: DefaultsTreeNode,\n\u001b[0;32m   (...)\u001b[0m\n\u001b[1;32m    354\u001b[0m     overrides: Overrides,\n\u001b[1;32m    355\u001b[0m ) \u001b[39m-\u001b[39m\u001b[39m>\u001b[39m DefaultsTreeNode:\n\u001b[0;32m--> 356\u001b[0m     ret \u001b[39m=\u001b[39m _create_defaults_tree_impl(\n\u001b[1;32m    357\u001b[0m         repo\u001b[39m=\u001b[39;49mrepo,\n\u001b[1;32m    358\u001b[0m         root\u001b[39m=\u001b[39;49mroot,\n\u001b[1;32m    359\u001b[0m         is_root_config\u001b[39m=\u001b[39;49mis_root_config,\n\u001b[1;32m    360\u001b[0m         skip_missing\u001b[39m=\u001b[39;49mskip_missing,\n\u001b[1;32m    361\u001b[0m         interpolated_subtree\u001b[39m=\u001b[39;49minterpolated_subtree,\n\u001b[1;32m    362\u001b[0m         overrides\u001b[39m=\u001b[39;49moverrides,\n\u001b[1;32m    363\u001b[0m     )\n\u001b[1;32m    365\u001b[0m     \u001b[39mreturn\u001b[39;00m ret\n",
      "File \u001b[0;32m~/.local/lib/python3.8/site-packages/hydra/_internal/defaults_list.py:457\u001b[0m, in \u001b[0;36m_create_defaults_tree_impl\u001b[0;34m(repo, root, is_root_config, skip_missing, interpolated_subtree, overrides)\u001b[0m\n\u001b[1;32m    455\u001b[0m \u001b[39mif\u001b[39;00m parent\u001b[39m.\u001b[39mis_virtual():\n\u001b[1;32m    456\u001b[0m     \u001b[39mif\u001b[39;00m is_root_config:\n\u001b[0;32m--> 457\u001b[0m         \u001b[39mreturn\u001b[39;00m _expand_virtual_root(repo, root, overrides, skip_missing)\n\u001b[1;32m    458\u001b[0m     \u001b[39melse\u001b[39;00m:\n\u001b[1;32m    459\u001b[0m         \u001b[39mreturn\u001b[39;00m root\n",
      "File \u001b[0;32m~/.local/lib/python3.8/site-packages/hydra/_internal/defaults_list.py:280\u001b[0m, in \u001b[0;36m_expand_virtual_root\u001b[0;34m(repo, root, overrides, skip_missing)\u001b[0m\n\u001b[1;32m    277\u001b[0m new_root \u001b[39m=\u001b[39m DefaultsTreeNode(node\u001b[39m=\u001b[39md, parent\u001b[39m=\u001b[39mroot)\n\u001b[1;32m    278\u001b[0m d\u001b[39m.\u001b[39mupdate_parent(\u001b[39m\"\u001b[39m\u001b[39m\"\u001b[39m, \u001b[39m\"\u001b[39m\u001b[39m\"\u001b[39m)\n\u001b[0;32m--> 280\u001b[0m subtree \u001b[39m=\u001b[39m _create_defaults_tree_impl(\n\u001b[1;32m    281\u001b[0m     repo\u001b[39m=\u001b[39;49mrepo,\n\u001b[1;32m    282\u001b[0m     root\u001b[39m=\u001b[39;49mnew_root,\n\u001b[1;32m    283\u001b[0m     is_root_config\u001b[39m=\u001b[39;49md\u001b[39m.\u001b[39;49mprimary,\n\u001b[1;32m    284\u001b[0m     skip_missing\u001b[39m=\u001b[39;49mskip_missing,\n\u001b[1;32m    285\u001b[0m     interpolated_subtree\u001b[39m=\u001b[39;49m\u001b[39mFalse\u001b[39;49;00m,\n\u001b[1;32m    286\u001b[0m     overrides\u001b[39m=\u001b[39;49moverrides,\n\u001b[1;32m    287\u001b[0m )\n\u001b[1;32m    288\u001b[0m \u001b[39mif\u001b[39;00m subtree\u001b[39m.\u001b[39mchildren \u001b[39mis\u001b[39;00m \u001b[39mNone\u001b[39;00m:\n\u001b[1;32m    289\u001b[0m     children\u001b[39m.\u001b[39mappend(d)\n",
      "File \u001b[0;32m~/.local/lib/python3.8/site-packages/hydra/_internal/defaults_list.py:573\u001b[0m, in \u001b[0;36m_create_defaults_tree_impl\u001b[0;34m(repo, root, is_root_config, skip_missing, interpolated_subtree, overrides)\u001b[0m\n\u001b[1;32m    570\u001b[0m                 \u001b[39mcontinue\u001b[39;00m\n\u001b[1;32m    572\u001b[0m             new_root \u001b[39m=\u001b[39m DefaultsTreeNode(node\u001b[39m=\u001b[39md, parent\u001b[39m=\u001b[39mroot)\n\u001b[0;32m--> 573\u001b[0m             add_child(children, new_root)\n\u001b[1;32m    575\u001b[0m \u001b[39m# processed deferred interpolations\u001b[39;00m\n\u001b[1;32m    576\u001b[0m known_choices \u001b[39m=\u001b[39m _create_interpolation_map(overrides, defaults_list, self_added)\n",
      "File \u001b[0;32m~/.local/lib/python3.8/site-packages/hydra/_internal/defaults_list.py:520\u001b[0m, in \u001b[0;36m_create_defaults_tree_impl.<locals>.add_child\u001b[0;34m(child_list, new_root_)\u001b[0m\n\u001b[1;32m    516\u001b[0m \u001b[39mdef\u001b[39;00m \u001b[39madd_child\u001b[39m(\n\u001b[1;32m    517\u001b[0m     child_list: List[Union[InputDefault, DefaultsTreeNode]],\n\u001b[1;32m    518\u001b[0m     new_root_: DefaultsTreeNode,\n\u001b[1;32m    519\u001b[0m ) \u001b[39m-\u001b[39m\u001b[39m>\u001b[39m \u001b[39mNone\u001b[39;00m:\n\u001b[0;32m--> 520\u001b[0m     subtree_ \u001b[39m=\u001b[39m _create_defaults_tree_impl(\n\u001b[1;32m    521\u001b[0m         repo\u001b[39m=\u001b[39;49mrepo,\n\u001b[1;32m    522\u001b[0m         root\u001b[39m=\u001b[39;49mnew_root_,\n\u001b[1;32m    523\u001b[0m         is_root_config\u001b[39m=\u001b[39;49m\u001b[39mFalse\u001b[39;49;00m,\n\u001b[1;32m    524\u001b[0m         interpolated_subtree\u001b[39m=\u001b[39;49minterpolated_subtree,\n\u001b[1;32m    525\u001b[0m         skip_missing\u001b[39m=\u001b[39;49mskip_missing,\n\u001b[1;32m    526\u001b[0m         overrides\u001b[39m=\u001b[39;49moverrides,\n\u001b[1;32m    527\u001b[0m     )\n\u001b[1;32m    528\u001b[0m     \u001b[39mif\u001b[39;00m subtree_\u001b[39m.\u001b[39mchildren \u001b[39mis\u001b[39;00m \u001b[39mNone\u001b[39;00m:\n\u001b[1;32m    529\u001b[0m         child_list\u001b[39m.\u001b[39mappend(new_root_\u001b[39m.\u001b[39mnode)\n",
      "File \u001b[0;32m~/.local/lib/python3.8/site-packages/hydra/_internal/defaults_list.py:488\u001b[0m, in \u001b[0;36m_create_defaults_tree_impl\u001b[0;34m(repo, root, is_root_config, skip_missing, interpolated_subtree, overrides)\u001b[0m\n\u001b[1;32m    486\u001b[0m         parent\u001b[39m.\u001b[39mdeleted \u001b[39m=\u001b[39m \u001b[39mTrue\u001b[39;00m\n\u001b[1;32m    487\u001b[0m         \u001b[39mreturn\u001b[39;00m root\n\u001b[0;32m--> 488\u001b[0m     config_not_found_error(repo\u001b[39m=\u001b[39;49mrepo, tree\u001b[39m=\u001b[39;49mroot)\n\u001b[1;32m    490\u001b[0m \u001b[39massert\u001b[39;00m loaded \u001b[39mis\u001b[39;00m \u001b[39mnot\u001b[39;00m \u001b[39mNone\u001b[39;00m\n\u001b[1;32m    491\u001b[0m defaults_list \u001b[39m=\u001b[39m copy\u001b[39m.\u001b[39mdeepcopy(loaded\u001b[39m.\u001b[39mdefaults_list)\n",
      "File \u001b[0;32m~/.local/lib/python3.8/site-packages/hydra/_internal/defaults_list.py:800\u001b[0m, in \u001b[0;36mconfig_not_found_error\u001b[0;34m(repo, tree)\u001b[0m\n\u001b[1;32m    797\u001b[0m lines \u001b[39m=\u001b[39m \u001b[39m\"\u001b[39m\u001b[39m\\n\u001b[39;00m\u001b[39m\"\u001b[39m\u001b[39m.\u001b[39mjoin(descs)\n\u001b[1;32m    798\u001b[0m msg \u001b[39m+\u001b[39m\u001b[39m=\u001b[39m \u001b[39m\"\u001b[39m\u001b[39m\\n\u001b[39;00m\u001b[39mConfig search path:\u001b[39m\u001b[39m\"\u001b[39m \u001b[39m+\u001b[39m \u001b[39mf\u001b[39m\u001b[39m\"\u001b[39m\u001b[39m\\n\u001b[39;00m\u001b[39m{\u001b[39;00mlines\u001b[39m}\u001b[39;00m\u001b[39m\"\u001b[39m\n\u001b[0;32m--> 800\u001b[0m \u001b[39mraise\u001b[39;00m MissingConfigException(\n\u001b[1;32m    801\u001b[0m     missing_cfg_file\u001b[39m=\u001b[39melement\u001b[39m.\u001b[39mget_config_path(),\n\u001b[1;32m    802\u001b[0m     message\u001b[39m=\u001b[39mmsg,\n\u001b[1;32m    803\u001b[0m     options\u001b[39m=\u001b[39moptions,\n\u001b[1;32m    804\u001b[0m )\n",
      "\u001b[0;31mMissingConfigException\u001b[0m: In 'zen_launch': Could not find 'lower_level_class/lower_level_class_3'\n\nConfig search path:\n\tprovider=hydra, path=pkg://hydra.conf\n\tprovider=schema, path=structured://"
     ]
    }
   ],
   "source": [
    "out = launch(top_level_class_config, launch_and_instantiate)\n",
    "out.return_value"
   ]
  },
  {
   "cell_type": "code",
   "execution_count": 53,
   "metadata": {},
   "outputs": [
    {
     "name": "stderr",
     "output_type": "stream",
     "text": [
      "/home/naka/code/hydra-zen/src/hydra_zen/_launch.py:236: UserWarning: \n",
      "The version_base parameter is not specified.\n",
      "Please specify a compatability version level, or None.\n",
      "Will assume defaults for version 1.1\n",
      "  with initialize(\n"
     ]
    },
    {
     "ename": "MissingConfigException",
     "evalue": "In 'zen_launch': Could not find 'lower_level_class/lower_level_class_3'\n\nConfig search path:\n\tprovider=hydra, path=pkg://hydra.conf\n\tprovider=schema, path=structured://",
     "output_type": "error",
     "traceback": [
      "\u001b[0;31m---------------------------------------------------------------------------\u001b[0m",
      "\u001b[0;31mMissingConfigException\u001b[0m                    Traceback (most recent call last)",
      "\u001b[1;32m/home/naka/code/hydra-zen/ipynb/add_conf_demo.ipynb Cell 41\u001b[0m in \u001b[0;36m<cell line: 1>\u001b[0;34m()\u001b[0m\n\u001b[0;32m----> <a href='vscode-notebook-cell:/home/naka/code/hydra-zen/ipynb/add_conf_demo.ipynb#X55sZmlsZQ%3D%3D?line=0'>1</a>\u001b[0m out \u001b[39m=\u001b[39m launch(\n\u001b[1;32m      <a href='vscode-notebook-cell:/home/naka/code/hydra-zen/ipynb/add_conf_demo.ipynb#X55sZmlsZQ%3D%3D?line=1'>2</a>\u001b[0m     top_level_class_config, \n\u001b[1;32m      <a href='vscode-notebook-cell:/home/naka/code/hydra-zen/ipynb/add_conf_demo.ipynb#X55sZmlsZQ%3D%3D?line=2'>3</a>\u001b[0m     launch_and_instantiate, \n\u001b[1;32m      <a href='vscode-notebook-cell:/home/naka/code/hydra-zen/ipynb/add_conf_demo.ipynb#X55sZmlsZQ%3D%3D?line=3'>4</a>\u001b[0m     overrides\u001b[39m=\u001b[39;49m[\u001b[39m'\u001b[39;49m\u001b[39mlower_level_class=lower_level_class_4\u001b[39;49m\u001b[39m'\u001b[39;49m])\n\u001b[1;32m      <a href='vscode-notebook-cell:/home/naka/code/hydra-zen/ipynb/add_conf_demo.ipynb#X55sZmlsZQ%3D%3D?line=4'>5</a>\u001b[0m out\u001b[39m.\u001b[39mreturn_value\n",
      "File \u001b[0;32m~/code/hydra-zen/src/hydra_zen/_launch.py:251\u001b[0m, in \u001b[0;36mlaunch\u001b[0;34m(config, task_function, overrides, multirun, version_base, to_dictconfig, config_name, job_name, with_log_configuration)\u001b[0m\n\u001b[1;32m    248\u001b[0m \u001b[39massert\u001b[39;00m gh\u001b[39m.\u001b[39mhydra \u001b[39mis\u001b[39;00m \u001b[39mnot\u001b[39;00m \u001b[39mNone\u001b[39;00m\n\u001b[1;32m    250\u001b[0m \u001b[39m# Load configuration\u001b[39;00m\n\u001b[0;32m--> 251\u001b[0m cfg \u001b[39m=\u001b[39m gh\u001b[39m.\u001b[39;49mhydra\u001b[39m.\u001b[39;49mcompose_config(\n\u001b[1;32m    252\u001b[0m     config_name\u001b[39m=\u001b[39;49mconfig_name,\n\u001b[1;32m    253\u001b[0m     overrides\u001b[39m=\u001b[39;49moverrides \u001b[39mif\u001b[39;49;00m overrides \u001b[39mis\u001b[39;49;00m \u001b[39mnot\u001b[39;49;00m \u001b[39mNone\u001b[39;49;00m \u001b[39melse\u001b[39;49;00m [],\n\u001b[1;32m    254\u001b[0m     run_mode\u001b[39m=\u001b[39;49mRunMode\u001b[39m.\u001b[39;49mRUN \u001b[39mif\u001b[39;49;00m \u001b[39mnot\u001b[39;49;00m multirun \u001b[39melse\u001b[39;49;00m RunMode\u001b[39m.\u001b[39;49mMULTIRUN,\n\u001b[1;32m    255\u001b[0m     from_shell\u001b[39m=\u001b[39;49m\u001b[39mFalse\u001b[39;49;00m,\n\u001b[1;32m    256\u001b[0m     with_log_configuration\u001b[39m=\u001b[39;49mwith_log_configuration,\n\u001b[1;32m    257\u001b[0m )\n\u001b[1;32m    259\u001b[0m callbacks \u001b[39m=\u001b[39m Callbacks(cfg)\n\u001b[1;32m    260\u001b[0m run_start \u001b[39m=\u001b[39m (\n\u001b[1;32m    261\u001b[0m     callbacks\u001b[39m.\u001b[39mon_run_start \u001b[39mif\u001b[39;00m \u001b[39mnot\u001b[39;00m multirun \u001b[39melse\u001b[39;00m callbacks\u001b[39m.\u001b[39mon_multirun_start\n\u001b[1;32m    262\u001b[0m )\n",
      "File \u001b[0;32m~/.local/lib/python3.8/site-packages/hydra/_internal/hydra.py:594\u001b[0m, in \u001b[0;36mHydra.compose_config\u001b[0;34m(self, config_name, overrides, run_mode, with_log_configuration, from_shell, validate_sweep_overrides)\u001b[0m\n\u001b[1;32m    576\u001b[0m \u001b[39mdef\u001b[39;00m \u001b[39mcompose_config\u001b[39m(\n\u001b[1;32m    577\u001b[0m     \u001b[39mself\u001b[39m,\n\u001b[1;32m    578\u001b[0m     config_name: Optional[\u001b[39mstr\u001b[39m],\n\u001b[0;32m   (...)\u001b[0m\n\u001b[1;32m    583\u001b[0m     validate_sweep_overrides: \u001b[39mbool\u001b[39m \u001b[39m=\u001b[39m \u001b[39mTrue\u001b[39;00m,\n\u001b[1;32m    584\u001b[0m ) \u001b[39m-\u001b[39m\u001b[39m>\u001b[39m DictConfig:\n\u001b[1;32m    585\u001b[0m     \u001b[39m\"\"\"\u001b[39;00m\n\u001b[1;32m    586\u001b[0m \u001b[39m    :param config_name:\u001b[39;00m\n\u001b[1;32m    587\u001b[0m \u001b[39m    :param overrides:\u001b[39;00m\n\u001b[0;32m   (...)\u001b[0m\n\u001b[1;32m    591\u001b[0m \u001b[39m    :return:\u001b[39;00m\n\u001b[1;32m    592\u001b[0m \u001b[39m    \"\"\"\u001b[39;00m\n\u001b[0;32m--> 594\u001b[0m     cfg \u001b[39m=\u001b[39m \u001b[39mself\u001b[39;49m\u001b[39m.\u001b[39;49mconfig_loader\u001b[39m.\u001b[39;49mload_configuration(\n\u001b[1;32m    595\u001b[0m         config_name\u001b[39m=\u001b[39;49mconfig_name,\n\u001b[1;32m    596\u001b[0m         overrides\u001b[39m=\u001b[39;49moverrides,\n\u001b[1;32m    597\u001b[0m         run_mode\u001b[39m=\u001b[39;49mrun_mode,\n\u001b[1;32m    598\u001b[0m         from_shell\u001b[39m=\u001b[39;49mfrom_shell,\n\u001b[1;32m    599\u001b[0m         validate_sweep_overrides\u001b[39m=\u001b[39;49mvalidate_sweep_overrides,\n\u001b[1;32m    600\u001b[0m     )\n\u001b[1;32m    601\u001b[0m     \u001b[39mif\u001b[39;00m with_log_configuration:\n\u001b[1;32m    602\u001b[0m         configure_log(cfg\u001b[39m.\u001b[39mhydra\u001b[39m.\u001b[39mhydra_logging, cfg\u001b[39m.\u001b[39mhydra\u001b[39m.\u001b[39mverbose)\n",
      "File \u001b[0;32m~/.local/lib/python3.8/site-packages/hydra/_internal/config_loader_impl.py:142\u001b[0m, in \u001b[0;36mConfigLoaderImpl.load_configuration\u001b[0;34m(self, config_name, overrides, run_mode, from_shell, validate_sweep_overrides)\u001b[0m\n\u001b[1;32m    133\u001b[0m \u001b[39mdef\u001b[39;00m \u001b[39mload_configuration\u001b[39m(\n\u001b[1;32m    134\u001b[0m     \u001b[39mself\u001b[39m,\n\u001b[1;32m    135\u001b[0m     config_name: Optional[\u001b[39mstr\u001b[39m],\n\u001b[0;32m   (...)\u001b[0m\n\u001b[1;32m    139\u001b[0m     validate_sweep_overrides: \u001b[39mbool\u001b[39m \u001b[39m=\u001b[39m \u001b[39mTrue\u001b[39;00m,\n\u001b[1;32m    140\u001b[0m ) \u001b[39m-\u001b[39m\u001b[39m>\u001b[39m DictConfig:\n\u001b[1;32m    141\u001b[0m     \u001b[39mtry\u001b[39;00m:\n\u001b[0;32m--> 142\u001b[0m         \u001b[39mreturn\u001b[39;00m \u001b[39mself\u001b[39;49m\u001b[39m.\u001b[39;49m_load_configuration_impl(\n\u001b[1;32m    143\u001b[0m             config_name\u001b[39m=\u001b[39;49mconfig_name,\n\u001b[1;32m    144\u001b[0m             overrides\u001b[39m=\u001b[39;49moverrides,\n\u001b[1;32m    145\u001b[0m             run_mode\u001b[39m=\u001b[39;49mrun_mode,\n\u001b[1;32m    146\u001b[0m             from_shell\u001b[39m=\u001b[39;49mfrom_shell,\n\u001b[1;32m    147\u001b[0m             validate_sweep_overrides\u001b[39m=\u001b[39;49mvalidate_sweep_overrides,\n\u001b[1;32m    148\u001b[0m         )\n\u001b[1;32m    149\u001b[0m     \u001b[39mexcept\u001b[39;00m OmegaConfBaseException \u001b[39mas\u001b[39;00m e:\n\u001b[1;32m    150\u001b[0m         \u001b[39mraise\u001b[39;00m ConfigCompositionException()\u001b[39m.\u001b[39mwith_traceback(sys\u001b[39m.\u001b[39mexc_info()[\u001b[39m2\u001b[39m]) \u001b[39mfrom\u001b[39;00m \u001b[39me\u001b[39;00m\n",
      "File \u001b[0;32m~/.local/lib/python3.8/site-packages/hydra/_internal/config_loader_impl.py:253\u001b[0m, in \u001b[0;36mConfigLoaderImpl._load_configuration_impl\u001b[0;34m(self, config_name, overrides, run_mode, from_shell, validate_sweep_overrides)\u001b[0m\n\u001b[1;32m    248\u001b[0m \u001b[39mif\u001b[39;00m validate_sweep_overrides:\n\u001b[1;32m    249\u001b[0m     \u001b[39mself\u001b[39m\u001b[39m.\u001b[39mvalidate_sweep_overrides_legal(\n\u001b[1;32m    250\u001b[0m         overrides\u001b[39m=\u001b[39mparsed_overrides, run_mode\u001b[39m=\u001b[39mrun_mode, from_shell\u001b[39m=\u001b[39mfrom_shell\n\u001b[1;32m    251\u001b[0m     )\n\u001b[0;32m--> 253\u001b[0m defaults_list \u001b[39m=\u001b[39m create_defaults_list(\n\u001b[1;32m    254\u001b[0m     repo\u001b[39m=\u001b[39;49mcaching_repo,\n\u001b[1;32m    255\u001b[0m     config_name\u001b[39m=\u001b[39;49mconfig_name,\n\u001b[1;32m    256\u001b[0m     overrides_list\u001b[39m=\u001b[39;49mparsed_overrides,\n\u001b[1;32m    257\u001b[0m     prepend_hydra\u001b[39m=\u001b[39;49m\u001b[39mTrue\u001b[39;49;00m,\n\u001b[1;32m    258\u001b[0m     skip_missing\u001b[39m=\u001b[39;49mrun_mode \u001b[39m==\u001b[39;49m RunMode\u001b[39m.\u001b[39;49mMULTIRUN,\n\u001b[1;32m    259\u001b[0m )\n\u001b[1;32m    261\u001b[0m config_overrides \u001b[39m=\u001b[39m defaults_list\u001b[39m.\u001b[39mconfig_overrides\n\u001b[1;32m    263\u001b[0m cfg \u001b[39m=\u001b[39m \u001b[39mself\u001b[39m\u001b[39m.\u001b[39m_compose_config_from_defaults_list(\n\u001b[1;32m    264\u001b[0m     defaults\u001b[39m=\u001b[39mdefaults_list\u001b[39m.\u001b[39mdefaults, repo\u001b[39m=\u001b[39mcaching_repo\n\u001b[1;32m    265\u001b[0m )\n",
      "File \u001b[0;32m~/.local/lib/python3.8/site-packages/hydra/_internal/defaults_list.py:746\u001b[0m, in \u001b[0;36mcreate_defaults_list\u001b[0;34m(repo, config_name, overrides_list, prepend_hydra, skip_missing)\u001b[0m\n\u001b[1;32m    737\u001b[0m \u001b[39m\"\"\"\u001b[39;00m\n\u001b[1;32m    738\u001b[0m \u001b[39m:param repo:\u001b[39;00m\n\u001b[1;32m    739\u001b[0m \u001b[39m:param config_name:\u001b[39;00m\n\u001b[0;32m   (...)\u001b[0m\n\u001b[1;32m    743\u001b[0m \u001b[39m:return:\u001b[39;00m\n\u001b[1;32m    744\u001b[0m \u001b[39m\"\"\"\u001b[39;00m\n\u001b[1;32m    745\u001b[0m overrides \u001b[39m=\u001b[39m Overrides(repo\u001b[39m=\u001b[39mrepo, overrides_list\u001b[39m=\u001b[39moverrides_list)\n\u001b[0;32m--> 746\u001b[0m defaults, tree \u001b[39m=\u001b[39m _create_defaults_list(\n\u001b[1;32m    747\u001b[0m     repo,\n\u001b[1;32m    748\u001b[0m     config_name,\n\u001b[1;32m    749\u001b[0m     overrides,\n\u001b[1;32m    750\u001b[0m     prepend_hydra\u001b[39m=\u001b[39;49mprepend_hydra,\n\u001b[1;32m    751\u001b[0m     skip_missing\u001b[39m=\u001b[39;49mskip_missing,\n\u001b[1;32m    752\u001b[0m )\n\u001b[1;32m    753\u001b[0m overrides\u001b[39m.\u001b[39mensure_overrides_used()\n\u001b[1;32m    754\u001b[0m overrides\u001b[39m.\u001b[39mensure_deletions_used()\n",
      "File \u001b[0;32m~/.local/lib/python3.8/site-packages/hydra/_internal/defaults_list.py:716\u001b[0m, in \u001b[0;36m_create_defaults_list\u001b[0;34m(repo, config_name, overrides, prepend_hydra, skip_missing)\u001b[0m\n\u001b[1;32m    706\u001b[0m \u001b[39mdef\u001b[39;00m \u001b[39m_create_defaults_list\u001b[39m(\n\u001b[1;32m    707\u001b[0m     repo: IConfigRepository,\n\u001b[1;32m    708\u001b[0m     config_name: Optional[\u001b[39mstr\u001b[39m],\n\u001b[0;32m   (...)\u001b[0m\n\u001b[1;32m    711\u001b[0m     skip_missing: \u001b[39mbool\u001b[39m,\n\u001b[1;32m    712\u001b[0m ) \u001b[39m-\u001b[39m\u001b[39m>\u001b[39m Tuple[List[ResultDefault], DefaultsTreeNode]:\n\u001b[1;32m    714\u001b[0m     root \u001b[39m=\u001b[39m _create_root(config_name\u001b[39m=\u001b[39mconfig_name, with_hydra\u001b[39m=\u001b[39mprepend_hydra)\n\u001b[0;32m--> 716\u001b[0m     defaults_tree \u001b[39m=\u001b[39m _create_defaults_tree(\n\u001b[1;32m    717\u001b[0m         repo\u001b[39m=\u001b[39;49mrepo,\n\u001b[1;32m    718\u001b[0m         root\u001b[39m=\u001b[39;49mroot,\n\u001b[1;32m    719\u001b[0m         overrides\u001b[39m=\u001b[39;49moverrides,\n\u001b[1;32m    720\u001b[0m         is_root_config\u001b[39m=\u001b[39;49m\u001b[39mTrue\u001b[39;49;00m,\n\u001b[1;32m    721\u001b[0m         interpolated_subtree\u001b[39m=\u001b[39;49m\u001b[39mFalse\u001b[39;49;00m,\n\u001b[1;32m    722\u001b[0m         skip_missing\u001b[39m=\u001b[39;49mskip_missing,\n\u001b[1;32m    723\u001b[0m     )\n\u001b[1;32m    725\u001b[0m     output \u001b[39m=\u001b[39m _tree_to_list(tree\u001b[39m=\u001b[39mdefaults_tree)\n\u001b[1;32m    726\u001b[0m     ensure_no_duplicates_in_list(output)\n",
      "File \u001b[0;32m~/.local/lib/python3.8/site-packages/hydra/_internal/defaults_list.py:356\u001b[0m, in \u001b[0;36m_create_defaults_tree\u001b[0;34m(repo, root, is_root_config, skip_missing, interpolated_subtree, overrides)\u001b[0m\n\u001b[1;32m    348\u001b[0m \u001b[39mdef\u001b[39;00m \u001b[39m_create_defaults_tree\u001b[39m(\n\u001b[1;32m    349\u001b[0m     repo: IConfigRepository,\n\u001b[1;32m    350\u001b[0m     root: DefaultsTreeNode,\n\u001b[0;32m   (...)\u001b[0m\n\u001b[1;32m    354\u001b[0m     overrides: Overrides,\n\u001b[1;32m    355\u001b[0m ) \u001b[39m-\u001b[39m\u001b[39m>\u001b[39m DefaultsTreeNode:\n\u001b[0;32m--> 356\u001b[0m     ret \u001b[39m=\u001b[39m _create_defaults_tree_impl(\n\u001b[1;32m    357\u001b[0m         repo\u001b[39m=\u001b[39;49mrepo,\n\u001b[1;32m    358\u001b[0m         root\u001b[39m=\u001b[39;49mroot,\n\u001b[1;32m    359\u001b[0m         is_root_config\u001b[39m=\u001b[39;49mis_root_config,\n\u001b[1;32m    360\u001b[0m         skip_missing\u001b[39m=\u001b[39;49mskip_missing,\n\u001b[1;32m    361\u001b[0m         interpolated_subtree\u001b[39m=\u001b[39;49minterpolated_subtree,\n\u001b[1;32m    362\u001b[0m         overrides\u001b[39m=\u001b[39;49moverrides,\n\u001b[1;32m    363\u001b[0m     )\n\u001b[1;32m    365\u001b[0m     \u001b[39mreturn\u001b[39;00m ret\n",
      "File \u001b[0;32m~/.local/lib/python3.8/site-packages/hydra/_internal/defaults_list.py:457\u001b[0m, in \u001b[0;36m_create_defaults_tree_impl\u001b[0;34m(repo, root, is_root_config, skip_missing, interpolated_subtree, overrides)\u001b[0m\n\u001b[1;32m    455\u001b[0m \u001b[39mif\u001b[39;00m parent\u001b[39m.\u001b[39mis_virtual():\n\u001b[1;32m    456\u001b[0m     \u001b[39mif\u001b[39;00m is_root_config:\n\u001b[0;32m--> 457\u001b[0m         \u001b[39mreturn\u001b[39;00m _expand_virtual_root(repo, root, overrides, skip_missing)\n\u001b[1;32m    458\u001b[0m     \u001b[39melse\u001b[39;00m:\n\u001b[1;32m    459\u001b[0m         \u001b[39mreturn\u001b[39;00m root\n",
      "File \u001b[0;32m~/.local/lib/python3.8/site-packages/hydra/_internal/defaults_list.py:280\u001b[0m, in \u001b[0;36m_expand_virtual_root\u001b[0;34m(repo, root, overrides, skip_missing)\u001b[0m\n\u001b[1;32m    277\u001b[0m new_root \u001b[39m=\u001b[39m DefaultsTreeNode(node\u001b[39m=\u001b[39md, parent\u001b[39m=\u001b[39mroot)\n\u001b[1;32m    278\u001b[0m d\u001b[39m.\u001b[39mupdate_parent(\u001b[39m\"\u001b[39m\u001b[39m\"\u001b[39m, \u001b[39m\"\u001b[39m\u001b[39m\"\u001b[39m)\n\u001b[0;32m--> 280\u001b[0m subtree \u001b[39m=\u001b[39m _create_defaults_tree_impl(\n\u001b[1;32m    281\u001b[0m     repo\u001b[39m=\u001b[39;49mrepo,\n\u001b[1;32m    282\u001b[0m     root\u001b[39m=\u001b[39;49mnew_root,\n\u001b[1;32m    283\u001b[0m     is_root_config\u001b[39m=\u001b[39;49md\u001b[39m.\u001b[39;49mprimary,\n\u001b[1;32m    284\u001b[0m     skip_missing\u001b[39m=\u001b[39;49mskip_missing,\n\u001b[1;32m    285\u001b[0m     interpolated_subtree\u001b[39m=\u001b[39;49m\u001b[39mFalse\u001b[39;49;00m,\n\u001b[1;32m    286\u001b[0m     overrides\u001b[39m=\u001b[39;49moverrides,\n\u001b[1;32m    287\u001b[0m )\n\u001b[1;32m    288\u001b[0m \u001b[39mif\u001b[39;00m subtree\u001b[39m.\u001b[39mchildren \u001b[39mis\u001b[39;00m \u001b[39mNone\u001b[39;00m:\n\u001b[1;32m    289\u001b[0m     children\u001b[39m.\u001b[39mappend(d)\n",
      "File \u001b[0;32m~/.local/lib/python3.8/site-packages/hydra/_internal/defaults_list.py:573\u001b[0m, in \u001b[0;36m_create_defaults_tree_impl\u001b[0;34m(repo, root, is_root_config, skip_missing, interpolated_subtree, overrides)\u001b[0m\n\u001b[1;32m    570\u001b[0m                 \u001b[39mcontinue\u001b[39;00m\n\u001b[1;32m    572\u001b[0m             new_root \u001b[39m=\u001b[39m DefaultsTreeNode(node\u001b[39m=\u001b[39md, parent\u001b[39m=\u001b[39mroot)\n\u001b[0;32m--> 573\u001b[0m             add_child(children, new_root)\n\u001b[1;32m    575\u001b[0m \u001b[39m# processed deferred interpolations\u001b[39;00m\n\u001b[1;32m    576\u001b[0m known_choices \u001b[39m=\u001b[39m _create_interpolation_map(overrides, defaults_list, self_added)\n",
      "File \u001b[0;32m~/.local/lib/python3.8/site-packages/hydra/_internal/defaults_list.py:520\u001b[0m, in \u001b[0;36m_create_defaults_tree_impl.<locals>.add_child\u001b[0;34m(child_list, new_root_)\u001b[0m\n\u001b[1;32m    516\u001b[0m \u001b[39mdef\u001b[39;00m \u001b[39madd_child\u001b[39m(\n\u001b[1;32m    517\u001b[0m     child_list: List[Union[InputDefault, DefaultsTreeNode]],\n\u001b[1;32m    518\u001b[0m     new_root_: DefaultsTreeNode,\n\u001b[1;32m    519\u001b[0m ) \u001b[39m-\u001b[39m\u001b[39m>\u001b[39m \u001b[39mNone\u001b[39;00m:\n\u001b[0;32m--> 520\u001b[0m     subtree_ \u001b[39m=\u001b[39m _create_defaults_tree_impl(\n\u001b[1;32m    521\u001b[0m         repo\u001b[39m=\u001b[39;49mrepo,\n\u001b[1;32m    522\u001b[0m         root\u001b[39m=\u001b[39;49mnew_root_,\n\u001b[1;32m    523\u001b[0m         is_root_config\u001b[39m=\u001b[39;49m\u001b[39mFalse\u001b[39;49;00m,\n\u001b[1;32m    524\u001b[0m         interpolated_subtree\u001b[39m=\u001b[39;49minterpolated_subtree,\n\u001b[1;32m    525\u001b[0m         skip_missing\u001b[39m=\u001b[39;49mskip_missing,\n\u001b[1;32m    526\u001b[0m         overrides\u001b[39m=\u001b[39;49moverrides,\n\u001b[1;32m    527\u001b[0m     )\n\u001b[1;32m    528\u001b[0m     \u001b[39mif\u001b[39;00m subtree_\u001b[39m.\u001b[39mchildren \u001b[39mis\u001b[39;00m \u001b[39mNone\u001b[39;00m:\n\u001b[1;32m    529\u001b[0m         child_list\u001b[39m.\u001b[39mappend(new_root_\u001b[39m.\u001b[39mnode)\n",
      "File \u001b[0;32m~/.local/lib/python3.8/site-packages/hydra/_internal/defaults_list.py:488\u001b[0m, in \u001b[0;36m_create_defaults_tree_impl\u001b[0;34m(repo, root, is_root_config, skip_missing, interpolated_subtree, overrides)\u001b[0m\n\u001b[1;32m    486\u001b[0m         parent\u001b[39m.\u001b[39mdeleted \u001b[39m=\u001b[39m \u001b[39mTrue\u001b[39;00m\n\u001b[1;32m    487\u001b[0m         \u001b[39mreturn\u001b[39;00m root\n\u001b[0;32m--> 488\u001b[0m     config_not_found_error(repo\u001b[39m=\u001b[39;49mrepo, tree\u001b[39m=\u001b[39;49mroot)\n\u001b[1;32m    490\u001b[0m \u001b[39massert\u001b[39;00m loaded \u001b[39mis\u001b[39;00m \u001b[39mnot\u001b[39;00m \u001b[39mNone\u001b[39;00m\n\u001b[1;32m    491\u001b[0m defaults_list \u001b[39m=\u001b[39m copy\u001b[39m.\u001b[39mdeepcopy(loaded\u001b[39m.\u001b[39mdefaults_list)\n",
      "File \u001b[0;32m~/.local/lib/python3.8/site-packages/hydra/_internal/defaults_list.py:800\u001b[0m, in \u001b[0;36mconfig_not_found_error\u001b[0;34m(repo, tree)\u001b[0m\n\u001b[1;32m    797\u001b[0m lines \u001b[39m=\u001b[39m \u001b[39m\"\u001b[39m\u001b[39m\\n\u001b[39;00m\u001b[39m\"\u001b[39m\u001b[39m.\u001b[39mjoin(descs)\n\u001b[1;32m    798\u001b[0m msg \u001b[39m+\u001b[39m\u001b[39m=\u001b[39m \u001b[39m\"\u001b[39m\u001b[39m\\n\u001b[39;00m\u001b[39mConfig search path:\u001b[39m\u001b[39m\"\u001b[39m \u001b[39m+\u001b[39m \u001b[39mf\u001b[39m\u001b[39m\"\u001b[39m\u001b[39m\\n\u001b[39;00m\u001b[39m{\u001b[39;00mlines\u001b[39m}\u001b[39;00m\u001b[39m\"\u001b[39m\n\u001b[0;32m--> 800\u001b[0m \u001b[39mraise\u001b[39;00m MissingConfigException(\n\u001b[1;32m    801\u001b[0m     missing_cfg_file\u001b[39m=\u001b[39melement\u001b[39m.\u001b[39mget_config_path(),\n\u001b[1;32m    802\u001b[0m     message\u001b[39m=\u001b[39mmsg,\n\u001b[1;32m    803\u001b[0m     options\u001b[39m=\u001b[39moptions,\n\u001b[1;32m    804\u001b[0m )\n",
      "\u001b[0;31mMissingConfigException\u001b[0m: In 'zen_launch': Could not find 'lower_level_class/lower_level_class_3'\n\nConfig search path:\n\tprovider=hydra, path=pkg://hydra.conf\n\tprovider=schema, path=structured://"
     ]
    }
   ],
   "source": [
    "out = launch(\n",
    "    top_level_class_config, \n",
    "    launch_and_instantiate, \n",
    "    overrides=['lower_level_class=lower_level_class_4'])\n",
    "out.return_value"
   ]
  },
  {
   "cell_type": "markdown",
   "metadata": {},
   "source": [
    "### let's look at more complex configurations"
   ]
  },
  {
   "cell_type": "code",
   "execution_count": 54,
   "metadata": {},
   "outputs": [],
   "source": [
    "@add_batteries\n",
    "class TopLevelClass:\n",
    "    def __init__(\n",
    "        self,\n",
    "        a:int = 0,\n",
    "        mid_level_class: Any = MISSING,\n",
    "        **kwargs,\n",
    "    ):\n",
    "        self.a = a\n",
    "        self.mid_level_class = mid_level_class\n",
    "        \n",
    "    def __repr__(self):\n",
    "        return f'TopLevelClass({self.a}, {self.mid_level_class})'\n",
    "\n",
    "@add_batteries(group_='mlc_group')   \n",
    "class MidLevelClass:\n",
    "    def __init__(\n",
    "        self,\n",
    "        b:int = 0,\n",
    "        lower_level_class: Any = MISSING\n",
    "    ):\n",
    "        self.b = b\n",
    "        self.lower_level_class = lower_level_class\n",
    "\n",
    "    def __repr__(self):\n",
    "        return f'MidLevelClass({self.b}, {self.lower_level_class})'\n",
    "        \n",
    "@add_batteries(group_='llc_group')        \n",
    "class LowerLevelClass:\n",
    "    def __init__(\n",
    "        self,\n",
    "        c: str = 'hello',\n",
    "        **kwargs,\n",
    "    ):\n",
    "        self.c = c\n",
    "\n",
    "    def __repr__(self):\n",
    "        return f'LowerLevelClass({self.c})'"
   ]
  },
  {
   "cell_type": "code",
   "execution_count": 55,
   "metadata": {},
   "outputs": [
    {
     "data": {
      "text/plain": [
       "Builds_LowerLevelClass(_target_='hydra_zen.funcs.zen_processing', _zen_target='__main__.LowerLevelClass', _zen_exclude=('name_', 'group_', 'package_', 'provider_', 'defaults'), c='type 1', name_='llc_1', group_='llc_group', package_='_group_', provider_=None, defaults=['_self_'])"
      ]
     },
     "execution_count": 55,
     "metadata": {},
     "output_type": "execute_result"
    }
   ],
   "source": [
    "llc_1 = LowerLevelClass.Conf(\n",
    "    c = 'type 1',\n",
    "    name_='llc_1'\n",
    ")\n",
    "\n",
    "llc_2 = LowerLevelClass.Conf(\n",
    "    c = 'type 2',\n",
    "    name_='llc_2'\n",
    ")\n",
    "\n",
    "llc_3 = LowerLevelClass.Conf(\n",
    "    c = 'type 3',\n",
    "    name_='llc_3'\n",
    ")\n",
    "\n",
    "llc_4 = LowerLevelClass.Conf(\n",
    "    c = 'type 4',\n",
    "    name_='llc_4'\n",
    ")\n",
    "\n",
    "llc_1"
   ]
  },
  {
   "cell_type": "code",
   "execution_count": 56,
   "metadata": {},
   "outputs": [
    {
     "name": "stdout",
     "output_type": "stream",
     "text": [
      "_zen_target: __main__.MidLevelClass\n",
      "b: 1\n",
      "lower_level_class: ???\n",
      "name_: mlc_1\n",
      "group_: mlc_group\n",
      "defaults:\n",
      "- /llc_group@lower_level_class: llc_3\n",
      "\n"
     ]
    }
   ],
   "source": [
    "mlc_1 = MidLevelClass.Conf(\n",
    "    b = 1,\n",
    "    lower_level_class=MISSING,\n",
    "    name_='mlc_1',\n",
    "    defaults=[\n",
    "            {'/llc_group@lower_level_class': 'llc_3'},\n",
    "        ]\n",
    ")\n",
    "\n",
    "mlc_2 = MidLevelClass.Conf(\n",
    "    b = 2,\n",
    "    lower_level_class=MISSING,\n",
    "    name_='mlc_2'\n",
    ")\n",
    "\n",
    "mlc_3 = MidLevelClass.Conf(\n",
    "    b = 3,\n",
    "    lower_level_class=MISSING,\n",
    "    name_='mlc_3'\n",
    ")\n",
    "\n",
    "mlc_4 = MidLevelClass.Conf(\n",
    "    b = 4,\n",
    "    lower_level_class=llc_4,\n",
    "    name_='mlc_4'\n",
    ")\n",
    "\n",
    "mlc_1.show()"
   ]
  },
  {
   "cell_type": "code",
   "execution_count": 57,
   "metadata": {},
   "outputs": [
    {
     "name": "stdout",
     "output_type": "stream",
     "text": [
      "_zen_target: __main__.TopLevelClass\n",
      "a: 123\n",
      "mid_level_class: ???\n",
      "name_: tlc_1\n",
      "defaults:\n",
      "- mlc_group@mid_level_class: mlc_1\n",
      "\n"
     ]
    }
   ],
   "source": [
    "tlc_1 = TopLevelClass.Conf(\n",
    "    a = 123,\n",
    "    mid_level_class=MISSING,\n",
    "    name_='tlc_1',\n",
    "    defaults=[\n",
    "            {\n",
    "                'mlc_group@mid_level_class': 'mlc_1',\n",
    "            },\n",
    "        ]\n",
    ")\n",
    "\n",
    "tlc_1.show()"
   ]
  },
  {
   "cell_type": "code",
   "execution_count": null,
   "metadata": {},
   "outputs": [],
   "source": [
    "out = launch(\n",
    "    tlc_1, \n",
    "    launch_and_instantiate\n",
    "    )\n",
    "out.return_value"
   ]
  },
  {
   "cell_type": "code",
   "execution_count": null,
   "metadata": {},
   "outputs": [],
   "source": [
    "out = launch(\n",
    "    tlc_1, \n",
    "    launch_and_instantiate, \n",
    "    overrides=['llc_group@mid_level_class.lower_level_class=llc_4']\n",
    "    )\n",
    "out.return_value"
   ]
  },
  {
   "cell_type": "code",
   "execution_count": 39,
   "metadata": {},
   "outputs": [
    {
     "data": {
      "text/plain": [
       "TopLevelClass(123, MidLevelClass(1, LowerLevelClass(type X)))"
      ]
     },
     "execution_count": 39,
     "metadata": {},
     "output_type": "execute_result"
    }
   ],
   "source": [
    "out = launch(\n",
    "    tlc_1, \n",
    "    launch_and_instantiate, \n",
    "    overrides=['mid_level_class.lower_level_class.c=\"type X\"']\n",
    "    )\n",
    "out.return_value"
   ]
  },
  {
   "cell_type": "code",
   "execution_count": null,
   "metadata": {},
   "outputs": [],
   "source": [
    "out = launch(\n",
    "    tlc_1, \n",
    "    launch_and_instantiate, \n",
    "    overrides=['llc_group@lower_level_class=llc_2']\n",
    "    )\n",
    "out.return_value"
   ]
  },
  {
   "cell_type": "markdown",
   "metadata": {},
   "source": [
    "### using context manager"
   ]
  },
  {
   "cell_type": "code",
   "execution_count": 60,
   "metadata": {},
   "outputs": [
    {
     "ename": "TypeError",
     "evalue": "__init__() got an unexpected keyword argument 'b'",
     "output_type": "error",
     "traceback": [
      "\u001b[0;31m---------------------------------------------------------------------------\u001b[0m",
      "\u001b[0;31mTypeError\u001b[0m                                 Traceback (most recent call last)",
      "\u001b[1;32m/home/naka/code/hydra-zen/ipynb/add_conf_demo.ipynb Cell 52\u001b[0m in \u001b[0;36m<cell line: 1>\u001b[0;34m()\u001b[0m\n\u001b[1;32m      <a href='vscode-notebook-cell:/home/naka/code/hydra-zen/ipynb/add_conf_demo.ipynb#Y102sZmlsZQ%3D%3D?line=0'>1</a>\u001b[0m \u001b[39mwith\u001b[39;00m ConfMode():\n\u001b[0;32m----> <a href='vscode-notebook-cell:/home/naka/code/hydra-zen/ipynb/add_conf_demo.ipynb#Y102sZmlsZQ%3D%3D?line=1'>2</a>\u001b[0m     LowerLevelClass(\n\u001b[1;32m      <a href='vscode-notebook-cell:/home/naka/code/hydra-zen/ipynb/add_conf_demo.ipynb#Y102sZmlsZQ%3D%3D?line=2'>3</a>\u001b[0m         name_\u001b[39m=\u001b[39;49m\u001b[39m'\u001b[39;49m\u001b[39mlower_level_class_5\u001b[39;49m\u001b[39m'\u001b[39;49m,\n\u001b[1;32m      <a href='vscode-notebook-cell:/home/naka/code/hydra-zen/ipynb/add_conf_demo.ipynb#Y102sZmlsZQ%3D%3D?line=3'>4</a>\u001b[0m         group_\u001b[39m=\u001b[39;49m\u001b[39m'\u001b[39;49m\u001b[39mlower_level_class\u001b[39;49m\u001b[39m'\u001b[39;49m,\n\u001b[1;32m      <a href='vscode-notebook-cell:/home/naka/code/hydra-zen/ipynb/add_conf_demo.ipynb#Y102sZmlsZQ%3D%3D?line=4'>5</a>\u001b[0m         b\u001b[39m=\u001b[39;49m\u001b[39m117\u001b[39;49m,\n\u001b[1;32m      <a href='vscode-notebook-cell:/home/naka/code/hydra-zen/ipynb/add_conf_demo.ipynb#Y102sZmlsZQ%3D%3D?line=5'>6</a>\u001b[0m     )\n\u001b[1;32m      <a href='vscode-notebook-cell:/home/naka/code/hydra-zen/ipynb/add_conf_demo.ipynb#Y102sZmlsZQ%3D%3D?line=6'>7</a>\u001b[0m     top_level_class_config_2 \u001b[39m=\u001b[39m TopLevelClass(\n\u001b[1;32m      <a href='vscode-notebook-cell:/home/naka/code/hydra-zen/ipynb/add_conf_demo.ipynb#Y102sZmlsZQ%3D%3D?line=7'>8</a>\u001b[0m         a\u001b[39m=\u001b[39m\u001b[39m-\u001b[39m\u001b[39m9\u001b[39m,\n\u001b[1;32m      <a href='vscode-notebook-cell:/home/naka/code/hydra-zen/ipynb/add_conf_demo.ipynb#Y102sZmlsZQ%3D%3D?line=8'>9</a>\u001b[0m         name_\u001b[39m=\u001b[39m\u001b[39m'\u001b[39m\u001b[39mtop_level_class_2\u001b[39m\u001b[39m'\u001b[39m, \n\u001b[0;32m   (...)\u001b[0m\n\u001b[1;32m     <a href='vscode-notebook-cell:/home/naka/code/hydra-zen/ipynb/add_conf_demo.ipynb#Y102sZmlsZQ%3D%3D?line=11'>12</a>\u001b[0m             {\u001b[39m'\u001b[39m\u001b[39mlower_level_class\u001b[39m\u001b[39m'\u001b[39m: \u001b[39m'\u001b[39m\u001b[39mlower_level_class_5\u001b[39m\u001b[39m'\u001b[39m}]\n\u001b[1;32m     <a href='vscode-notebook-cell:/home/naka/code/hydra-zen/ipynb/add_conf_demo.ipynb#Y102sZmlsZQ%3D%3D?line=12'>13</a>\u001b[0m     )\n",
      "File \u001b[0;32m~/code/hydra-zen/src/hydra_zen/structured_configs/_add_conf.py:518\u001b[0m, in \u001b[0;36m_batteries_included_override_constructor.<locals>.WrappedClass.__new__\u001b[0;34m(cls, name_, group_, package_, provider_, defaults, *args, **kwargs)\u001b[0m\n\u001b[1;32m    516\u001b[0m \u001b[39mglobal\u001b[39;00m _configuring\n\u001b[1;32m    517\u001b[0m \u001b[39mif\u001b[39;00m _configuring:\n\u001b[0;32m--> 518\u001b[0m     \u001b[39mreturn\u001b[39;00m \u001b[39mcls\u001b[39;49m\u001b[39m.\u001b[39;49mConf(\u001b[39m*\u001b[39;49margs, \u001b[39m*\u001b[39;49m\u001b[39m*\u001b[39;49mzen_meta, \u001b[39m*\u001b[39;49m\u001b[39m*\u001b[39;49mkwargs)\n\u001b[1;32m    519\u001b[0m \u001b[39melse\u001b[39;00m:\n\u001b[1;32m    520\u001b[0m     \u001b[39mreturn\u001b[39;00m \u001b[39msuper\u001b[39m(WrappedClass, \u001b[39mcls\u001b[39m)\u001b[39m.\u001b[39m\u001b[39m__new__\u001b[39m(\u001b[39mcls\u001b[39m)\n",
      "\u001b[0;31mTypeError\u001b[0m: __init__() got an unexpected keyword argument 'b'"
     ]
    }
   ],
   "source": [
    "with ConfMode():\n",
    "    LowerLevelClass(\n",
    "        name_='lower_level_class_5',\n",
    "        group_='lower_level_class',\n",
    "        b=117,\n",
    "    )\n",
    "    top_level_class_config_2 = TopLevelClass(\n",
    "        a=-9,\n",
    "        name_='top_level_class_2', \n",
    "        defaults=[\n",
    "            '_self_', \n",
    "            {'lower_level_class': 'lower_level_class_5'}]\n",
    "    )"
   ]
  },
  {
   "cell_type": "code",
   "execution_count": 81,
   "metadata": {},
   "outputs": [
    {
     "name": "stderr",
     "output_type": "stream",
     "text": [
      "/home/ubuntu/loyal/hydra-zen/src/hydra_zen/_launch.py:236: UserWarning: \n",
      "The version_base parameter is not specified.\n",
      "Please specify a compatability version level, or None.\n",
      "Will assume defaults for version 1.1\n",
      "  with initialize(\n",
      "/home/ubuntu/anaconda3/envs/hydra-zen/lib/python3.10/site-packages/hydra/core/default_element.py:124: UserWarning: In 'lower_level_class/lower_level_class_4': Usage of deprecated keyword in package header '# @package _group_'.\n",
      "See https://hydra.cc/docs/1.2/upgrades/1.0_to_1.1/changes_to_package_header for more information\n",
      "  deprecation_warning(\n",
      "/home/ubuntu/loyal/hydra-zen/src/hydra_zen/_launch.py:270: UserWarning: Future Hydra versions will no longer change working directory at job runtime by default.\n",
      "See https://hydra.cc/docs/1.2/upgrades/1.1_to_1.2/changes_to_job_working_dir/ for more information.\n",
      "  job = run_job(\n"
     ]
    },
    {
     "data": {
      "text/plain": [
       "TopLevelClass(-9, LowerLevelClass(99))"
      ]
     },
     "execution_count": 81,
     "metadata": {},
     "output_type": "execute_result"
    }
   ],
   "source": [
    "out = launch(\n",
    "    top_level_class_config_2, \n",
    "    launch_and_instantiate, \n",
    "    overrides=['lower_level_class=lower_level_class_4']\n",
    "    )\n",
    "out.return_value"
   ]
  },
  {
   "cell_type": "code",
   "execution_count": 82,
   "metadata": {},
   "outputs": [
    {
     "name": "stderr",
     "output_type": "stream",
     "text": [
      "/home/ubuntu/anaconda3/envs/hydra-zen/lib/python3.10/site-packages/hydra/core/default_element.py:124: UserWarning: In 'lower_level_class/lower_level_class_5': Usage of deprecated keyword in package header '# @package _group_'.\n",
      "See https://hydra.cc/docs/1.2/upgrades/1.0_to_1.1/changes_to_package_header for more information\n",
      "  deprecation_warning(\n"
     ]
    },
    {
     "data": {
      "text/plain": [
       "TopLevelClass(-9, LowerLevelClass(123))"
      ]
     },
     "execution_count": 82,
     "metadata": {},
     "output_type": "execute_result"
    }
   ],
   "source": [
    "out = launch(\n",
    "    top_level_class_config_2, \n",
    "    launch_and_instantiate, \n",
    "    overrides=['lower_level_class.b=123']\n",
    "    )\n",
    "out.return_value"
   ]
  },
  {
   "cell_type": "markdown",
   "metadata": {},
   "source": [
    "# on something more concrete"
   ]
  },
  {
   "cell_type": "code",
   "execution_count": 9,
   "metadata": {},
   "outputs": [],
   "source": [
    "from thundercloud.torch.models.components.backbone import LazyBlock, StackedLazyBlocks\n",
    "from thundercloud.torch.models.model import GenericModel\n",
    "from typing import Optional, List, Dict, Union\n",
    "from torch import nn\n",
    "from functools import partial\n",
    "from hydra_zen import instantiate\n",
    "from collections import OrderedDict\n",
    "from pprint import pprint"
   ]
  },
  {
   "cell_type": "code",
   "execution_count": 10,
   "metadata": {},
   "outputs": [],
   "source": [
    "# setup conf for torch primitives\n",
    "Linear = add_batteries(nn.Linear)\n",
    "LazyLinear = add_batteries(nn.LazyLinear)\n",
    "ReLU = add_batteries(nn.ReLU)\n",
    "Dropout = add_batteries(nn.Dropout)\n",
    "BatchNorm = add_batteries(nn.BatchNorm1d)\n",
    "Identity = add_batteries(nn.Identity)\n",
    "Module = add_batteries(nn.Module)"
   ]
  },
  {
   "cell_type": "code",
   "execution_count": 89,
   "metadata": {},
   "outputs": [],
   "source": [
    "# build sequential wrapper\n",
    "import functools\n",
    "\n",
    "    \n",
    "# @functools.wraps(nn.Sequential, updated=())\n",
    "@add_func_conf(hydra_recursive=False, zen_partial=False)\n",
    "def make_sequential(\n",
    "    components:Union[List, Dict]=None,\n",
    "    **kwargs,\n",
    "):\n",
    "    if isinstance(components, dict):\n",
    "        components = list(components.values())\n",
    "    return nn.Sequential(*[instantiate(c) for c in components])"
   ]
  },
  {
   "cell_type": "code",
   "execution_count": 90,
   "metadata": {},
   "outputs": [
    {
     "data": {
      "text/plain": [
       "types.Builds_make_sequential"
      ]
     },
     "execution_count": 90,
     "metadata": {},
     "output_type": "execute_result"
    }
   ],
   "source": [
    "make_sequential.conf"
   ]
  },
  {
   "cell_type": "code",
   "execution_count": 91,
   "metadata": {},
   "outputs": [],
   "source": [
    "# configure\n",
    "with ConfMode():\n",
    "    sequential = make_sequential(\n",
    "        components=[\n",
    "            Linear(in_features=1, out_features=2), \n",
    "            Linear(in_features=2, out_features=1)\n",
    "            ]\n",
    "        )"
   ]
  },
  {
   "cell_type": "code",
   "execution_count": 92,
   "metadata": {},
   "outputs": [
    {
     "data": {
      "text/plain": [
       "Builds_make_sequential(_target_='hydra_zen.funcs.zen_processing', _zen_target='__main__.make_sequential', _zen_exclude=('name_', 'group_', 'package_', 'provider_', 'defaults'), _recursive_=False, components=[Builds_Linear(_target_='hydra_zen.funcs.zen_processing', _zen_target='torch.nn.modules.linear.Linear', _zen_exclude=('name_', 'group_', 'package_', 'provider_', 'defaults'), in_features=1, out_features=2, bias=True, device=None, dtype=None, name_=None, group_=None, package_='_group_', provider_=None, defaults=['_self_']), Builds_Linear(_target_='hydra_zen.funcs.zen_processing', _zen_target='torch.nn.modules.linear.Linear', _zen_exclude=('name_', 'group_', 'package_', 'provider_', 'defaults'), in_features=2, out_features=1, bias=True, device=None, dtype=None, name_=None, group_=None, package_='_group_', provider_=None, defaults=['_self_'])], name_=None, group_=None, package_='_group_', provider_=None, defaults=['_self_'])"
      ]
     },
     "execution_count": 92,
     "metadata": {},
     "output_type": "execute_result"
    }
   ],
   "source": [
    "sequential"
   ]
  },
  {
   "cell_type": "code",
   "execution_count": 93,
   "metadata": {},
   "outputs": [
    {
     "data": {
      "text/plain": [
       "Linear(in_features=1, out_features=2, bias=True)"
      ]
     },
     "execution_count": 93,
     "metadata": {},
     "output_type": "execute_result"
    }
   ],
   "source": [
    "instantiate(sequential.components[0])"
   ]
  },
  {
   "cell_type": "code",
   "execution_count": 94,
   "metadata": {},
   "outputs": [
    {
     "data": {
      "text/plain": [
       "Sequential(\n",
       "  (0): Linear(in_features=1, out_features=2, bias=True)\n",
       "  (1): Linear(in_features=2, out_features=1, bias=True)\n",
       ")"
      ]
     },
     "execution_count": 94,
     "metadata": {},
     "output_type": "execute_result"
    }
   ],
   "source": [
    "sequential.instantiate()"
   ]
  },
  {
   "cell_type": "code",
   "execution_count": 95,
   "metadata": {},
   "outputs": [
    {
     "data": {
      "text/plain": [
       "Sequential(\n",
       "  (0): Linear(in_features=3, out_features=2, bias=True)\n",
       "  (1): Linear(in_features=2, out_features=1, bias=True)\n",
       ")"
      ]
     },
     "execution_count": 95,
     "metadata": {},
     "output_type": "execute_result"
    }
   ],
   "source": [
    "# do overrides\n",
    "launch(sequential, launch_and_instantiate, overrides=['components.0.in_features=3']).return_value"
   ]
  },
  {
   "cell_type": "code",
   "execution_count": 15,
   "metadata": {},
   "outputs": [],
   "source": [
    "# class based sequential that is recursive\n",
    "from thundercloud.torch.models.components.backbone import Sequential\n",
    "\n",
    "with ConfMode():\n",
    "    my_sequence = Sequential(\n",
    "        components=[\n",
    "            Linear(in_features=1, out_features=2), \n",
    "            Linear(in_features=2, out_features=1)\n",
    "        ]\n",
    "    )"
   ]
  },
  {
   "cell_type": "code",
   "execution_count": 17,
   "metadata": {},
   "outputs": [
    {
     "data": {
      "text/plain": [
       "Builds_Sequential(_target_='hydra_zen.funcs.zen_processing', _zen_target='thundercloud.torch.models.components.backbone.Sequential', _zen_exclude=('name_', 'group_', 'package_', 'provider_', 'defaults'), components=[Builds_Linear(_target_='hydra_zen.funcs.zen_processing', _zen_target='torch.nn.modules.linear.Linear', _zen_exclude=('name_', 'group_', 'package_', 'provider_', 'defaults'), in_features=1, out_features=2, bias=True, device=None, dtype=None, name_=None, group_=None, package_='_group_', provider_=None, defaults=['_self_']), Builds_Linear(_target_='hydra_zen.funcs.zen_processing', _zen_target='torch.nn.modules.linear.Linear', _zen_exclude=('name_', 'group_', 'package_', 'provider_', 'defaults'), in_features=2, out_features=1, bias=True, device=None, dtype=None, name_=None, group_=None, package_='_group_', provider_=None, defaults=['_self_'])], name_=None, group_=None, package_='_group_', provider_=None, defaults=['_self_'])"
      ]
     },
     "execution_count": 17,
     "metadata": {},
     "output_type": "execute_result"
    }
   ],
   "source": [
    "my_sequence"
   ]
  },
  {
   "cell_type": "code",
   "execution_count": 19,
   "metadata": {},
   "outputs": [
    {
     "data": {
      "text/plain": [
       "Sequential(\n",
       "  (0): Linear(in_features=1, out_features=2, bias=True)\n",
       "  (1): Linear(in_features=2, out_features=1, bias=True)\n",
       ")"
      ]
     },
     "execution_count": 19,
     "metadata": {},
     "output_type": "execute_result"
    }
   ],
   "source": [
    "my_sequence = my_sequence.instantiate()\n",
    "my_sequence"
   ]
  },
  {
   "cell_type": "markdown",
   "metadata": {},
   "source": [
    "## rebuild lazy block"
   ]
  },
  {
   "cell_type": "code",
   "execution_count": 178,
   "metadata": {},
   "outputs": [],
   "source": [
    "# rebuild lazy block\n",
    "\n",
    "with ConfMode():\n",
    "\n",
    "    dropout = Dropout(p=0., name_='dropout')\n",
    "    \n",
    "    linear = LazyLinear(\n",
    "        out_features=1, \n",
    "        group_='linear', \n",
    "        name_='LazyLinear',\n",
    "        )\n",
    "    \n",
    "    @add_func_conf(hydra_recursive=False, zen_partial=False)\n",
    "    def make_lazy_block(\n",
    "            out_features:int = 1,\n",
    "            input_dropout: Optional[Any] = dropout,\n",
    "            linear=linear,\n",
    "            activation: Optional[Any] = MISSING,\n",
    "            output_dropout: Optional[Any] = dropout,\n",
    "            batch_norm: Optional[Any] = MISSING,\n",
    "            **kwargs,\n",
    "        ):\n",
    "            net = nn.Sequential()\n",
    "            if input_dropout is not None:\n",
    "                net.append(instantiate(input_dropout))\n",
    "            net.append(instantiate(linear, out_features=out_features))\n",
    "            if activation is not None:\n",
    "                net.append(instantiate(activation))\n",
    "            if output_dropout is not None:\n",
    "                net.append(instantiate(output_dropout))\n",
    "            if batch_norm is not None:\n",
    "                net.append(instantiate(batch_norm, num_features=out_features))\n",
    "            return net\n",
    "    \n",
    "\n",
    "    \n",
    "    # create a bunch of config options\n",
    "    \n",
    "    batch_norm = BatchNorm(\n",
    "        num_features=1, \n",
    "        group_='batch_norm', \n",
    "        name_='BatchNorm',\n",
    "        )\n",
    "    \n",
    "    # activations \n",
    "    identity = Identity(group_='activation', name_='Identity')\n",
    "    relu = ReLU(group_='activation', name_='ReLU')\n",
    "\n",
    "    # set defaults list\n",
    "    zen_lazy_block = make_lazy_block(\n",
    "        defaults=[\n",
    "            '_self_',\n",
    "            'linear/LazyLinear',\n",
    "            {'activation': 'Identity'},\n",
    "            'batch_norm/BatchNorm',\n",
    "        ]\n",
    "        )"
   ]
  },
  {
   "cell_type": "code",
   "execution_count": 179,
   "metadata": {},
   "outputs": [
    {
     "data": {
      "text/plain": [
       "Builds_make_lazy_block(_target_='hydra_zen.funcs.zen_processing', _zen_target='__main__.make_lazy_block', _zen_exclude=('name_', 'group_', 'package_', 'provider_', 'defaults'), _recursive_=False, out_features=1, input_dropout=Builds_Dropout(_target_='hydra_zen.funcs.zen_processing', _zen_target='torch.nn.modules.dropout.Dropout', _zen_exclude=('name_', 'group_', 'package_', 'provider_', 'defaults'), p=0.0, inplace=False, name_='dropout', group_=None, package_='_group_', provider_=None, defaults=['_self_']), linear=Builds_LazyLinear(_target_='hydra_zen.funcs.zen_processing', _zen_target='torch.nn.modules.linear.LazyLinear', _zen_exclude=('name_', 'group_', 'package_', 'provider_', 'defaults'), out_features=1, bias=True, device=None, dtype=None, name_='LazyLinear', group_='linear', package_='_group_', provider_=None, defaults=['_self_']), activation='???', output_dropout=Builds_Dropout(_target_='hydra_zen.funcs.zen_processing', _zen_target='torch.nn.modules.dropout.Dropout', _zen_exclude=('name_', 'group_', 'package_', 'provider_', 'defaults'), p=0.0, inplace=False, name_='dropout', group_=None, package_='_group_', provider_=None, defaults=['_self_']), batch_norm='???', name_=None, group_=None, package_='_group_', provider_=None, defaults=['_self_', 'linear/LazyLinear', {'activation': 'Identity'}, 'batch_norm/BatchNorm'])"
      ]
     },
     "execution_count": 179,
     "metadata": {},
     "output_type": "execute_result"
    }
   ],
   "source": [
    "zen_lazy_block"
   ]
  },
  {
   "cell_type": "code",
   "execution_count": 180,
   "metadata": {},
   "outputs": [
    {
     "data": {
      "text/plain": [
       "Sequential(\n",
       "  (0): Dropout(p=0.2, inplace=False)\n",
       "  (1): LazyLinear(in_features=0, out_features=8, bias=True)\n",
       "  (2): ReLU()\n",
       "  (3): Dropout(p=0.0, inplace=False)\n",
       "  (4): BatchNorm1d(8, eps=1e-05, momentum=0.1, affine=True, track_running_stats=True)\n",
       ")"
      ]
     },
     "execution_count": 180,
     "metadata": {},
     "output_type": "execute_result"
    }
   ],
   "source": [
    "launch(\n",
    "    zen_lazy_block, \n",
    "    launch_and_instantiate, \n",
    "    overrides=[\n",
    "        'out_features=8', \n",
    "        'activation=ReLU', \n",
    "        'input_dropout.p=0.2'\n",
    "        ],\n",
    "    ).return_value"
   ]
  },
  {
   "cell_type": "code",
   "execution_count": 2,
   "metadata": {},
   "outputs": [],
   "source": [
    "# we've also implemented a class based LazyBlock\n",
    "# we can use it in combo with our Sequential wrapper to demonstrate using a base config that you can alter\n",
    "\n",
    "from thundercloud.torch.models.components.backbone import LazyBlock,LazyLinear,Dropout,ReLU,BatchNorm, Sequential\n",
    "\n",
    "with ConfMode():\n",
    "\n",
    "    # this is a partial conf, missing out_features\n",
    "    lazy_block_base = LazyBlock(\n",
    "        activation = ReLU(),\n",
    "        output_dropout = Dropout(p=0., name_='dropout'),\n",
    "        batch_norm = BatchNorm()\n",
    "    )\n",
    "\n",
    "    # modify the base conf for each element in the list\n",
    "    my_sequential = Sequential(\n",
    "        components = [\n",
    "            lazy_block_base(out_features = 256,input_dropout = Dropout(p=0.2, name_='dropout')),\n",
    "            lazy_block_base(out_features = 128),\n",
    "            lazy_block_base(out_features = 64)\n",
    "        ]\n",
    "    )"
   ]
  },
  {
   "cell_type": "code",
   "execution_count": 4,
   "metadata": {},
   "outputs": [
    {
     "name": "stdout",
     "output_type": "stream",
     "text": [
      "_zen_target: thundercloud.torch.models.components.backbone.Sequential\n",
      "components:\n",
      "- _zen_target: thundercloud.torch.models.components.backbone.LazyBlock\n",
      "  out_features: 256\n",
      "  input_dropout:\n",
      "    _zen_target: torch.nn.modules.dropout.Dropout\n",
      "    p: 0.2\n",
      "    inplace: false\n",
      "    name_: dropout\n",
      "  activation:\n",
      "    _zen_target: torch.nn.modules.activation.ReLU\n",
      "    inplace: false\n",
      "  output_dropout:\n",
      "    _zen_target: torch.nn.modules.dropout.Dropout\n",
      "    p: 0.0\n",
      "    inplace: false\n",
      "    name_: dropout\n",
      "  batch_norm:\n",
      "    _zen_target: torch.nn.modules.batchnorm.BatchNorm1d\n",
      "    num_features: 1\n",
      "    eps: 1.0e-05\n",
      "    momentum: 0.1\n",
      "    affine: true\n",
      "    track_running_stats: true\n",
      "    device: null\n",
      "    dtype: null\n",
      "- _zen_target: thundercloud.torch.models.components.backbone.LazyBlock\n",
      "  out_features: 128\n",
      "  input_dropout: null\n",
      "  activation:\n",
      "    _zen_target: torch.nn.modules.activation.ReLU\n",
      "    inplace: false\n",
      "  output_dropout:\n",
      "    _zen_target: torch.nn.modules.dropout.Dropout\n",
      "    p: 0.0\n",
      "    inplace: false\n",
      "    name_: dropout\n",
      "  batch_norm:\n",
      "    _zen_target: torch.nn.modules.batchnorm.BatchNorm1d\n",
      "    num_features: 1\n",
      "    eps: 1.0e-05\n",
      "    momentum: 0.1\n",
      "    affine: true\n",
      "    track_running_stats: true\n",
      "    device: null\n",
      "    dtype: null\n",
      "- _zen_target: thundercloud.torch.models.components.backbone.LazyBlock\n",
      "  out_features: 64\n",
      "  input_dropout: null\n",
      "  activation:\n",
      "    _zen_target: torch.nn.modules.activation.ReLU\n",
      "    inplace: false\n",
      "  output_dropout:\n",
      "    _zen_target: torch.nn.modules.dropout.Dropout\n",
      "    p: 0.0\n",
      "    inplace: false\n",
      "    name_: dropout\n",
      "  batch_norm:\n",
      "    _zen_target: torch.nn.modules.batchnorm.BatchNorm1d\n",
      "    num_features: 1\n",
      "    eps: 1.0e-05\n",
      "    momentum: 0.1\n",
      "    affine: true\n",
      "    track_running_stats: true\n",
      "    device: null\n",
      "    dtype: null\n",
      "\n"
     ]
    }
   ],
   "source": [
    "my_sequential.show()"
   ]
  },
  {
   "cell_type": "code",
   "execution_count": 5,
   "metadata": {},
   "outputs": [
    {
     "name": "stderr",
     "output_type": "stream",
     "text": [
      "/home/ubuntu/anaconda3/envs/orange/lib/python3.9/site-packages/torch/nn/modules/lazy.py:178: UserWarning: Lazy modules are a new feature under heavy development so changes to the API or functionality can happen at any moment.\n",
      "  warnings.warn('Lazy modules are a new feature under heavy development '\n"
     ]
    },
    {
     "data": {
      "text/plain": [
       "Sequential(\n",
       "  (0): LazyBlock(\n",
       "    (0): Dropout(p=0.2, inplace=False)\n",
       "    (1): LazyLinear(in_features=0, out_features=256, bias=True)\n",
       "    (2): ReLU()\n",
       "    (3): Dropout(p=0.0, inplace=False)\n",
       "    (4): BatchNorm1d(256, eps=1e-05, momentum=0.1, affine=True, track_running_stats=True)\n",
       "  )\n",
       "  (1): LazyBlock(\n",
       "    (0): LazyLinear(in_features=0, out_features=128, bias=True)\n",
       "    (1): ReLU()\n",
       "    (2): Dropout(p=0.0, inplace=False)\n",
       "    (3): BatchNorm1d(128, eps=1e-05, momentum=0.1, affine=True, track_running_stats=True)\n",
       "  )\n",
       "  (2): LazyBlock(\n",
       "    (0): LazyLinear(in_features=0, out_features=64, bias=True)\n",
       "    (1): ReLU()\n",
       "    (2): Dropout(p=0.0, inplace=False)\n",
       "    (3): BatchNorm1d(64, eps=1e-05, momentum=0.1, affine=True, track_running_stats=True)\n",
       "  )\n",
       ")"
      ]
     },
     "execution_count": 5,
     "metadata": {},
     "output_type": "execute_result"
    }
   ],
   "source": [
    "my_sequential = my_sequential.instantiate()\n",
    "my_sequential"
   ]
  },
  {
   "cell_type": "code",
   "execution_count": 182,
   "metadata": {},
   "outputs": [],
   "source": [
    "# back to working with the function versions\n",
    "\n",
    "with ConfMode():\n",
    "    relu_zen_block = make_lazy_block(\n",
    "        activation=relu,\n",
    "        batch_norm=batch_norm,\n",
    "        )\n",
    "    sequential = make_sequential(\n",
    "        components=[\n",
    "            relu_zen_block,\n",
    "            relu_zen_block,\n",
    "            relu_zen_block,\n",
    "            ]\n",
    "        )"
   ]
  },
  {
   "cell_type": "code",
   "execution_count": 184,
   "metadata": {},
   "outputs": [],
   "source": [
    "instantiated_sequential = launch(\n",
    "    sequential, \n",
    "    launch_and_instantiate, \n",
    "    # overrides=['components.0.out_features=6',],\n",
    "    ).return_value"
   ]
  },
  {
   "cell_type": "code",
   "execution_count": 185,
   "metadata": {},
   "outputs": [
    {
     "data": {
      "text/plain": [
       "Sequential(\n",
       "  (0): Sequential(\n",
       "    (0): Dropout(p=0.0, inplace=False)\n",
       "    (1): LazyLinear(in_features=0, out_features=1, bias=True)\n",
       "    (2): ReLU()\n",
       "    (3): Dropout(p=0.0, inplace=False)\n",
       "    (4): BatchNorm1d(1, eps=1e-05, momentum=0.1, affine=True, track_running_stats=True)\n",
       "  )\n",
       "  (1): Sequential(\n",
       "    (0): Dropout(p=0.0, inplace=False)\n",
       "    (1): LazyLinear(in_features=0, out_features=1, bias=True)\n",
       "    (2): ReLU()\n",
       "    (3): Dropout(p=0.0, inplace=False)\n",
       "    (4): BatchNorm1d(1, eps=1e-05, momentum=0.1, affine=True, track_running_stats=True)\n",
       "  )\n",
       "  (2): Sequential(\n",
       "    (0): Dropout(p=0.0, inplace=False)\n",
       "    (1): LazyLinear(in_features=0, out_features=1, bias=True)\n",
       "    (2): ReLU()\n",
       "    (3): Dropout(p=0.0, inplace=False)\n",
       "    (4): BatchNorm1d(1, eps=1e-05, momentum=0.1, affine=True, track_running_stats=True)\n",
       "  )\n",
       ")"
      ]
     },
     "execution_count": 185,
     "metadata": {},
     "output_type": "execute_result"
    }
   ],
   "source": [
    "instantiated_sequential"
   ]
  },
  {
   "cell_type": "code",
   "execution_count": null,
   "metadata": {},
   "outputs": [],
   "source": [
    "class TimesX:\n",
    "    def __init__(self,x=1.0):\n",
    "        self.x = x\n",
    "    \n",
    "    def times(self,y=1.0):\n",
    "        return self.x*y\n",
    "\n",
    "class Times2X(TimesX):\n",
    "    def __init__(self,x=1.0):\n",
    "        super().__init__(2*x)\n"
   ]
  }
 ],
 "metadata": {
  "kernelspec": {
   "display_name": "newtricks",
   "language": "python",
   "name": "python3"
  },
  "language_info": {
   "codemirror_mode": {
    "name": "ipython",
    "version": 3
   },
   "file_extension": ".py",
   "mimetype": "text/x-python",
   "name": "python",
   "nbconvert_exporter": "python",
   "pygments_lexer": "ipython3",
   "version": "3.8.5"
  },
  "orig_nbformat": 4,
  "vscode": {
   "interpreter": {
    "hash": "f2b5ce3424cfe828ef4e1c95261b27483fb5e8064e6ac1b9427b271ef41a820d"
   }
  }
 },
 "nbformat": 4,
 "nbformat_minor": 2
}
